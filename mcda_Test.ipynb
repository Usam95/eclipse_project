{
 "cells": [
  {
   "cell_type": "code",
   "execution_count": 10,
   "metadata": {},
   "outputs": [],
   "source": [
    "import pandas as pd\n",
    "import numpy as np\n",
    "import fxcmpy\n",
    "import time\n",
    "from datetime import datetime\n",
    "import matplotlib.pyplot as plt\n",
    "plt.style.use(\"seaborn\")\n",
    "\n",
    "from strategies.MACDBacktester import MACDBacktester as MACDTester\n",
    "\n",
    "class MACDTrader():\n",
    "    \n",
    "    def __init__(self, instrument, bar_length, EMA_S, EMA_L, signal_mw, units):\n",
    "        self.instrument = instrument\n",
    "        self.bar_length = pd.to_timedelta(bar_length) \n",
    "        self.tick_data = None\n",
    "        self.raw_data = None\n",
    "        self.data = None \n",
    "        self.ticks = 0\n",
    "        self.last_bar = None  \n",
    "        self.units = units\n",
    "        self.position = 0\n",
    "        self.tc = 0.00007\n",
    "        #*****************add strategy-specific attributes here******************\n",
    "        self.EMA_S = EMA_S\n",
    "        self.EMA_L = EMA_L\n",
    "        self.signal_mw = signal_mw\n",
    "        #************************************************************************        \n",
    "        self.api = None\n",
    "    def connect(self):\n",
    "        self.api = fxcmpy.fxcmpy(config_file= \"fxcm.cfg\")\n",
    "\n",
    "    def compute_optimal_parameters(self):\n",
    "        df = self.raw_data.copy()\n",
    "        df[\"Close\"] = df[self.instrument]\n",
    "        macdTester = MACDTester(self.instrument, df, self.EMA_S, self.EMA_L, self.signal_mw, self.tc)\n",
    "        macdTester.optimize_parameters((5,20,1), (21,50,1), (5,20,1))\n",
    "        print(\"MACD Test Results: \",macdTester.test_strategy())\n",
    "        parameters =  macdTester.get_parameters()\n",
    "        self.EMA_S = parameters[0]\n",
    "        self.EMA_L = parameters[1]\n",
    "        self.signal_mw = parameters[2]\n",
    "        print(\"MACD parameters: \", parameters)\n",
    "        self.EMA_S, self.EMA_L, self.signal_mw = macdTester.get_parameters()\n",
    "                        \n",
    "    def get_most_recent(self, period = \"m5\", number = 10000):\n",
    "        while True:  \n",
    "            time.sleep(10)\n",
    "            df = self.api.get_candles(self.instrument, number = number, period = period, columns = [\"bidclose\", \"askclose\"])\n",
    "            df[self.instrument] = (df.bidclose + df.askclose) / 2\n",
    "            df = df[self.instrument].to_frame()\n",
    "            df = df.resample(self.bar_length, label = \"right\").last().dropna().iloc[:-1]\n",
    "            self.raw_data = df.copy()\n",
    "            self.last_bar = self.raw_data.index[-1]\n",
    "            if pd.to_datetime(datetime.utcnow()) - self.last_bar < self.bar_length:\n",
    "                #self.compute_optimal_parameters()\n",
    "                break\n",
    "    \n",
    "    def get_tick_data(self, data, dataframe):\n",
    "        \n",
    "        self.ticks += 1\n",
    "        print(self.ticks, end = \" \")\n",
    "        \n",
    "        recent_tick = pd.to_datetime(data[\"Updated\"], unit = \"ms\")\n",
    "        \n",
    "        # if a time longer than the bar_lenght has elapsed between last full bar and the most recent tick\n",
    "        if recent_tick - self.last_bar > self.bar_length:\n",
    "            self.tick_data = dataframe.loc[self.last_bar:, [\"Bid\", \"Ask\"]]\n",
    "            self.tick_data[self.instrument] = (self.tick_data.Ask + self.tick_data.Bid)/2\n",
    "            self.tick_data = self.tick_data[self.instrument].to_frame()\n",
    "            self.resample_and_join()\n",
    "            self.define_strategy() \n",
    "            self.execute_trades()\n",
    "            \n",
    "    def resample_and_join(self):\n",
    "        self.raw_data = self.raw_data.append(self.tick_data.resample(self.bar_length, \n",
    "                                                             label=\"right\").last().ffill().iloc[:-1])\n",
    "        self.last_bar = self.raw_data.index[-1]  \n",
    "        \n",
    "    def define_strategy(self): # \"strategy-specific\"\n",
    "        df = self.raw_data.copy()\n",
    "        \n",
    "        #******************** define your strategy here ************************\n",
    "\n",
    "        df[\"EMA_S\"] = df[self.instrument].ewm(span = self.EMA_S, min_periods = self.EMA_S).mean()            \n",
    "        df[\"EMA_L\"] = df[self.instrument].ewm(span = self.EMA_L, min_periods = self.EMA_L).mean()\n",
    "        df[\"MACD\"] = df.EMA_S - df.EMA_L            \n",
    "        df[\"MACD_Signal\"] = df.MACD.ewm(span = self.signal_mw, min_periods = self.signal_mw).mean()\n",
    "        df[\"position\"] = np.where(df[\"MACD\"] > df[\"MACD_Signal\"], 1, 0)\n",
    "        df.dropna(inplace = True)\n",
    "        #***********************************************************************\n",
    "        \n",
    "        self.data = df.copy()\n",
    "    \n",
    "    def execute_trades(self):\n",
    "        \n",
    "            order_info = {}\n",
    "            target_profit = 1.05\n",
    "            stop_loss = 0.95            \n",
    "            close = self.tick_data[self.instrument].iloc[-1]\n",
    "            if len(order_info) > 0:\n",
    "                target_profit_price = order_info[\"target_profit\"]\n",
    "                stop_loss_price = order_info[\"stop_loss\"]\n",
    "                buy_price = order_info[\"buy_price\"]\n",
    "             \n",
    "                if close > target_profit_price:\n",
    "                    print(f\"SELL: Target Profit hit || bought_price: {buy_price}, target profit: {target_profit_price}\")\n",
    "                    order = self.api.create_market_sell_order(self.instrument, self.units)\n",
    "                    self.report_trade(order, \"GOING SHORT\")  # go short with full amount\n",
    "                    self.position = 0 # short position\n",
    "                    order_info = {}\n",
    "                elif close < stop_loss_price:\n",
    "                    print(f\"SELL: Stop Loss hit || bought_price: {buy_price}, stop loss: {stop_loss_price}\")\n",
    "                    order = self.api.create_market_buy_order(self.instrument, self.units)\n",
    "                    self.report_trade(order, \"GOING LONG\") # go short with full amount\n",
    "                    self.position = 0 # short position\n",
    "                    order_info = {}\n",
    "                           \n",
    "            elif self.data[\"position\"].iloc[-1] == 1: # signal to go long\n",
    "                if self.position == 0:\n",
    "                    order = self.api.create_market_buy_order(self.instrument, self.units)\n",
    "                    self.report_trade(order, \"GOING LONG\")# go long with full amount\n",
    "                    self.position = 1  # long position\n",
    "                    \n",
    "                    stop_loss_price = 0\n",
    "                    target_profit_price = 0\n",
    "                    \n",
    "                    stop_loss_price = close * stop_loss\n",
    "                    target_profit_price = close * target_profit\n",
    "                    \n",
    "                    order_info[\"buy_price\"] = close\n",
    "                    order_info[\"target_profit\"] = target_profit_price\n",
    "                    order_info[\"stop_loss\"] = stop_loss_price\n",
    "                    print(f\"Stop loss: {stop_loss_price}\")\n",
    "                    print(f\"Target: {target_profit_price}\")\n",
    "                    \n",
    "            elif self.data[\"position\"].iloc[-1] == 0: # signal to go short\n",
    "                if self.position == 1:\n",
    "                    order = self.api.create_market_sell_order(self.instrument, self.units)\n",
    "                    self.report_trade(order, \"GOING SHORT\") \n",
    "                    self.position = 0 # short position\n",
    "                    order_info = {}\n",
    "                    \n",
    "\n",
    "    def report_trade(self, order, going):\n",
    "        time = order.get_time()\n",
    "        units = self.api.get_open_positions().amountK.iloc[-1]\n",
    "        price = self.api.get_open_positions().open.iloc[-1]\n",
    "        unreal_pl = self.api.get_open_positions().grossPL.sum()\n",
    "        print(\"\\n\" + 100* \"-\")\n",
    "        print(\"{} | {}\".format(time, going))\n",
    "        print(\"{} | units = {} | price = {} | Unreal. P&L = {}\".format(time, units, price, unreal_pl))\n",
    "        print(100 * \"-\" + \"\\n\")\n",
    "    "
   ]
  },
  {
   "cell_type": "code",
   "execution_count": 11,
   "metadata": {},
   "outputs": [],
   "source": [
    "instrument = \"ETH/USD\"\n",
    "bar_size = \"5min\"\n",
    "ema_s = 19\n",
    "ema_l = 23\n",
    "signal = 10\n",
    "\n",
    "trader = MACDTrader(instrument, bar_size, ema_s, ema_l, signal, 1)"
   ]
  },
  {
   "cell_type": "code",
   "execution_count": 12,
   "metadata": {},
   "outputs": [],
   "source": [
    "trader.api = fxcmpy.fxcmpy(config_file= \"fxcm.cfg\")"
   ]
  },
  {
   "cell_type": "code",
   "execution_count": 13,
   "metadata": {},
   "outputs": [
    {
     "data": {
      "text/plain": [
       "True"
      ]
     },
     "execution_count": 13,
     "metadata": {},
     "output_type": "execute_result"
    }
   ],
   "source": [
    "trader.api.is_connected()"
   ]
  },
  {
   "cell_type": "code",
   "execution_count": 14,
   "metadata": {},
   "outputs": [],
   "source": [
    "trader.get_most_recent()"
   ]
  },
  {
   "cell_type": "code",
   "execution_count": 15,
   "metadata": {},
   "outputs": [
    {
     "name": "stdout",
     "output_type": "stream",
     "text": [
      "1 2 3 4 5 6 7 8 9 10 11 12 13 14 15 16 17 18 19 20 21 22 23 24 25 26 \n",
      "----------------------------------------------------------------------------------------------------\n",
      "2021-11-11 20:30:03.790000 | GOING LONG\n",
      "2021-11-11 20:30:03.790000 | units = 0.001 | price = 4750.15 | Unreal. P&L = -65.05286\n",
      "----------------------------------------------------------------------------------------------------\n",
      "\n",
      "Stop loss: 4510.5525\n",
      "Target: 4985.3475\n",
      "27 28 29 30 31 32 33 34 35 36 37 38 39 40 41 42 43 44 45 46 47 48 49 50 51 52 53 54 55 56 57 58 59 60 61 62 63 64 65 66 67 \n",
      "----------------------------------------------------------------------------------------------------\n",
      "2021-11-11 20:35:13.685000 | GOING SHORT\n",
      "2021-11-11 20:35:13.685000 | units = 0.001 | price = 4743.15 | Unreal. P&L = -67.26944\n",
      "----------------------------------------------------------------------------------------------------\n",
      "\n",
      "68 69 70 71 72 73 74 75 76 77 78 79 80 81 82 83 84 85 86 87 88 89 90 91 92 93 94 95 96 97 98 99 100 101 102 103 104 105 106 107 108 109 110 111 112 113 114 115 116 117 118 119 120 121 122 123 124 125 126 127 128 129 130 131 132 133 134 135 136 137 138 139 140 141 142 143 144 145 146 147 148 149 150 151 152 153 154 155 156 157 158 159 160 161 162 163 164 165 166 167 168 169 170 171 172 173 174 175 176 177 178 179 180 181 182 183 184 185 186 187 188 189 190 191 192 193 194 195 196 197 198 199 200 201 202 203 204 205 206 207 208 209 210 211 212 213 214 215 216 217 218 219 220 221 222 223 224 225 226 227 228 229 230 231 232 233 234 235 236 237 238 239 240 241 242 243 244 245 246 247 248 249 250 251 252 253 254 255 256 257 258 259 260 261 262 263 264 265 266 267 268 269 270 271 272 273 274 275 276 277 278 279 280 281 282 283 284 285 286 287 288 289 290 291 292 293 294 295 296 297 298 299 300 301 302 303 304 305 306 307 308 309 310 311 312 313 314 315 316 317 318 319 320 321 322 323 324 325 326 327 328 329 330 331 332 333 334 335 336 337 338 339 340 341 342 343 344 345 346 347 348 349 350 351 352 353 354 355 356 357 358 359 360 361 362 363 364 365 366 367 368 369 370 371 372 373 374 375 376 377 378 379 380 381 382 383 384 385 386 387 388 389 390 391 392 393 394 395 396 397 398 399 400 401 402 403 404 405 406 407 408 409 410 411 412 413 414 415 416 417 418 419 420 421 422 423 424 425 426 427 428 429 430 431 432 433 434 435 436 437 438 439 440 441 442 443 444 445 446 447 448 449 450 451 452 453 454 455 456 457 458 459 460 461 462 463 464 465 466 467 468 469 470 471 472 473 474 475 476 477 478 479 480 481 482 483 484 485 486 487 488 489 490 491 492 493 494 495 496 497 498 499 500 501 502 503 504 505 506 507 508 509 510 511 512 513 514 515 516 517 518 519 520 521 522 523 524 525 526 527 528 529 530 531 532 533 534 535 536 537 538 539 540 541 542 543 544 545 546 547 548 549 550 551 552 553 554 555 556 557 558 559 560 561 562 563 564 565 566 567 568 569 570 571 572 573 574 575 576 577 578 579 580 581 582 583 584 585 586 587 588 589 590 591 592 593 594 595 596 597 598 599 600 601 602 603 604 605 606 607 608 609 610 611 612 613 614 615 616 617 618 619 620 621 622 623 624 625 626 627 628 629 630 631 632 633 634 635 636 637 638 639 640 641 642 643 644 645 646 647 648 649 650 651 652 653 654 655 656 657 658 659 660 661 662 663 664 665 666 667 668 669 670 671 672 673 674 675 676 677 678 679 680 681 682 683 684 685 686 687 688 689 690 691 692 693 694 695 696 697 698 699 700 701 702 703 704 705 706 707 708 709 710 711 712 713 714 715 716 717 718 719 720 721 722 723 724 725 726 727 728 729 730 731 732 733 734 735 736 737 738 739 740 741 742 743 744 745 746 747 748 749 750 751 752 753 754 755 756 757 758 759 760 761 762 763 764 765 766 767 768 769 770 771 772 773 774 775 776 777 778 779 780 781 782 783 784 785 786 787 788 789 790 791 792 793 794 795 796 797 798 799 800 801 802 803 804 805 806 807 808 809 810 811 812 813 814 815 816 817 818 819 820 821 822 823 824 825 826 827 828 829 830 831 832 833 834 835 836 837 838 839 840 841 842 843 844 845 846 847 848 849 850 851 852 853 854 855 856 857 858 859 860 861 862 863 864 865 866 867 868 869 870 871 872 873 874 875 876 877 878 879 880 881 882 883 884 885 886 887 888 889 890 891 892 893 894 895 896 897 898 899 900 901 902 903 904 905 906 907 908 909 910 911 912 913 914 915 916 917 918 919 920 921 922 923 924 925 926 927 928 929 930 931 932 933 934 935 936 937 938 939 940 941 942 943 944 945 946 947 948 949 "
     ]
    },
    {
     "name": "stderr",
     "output_type": "stream",
     "text": [
      "Exception in thread Thread-198599:\n",
      "Traceback (most recent call last):\n",
      "  File \"/usr/local/Cellar/python@3.8/3.8.11/Frameworks/Python.framework/Versions/3.8/lib/python3.8/threading.py\", line 932, in _bootstrap_inner\n",
      "    self.run()\n",
      "  File \"/usr/local/Cellar/python@3.8/3.8.11/Frameworks/Python.framework/Versions/3.8/lib/python3.8/threading.py\", line 870, in run\n",
      "    self._target(*self._args, **self._kwargs)\n",
      "  File \"/usr/local/lib/python3.8/site-packages/socketio/client.py\", line 616, in _handle_eio_message\n",
      "    self._handle_event(pkt.namespace, pkt.id, pkt.data)\n",
      "  File \"/usr/local/lib/python3.8/site-packages/socketio/client.py\", line 500, in _handle_event\n",
      "    r = self._trigger_event(data[0], namespace, *data[1:])\n",
      "  File \"/usr/local/lib/python3.8/site-packages/socketio/client.py\", line 550, in _trigger_event\n",
      "    return self.handlers[namespace][event](*args)\n",
      "  File \"/usr/local/lib/python3.8/site-packages/fxcmpy/fxcmpy.py\", line 2555, in __on_price_update__\n",
      "    callbacks[func](data, self.prices[symbol])\n",
      "  File \"<ipython-input-10-baed4c2427f8>\", line 73, in get_tick_data\n",
      "  File \"<ipython-input-10-baed4c2427f8>\", line 122, in execute_trades\n",
      "  File \"<ipython-input-10-baed4c2427f8>\", line 146, in report_trade\n",
      "AttributeError: 'int' object has no attribute 'get_time'\n"
     ]
    },
    {
     "name": "stdout",
     "output_type": "stream",
     "text": [
      "950 951 952 953 954 955 956 957 958 959 960 961 962 963 964 965 966 967 968 969 970 971 972 973 974 975 976 977 978 979 980 981 982 983 984 985 986 987 988 989 990 991 992 993 994 995 996 997 998 999 1000 1001 1002 1003 1004 1005 1006 1007 1008 1009 1010 1011 1012 1013 1014 1015 1016 1017 1018 1019 1020 1021 1022 1023 1024 1025 1026 1027 1028 "
     ]
    }
   ],
   "source": [
    "trader.api.subscribe_market_data(instrument, (trader.get_tick_data, ))"
   ]
  },
  {
   "cell_type": "code",
   "execution_count": null,
   "metadata": {},
   "outputs": [],
   "source": []
  },
  {
   "cell_type": "code",
   "execution_count": null,
   "metadata": {},
   "outputs": [],
   "source": [
    "#api.subscribe_market_data(instrument, (trader.get_tick_data, ))\n",
    "\n",
    "starttime = time.time()\n",
    "timeout = time.time() + 60*60*6\n",
    "while time.time() <= timeout:\n",
    "    time.sleep(900 - ((time.time() - starttime) % 900.0))\n",
    "    api.unsubscribe_market_data(instrument)\n"
   ]
  },
  {
   "cell_type": "code",
   "execution_count": null,
   "metadata": {},
   "outputs": [],
   "source": [
    "trader.api.unsubscribe_market_data(instrument)\n"
   ]
  },
  {
   "cell_type": "code",
   "execution_count": 9,
   "metadata": {},
   "outputs": [],
   "source": [
    "trader.api.close()"
   ]
  },
  {
   "cell_type": "code",
   "execution_count": null,
   "metadata": {},
   "outputs": [],
   "source": []
  }
 ],
 "metadata": {
  "kernelspec": {
   "display_name": "Python 3",
   "language": "python",
   "name": "python3"
  },
  "language_info": {
   "codemirror_mode": {
    "name": "ipython",
    "version": 3
   },
   "file_extension": ".py",
   "mimetype": "text/x-python",
   "name": "python",
   "nbconvert_exporter": "python",
   "pygments_lexer": "ipython3",
   "version": "3.8.11"
  }
 },
 "nbformat": 4,
 "nbformat_minor": 4
}
