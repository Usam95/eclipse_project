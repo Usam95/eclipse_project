{
 "cells": [
  {
   "cell_type": "code",
   "execution_count": 12,
   "metadata": {},
   "outputs": [],
   "source": [
    "import pandas as pd\n",
    "import numpy as np\n",
    "import fxcmpy\n",
    "import time\n",
    "from datetime import datetime\n",
    "import matplotlib.pyplot as plt\n",
    "plt.style.use(\"seaborn\")\n",
    "\n",
    "from strategies.MACDBacktester import MACDBacktester as MACDTester\n",
    "\n",
    "class MACDTrader():\n",
    "    \n",
    "    def __init__(self, instrument, bar_length, EMA_S, EMA_L, signal_mw, units):\n",
    "        self.instrument = instrument\n",
    "        self.bar_length = pd.to_timedelta(bar_length) \n",
    "        self.tick_data = None\n",
    "        self.raw_data = None\n",
    "        self.data = None \n",
    "        self.ticks = 0\n",
    "        self.last_bar = None  \n",
    "        self.units = units\n",
    "        self.position = 0\n",
    "        self.tc = 0.00007\n",
    "        #*****************add strategy-specific attributes here******************\n",
    "        self.EMA_S = EMA_S\n",
    "        self.EMA_L = EMA_L\n",
    "        self.signal_mw = signal_mw\n",
    "        #************************************************************************        \n",
    "        self.api = None\n",
    "    def connect(self):\n",
    "        self.api = fxcmpy.fxcmpy(config_file= \"fxcm.cfg\")\n",
    "\n",
    "    def compute_optimal_parameters(self):\n",
    "        df = self.raw_data.copy()\n",
    "        df[\"Close\"] = df[self.instrument]\n",
    "        macdTester = MACDTester(self.instrument, df, self.EMA_S, self.EMA_L, self.signal_mw, self.tc)\n",
    "        macdTester.optimize_parameters((5,20,1), (21,50,1), (5,20,1))\n",
    "        print(\"MACD Test Results: \",macdTester.test_strategy())\n",
    "        parameters =  macdTester.get_parameters()\n",
    "        self.EMA_S = parameters[0]\n",
    "        self.EMA_L = parameters[1]\n",
    "        self.signal_mw = parameters[2]\n",
    "        print(\"MACD parameters: \", parameters)\n",
    "        self.EMA_S, self.EMA_L, self.signal_mw = macdTester.get_parameters()\n",
    "                        \n",
    "    def get_most_recent(self, period = \"m1\", number = 5000):\n",
    "        while True:  \n",
    "            time.sleep(10)\n",
    "            df = self.api.get_candles(self.instrument, number = number, period = period, columns = [\"bidclose\", \"askclose\"])\n",
    "            if len(df)==0: \n",
    "                print(\"ERRROR: no data was received on calling get_candles- Method..\")\n",
    "                return -1\n",
    "            df[self.instrument] = (df.bidclose + df.askclose) / 2\n",
    "            df = df[self.instrument].to_frame()\n",
    "            df = df.resample(self.bar_length, label = \"right\").last().dropna().iloc[:-1]\n",
    "            self.raw_data = df.copy()\n",
    "            self.last_bar = self.raw_data.index[-1]\n",
    "            if pd.to_datetime(datetime.utcnow()) - self.last_bar < self.bar_length:\n",
    "                #self.compute_optimal_parameters()\n",
    "                break\n",
    "    \n",
    "    def get_tick_data(self, data, dataframe):\n",
    "        \n",
    "        self.ticks += 1\n",
    "        print(self.ticks, end = \" \")\n",
    "        \n",
    "        recent_tick = pd.to_datetime(data[\"Updated\"], unit = \"ms\")\n",
    "        \n",
    "        # if a time longer than the bar_lenght has elapsed between last full bar and the most recent tick\n",
    "        if recent_tick - self.last_bar > self.bar_length:\n",
    "            self.tick_data = dataframe.loc[self.last_bar:, [\"Bid\", \"Ask\"]]\n",
    "            self.tick_data[self.instrument] = (self.tick_data.Ask + self.tick_data.Bid)/2\n",
    "            self.tick_data = self.tick_data[self.instrument].to_frame()\n",
    "            self.resample_and_join()\n",
    "            self.define_strategy() \n",
    "            self.execute_trades()\n",
    "            \n",
    "    def resample_and_join(self):\n",
    "        self.raw_data = self.raw_data.append(self.tick_data.resample(self.bar_length, \n",
    "                                                             label=\"right\").last().ffill().iloc[:-1])\n",
    "        self.last_bar = self.raw_data.index[-1]  \n",
    "        \n",
    "    def define_strategy(self): # \"strategy-specific\"\n",
    "        df = self.raw_data.copy()\n",
    "        \n",
    "        #******************** define your strategy here ************************\n",
    "\n",
    "        df[\"EMA_S\"] = df[self.instrument].ewm(span = self.EMA_S, min_periods = self.EMA_S).mean()            \n",
    "        df[\"EMA_L\"] = df[self.instrument].ewm(span = self.EMA_L, min_periods = self.EMA_L).mean()\n",
    "        df[\"MACD\"] = df.EMA_S - df.EMA_L            \n",
    "        df[\"MACD_Signal\"] = df.MACD.ewm(span = self.signal_mw, min_periods = self.signal_mw).mean()\n",
    "        df[\"position\"] = np.where(df[\"MACD\"] > df[\"MACD_Signal\"], 1, 0)\n",
    "        df.dropna(inplace = True)\n",
    "        #***********************************************************************\n",
    "        \n",
    "        self.data = df.copy()\n",
    "    \n",
    "    def execute_trades(self):\n",
    "        \n",
    "            order_info = {}\n",
    "            target_profit = 1.05\n",
    "            stop_loss = 0.95            \n",
    "            close = self.tick_data[self.instrument].iloc[-1]\n",
    "            if len(order_info) > 0:\n",
    "                target_profit_price = order_info[\"target_profit\"]\n",
    "                stop_loss_price = order_info[\"stop_loss\"]\n",
    "                buy_price = order_info[\"buy_price\"]\n",
    "             \n",
    "                if close > target_profit_price:\n",
    "                    print(f\"SELL: Target Profit hit || bought_price: {buy_price}, target profit: {target_profit_price}\")\n",
    "                    order = self.api.create_market_sell_order(self.instrument, self.units)\n",
    "                    self.report_trade(order, \"GOING SHORT\")  # go short with full amount\n",
    "                    self.position = 0 # short position\n",
    "                    order_info = {}\n",
    "                elif close < stop_loss_price:\n",
    "                    print(f\"SELL: Stop Loss hit || bought_price: {buy_price}, stop loss: {stop_loss_price}\")\n",
    "                    order = self.api.create_market_buy_order(self.instrument, self.units)\n",
    "                    self.report_trade(order, \"GOING LONG\") # go short with full amount\n",
    "                    self.position = 0 # short position\n",
    "                    order_info = {}\n",
    "                           \n",
    "            elif self.data[\"position\"].iloc[-1] == 1: # signal to go long\n",
    "                if self.position == 0:\n",
    "                    order = self.api.create_market_buy_order(self.instrument, self.units)\n",
    "                    self.report_trade(order, \"GOING LONG\")# go long with full amount\n",
    "                    self.position = 1  # long position\n",
    "                    \n",
    "                    stop_loss_price = 0\n",
    "                    target_profit_price = 0\n",
    "                    \n",
    "                    stop_loss_price = close * stop_loss\n",
    "                    target_profit_price = close * target_profit\n",
    "                    \n",
    "                    order_info[\"buy_price\"] = close\n",
    "                    order_info[\"target_profit\"] = target_profit_price\n",
    "                    order_info[\"stop_loss\"] = stop_loss_price\n",
    "                    print(f\"Stop loss: {stop_loss_price}\")\n",
    "                    print(f\"Target: {target_profit_price}\")\n",
    "                    \n",
    "            elif self.data[\"position\"].iloc[-1] == 0: # signal to go short\n",
    "                if self.position == 1:\n",
    "                    order = self.api.create_market_sell_order(self.instrument, self.units)\n",
    "                    self.report_trade(order, \"GOING SHORT\") \n",
    "                    self.position = 0 # short position\n",
    "                    order_info = {}\n",
    "                    \n",
    "\n",
    "    def report_trade(self, order, going):\n",
    "        time = order.get_time()\n",
    "        units = self.api.get_open_positions().amountK.iloc[-1]\n",
    "        price = self.api.get_open_positions().open.iloc[-1]\n",
    "        unreal_pl = self.api.get_open_positions().grossPL.sum()\n",
    "        print(\"\\n\" + 100* \"-\")\n",
    "        print(\"{} | {}\".format(time, going))\n",
    "        print(\"{} | units = {} | price = {} | Unreal. P&L = {}\".format(time, units, price, unreal_pl))\n",
    "        print(100 * \"-\" + \"\\n\")\n",
    "    "
   ]
  },
  {
   "cell_type": "code",
   "execution_count": 14,
   "metadata": {},
   "outputs": [],
   "source": [
    "instrument = \"ETH/USD\"\n",
    "bar_size = \"1min\"\n",
    "ema_s = 19\n",
    "ema_l = 23\n",
    "signal = 10\n",
    "\n",
    "trader = MACDTrader(instrument, bar_size, ema_s, ema_l, signal, 1)"
   ]
  },
  {
   "cell_type": "code",
   "execution_count": 20,
   "metadata": {},
   "outputs": [],
   "source": [
    "\"trader.api = fxcmpy.fxcmpy(config_file= \"fxcm.cfg\")\""
   ]
  },
  {
   "cell_type": "code",
   "execution_count": 21,
   "metadata": {},
   "outputs": [
    {
     "data": {
      "text/plain": [
       "True"
      ]
     },
     "execution_count": 21,
     "metadata": {},
     "output_type": "execute_result"
    }
   ],
   "source": [
    "trader.api.is_connected()"
   ]
  },
  {
   "cell_type": "code",
   "execution_count": 17,
   "metadata": {},
   "outputs": [
    {
     "name": "stdout",
     "output_type": "stream",
     "text": [
      "ERRROR: no data was received on calling get_candles- Method..\n"
     ]
    }
   ],
   "source": [
    "ret= trader.get_most_recent()\n",
    "if ret == -1: \n",
    "    trader.api.close()"
   ]
  },
  {
   "cell_type": "code",
   "execution_count": 22,
   "metadata": {},
   "outputs": [],
   "source": [
    "trader.api.subscribe_market_data(instrument, (trader.get_tick_data, ))"
   ]
  },
  {
   "cell_type": "code",
   "execution_count": null,
   "metadata": {},
   "outputs": [],
   "source": []
  },
  {
   "cell_type": "code",
   "execution_count": null,
   "metadata": {},
   "outputs": [],
   "source": [
    "#api.subscribe_market_data(instrument, (trader.get_tick_data, ))\n",
    "\n",
    "starttime = time.time()\n",
    "timeout = time.time() + 60*60*6\n",
    "while time.time() <= timeout:\n",
    "    time.sleep(900 - ((time.time() - starttime) % 900.0))\n",
    "    api.unsubscribe_market_data(instrument)\n"
   ]
  },
  {
   "cell_type": "code",
   "execution_count": null,
   "metadata": {},
   "outputs": [],
   "source": [
    "trader.api.unsubscribe_market_data(instrument)\n"
   ]
  },
  {
   "cell_type": "code",
   "execution_count": 23,
   "metadata": {},
   "outputs": [],
   "source": [
    "trader.api.close()"
   ]
  },
  {
   "cell_type": "code",
   "execution_count": null,
   "metadata": {},
   "outputs": [],
   "source": []
  },
  {
   "cell_type": "code",
   "execution_count": null,
   "metadata": {},
   "outputs": [],
   "source": []
  }
 ],
 "metadata": {
  "kernelspec": {
   "display_name": "Python 3",
   "language": "python",
   "name": "python3"
  },
  "language_info": {
   "codemirror_mode": {
    "name": "ipython",
    "version": 3
   },
   "file_extension": ".py",
   "mimetype": "text/x-python",
   "name": "python",
   "nbconvert_exporter": "python",
   "pygments_lexer": "ipython3",
   "version": "3.8.11"
  }
 },
 "nbformat": 4,
 "nbformat_minor": 4
}
