{
 "cells": [
  {
   "cell_type": "markdown",
   "metadata": {},
   "source": [
    "# First Steps with the FXCM API"
   ]
  },
  {
   "cell_type": "markdown",
   "metadata": {},
   "source": [
    "## Connecting to the API / Server"
   ]
  },
  {
   "cell_type": "code",
   "execution_count": 1,
   "metadata": {},
   "outputs": [],
   "source": [
    "import pandas as pd\n",
    "import fxcmpy"
   ]
  },
  {
   "cell_type": "code",
   "execution_count": 2,
   "metadata": {},
   "outputs": [
    {
     "name": "stdout",
     "output_type": "stream",
     "text": [
      "engineio version:  3.13.0\n",
      "socketio version:  4.6.0\n",
      "fxcmpy version:  1.2.9\n"
     ]
    }
   ],
   "source": [
    "import engineio\n",
    "import socketio\n",
    "import fxcmpy\n",
    "\n",
    "print(f\"engineio version:  {engineio.__version__}\")\n",
    "print(f\"socketio version:  {socketio.__version__}\")\n",
    "print(f\"fxcmpy version:  {fxcmpy.__version__}\")"
   ]
  },
  {
   "cell_type": "code",
   "execution_count": 3,
   "metadata": {},
   "outputs": [
    {
     "name": "stderr",
     "output_type": "stream",
     "text": [
      "|WARNING|2021-11-07 11:16:58,818|Default account set to 1307575, to change use set_default_account().\n"
     ]
    }
   ],
   "source": [
    "#api = fxcmpy.fxcmpy(config_file= \"fxcm.cfg\")\n",
    "#server='demo'\n",
    "api = fxcmpy.fxcmpy(access_token=\"57e620bb8e7cf67b7b515488ac1281016a3a21d4\", )"
   ]
  },
  {
   "cell_type": "code",
   "execution_count": null,
   "metadata": {},
   "outputs": [],
   "source": [
    "api."
   ]
  },
  {
   "cell_type": "code",
   "execution_count": 4,
   "metadata": {},
   "outputs": [
    {
     "data": {
      "text/html": [
       "<div>\n",
       "<style scoped>\n",
       "    .dataframe tbody tr th:only-of-type {\n",
       "        vertical-align: middle;\n",
       "    }\n",
       "\n",
       "    .dataframe tbody tr th {\n",
       "        vertical-align: top;\n",
       "    }\n",
       "\n",
       "    .dataframe thead th {\n",
       "        text-align: right;\n",
       "    }\n",
       "</style>\n",
       "<table border=\"1\" class=\"dataframe\">\n",
       "  <thead>\n",
       "    <tr style=\"text-align: right;\">\n",
       "      <th></th>\n",
       "      <th>t</th>\n",
       "      <th>ratePrecision</th>\n",
       "      <th>accountId</th>\n",
       "      <th>balance</th>\n",
       "      <th>usdMr</th>\n",
       "      <th>mc</th>\n",
       "      <th>mcDate</th>\n",
       "      <th>accountName</th>\n",
       "      <th>usdMr3</th>\n",
       "      <th>hedging</th>\n",
       "      <th>usableMargin3</th>\n",
       "      <th>usableMarginPerc</th>\n",
       "      <th>usableMargin3Perc</th>\n",
       "      <th>equity</th>\n",
       "      <th>usableMargin</th>\n",
       "      <th>bus</th>\n",
       "      <th>dayPL</th>\n",
       "      <th>grossPL</th>\n",
       "    </tr>\n",
       "  </thead>\n",
       "  <tbody>\n",
       "    <tr>\n",
       "      <th>0</th>\n",
       "      <td>6</td>\n",
       "      <td>0</td>\n",
       "      <td>1307575</td>\n",
       "      <td>50000</td>\n",
       "      <td>0</td>\n",
       "      <td>N</td>\n",
       "      <td></td>\n",
       "      <td>01307575</td>\n",
       "      <td>0</td>\n",
       "      <td>Y</td>\n",
       "      <td>50000</td>\n",
       "      <td>100</td>\n",
       "      <td>100</td>\n",
       "      <td>50000</td>\n",
       "      <td>50000</td>\n",
       "      <td>1000</td>\n",
       "      <td>0</td>\n",
       "      <td>0</td>\n",
       "    </tr>\n",
       "  </tbody>\n",
       "</table>\n",
       "</div>"
      ],
      "text/plain": [
       "   t  ratePrecision accountId  balance  usdMr mc mcDate accountName  usdMr3  \\\n",
       "0  6              0   1307575    50000      0  N           01307575       0   \n",
       "\n",
       "  hedging  usableMargin3  usableMarginPerc  usableMargin3Perc  equity  \\\n",
       "0       Y          50000               100                100   50000   \n",
       "\n",
       "   usableMargin   bus  dayPL  grossPL  \n",
       "0         50000  1000      0        0  "
      ]
     },
     "execution_count": 4,
     "metadata": {},
     "output_type": "execute_result"
    }
   ],
   "source": [
    "api.get_accounts()"
   ]
  },
  {
   "cell_type": "code",
   "execution_count": 5,
   "metadata": {},
   "outputs": [
    {
     "data": {
      "text/plain": [
       "[1307575]"
      ]
     },
     "execution_count": 5,
     "metadata": {},
     "output_type": "execute_result"
    }
   ],
   "source": [
    "api.get_account_ids()"
   ]
  },
  {
   "cell_type": "code",
   "execution_count": null,
   "metadata": {
    "scrolled": false
   },
   "outputs": [],
   "source": [
    "#api.get_instruments()"
   ]
  },
  {
   "cell_type": "code",
   "execution_count": 6,
   "metadata": {},
   "outputs": [
    {
     "data": {
      "text/plain": [
       "['EUR/USD',\n",
       " 'USD/JPY',\n",
       " 'GBP/USD',\n",
       " 'USD/CHF',\n",
       " 'EUR/CHF',\n",
       " 'AUD/USD',\n",
       " 'USD/CAD',\n",
       " 'NZD/USD',\n",
       " 'EUR/GBP',\n",
       " 'EUR/JPY',\n",
       " 'GBP/JPY',\n",
       " 'CHF/JPY',\n",
       " 'GBP/CHF',\n",
       " 'EUR/AUD',\n",
       " 'EUR/CAD',\n",
       " 'AUD/CAD',\n",
       " 'AUD/JPY',\n",
       " 'CAD/JPY',\n",
       " 'NZD/JPY',\n",
       " 'GBP/CAD',\n",
       " 'GBP/NZD',\n",
       " 'GBP/AUD',\n",
       " 'AUD/NZD',\n",
       " 'USD/SEK',\n",
       " 'EUR/SEK',\n",
       " 'EUR/NOK',\n",
       " 'USD/NOK',\n",
       " 'USD/MXN',\n",
       " 'AUD/CHF',\n",
       " 'EUR/NZD',\n",
       " 'USD/ZAR',\n",
       " 'USD/HKD',\n",
       " 'ZAR/JPY',\n",
       " 'USD/TRY',\n",
       " 'EUR/TRY',\n",
       " 'NZD/CHF',\n",
       " 'CAD/CHF',\n",
       " 'NZD/CAD',\n",
       " 'TRY/JPY',\n",
       " 'USD/ILS',\n",
       " 'USD/CNH',\n",
       " 'AUS200',\n",
       " 'ESP35',\n",
       " 'FRA40',\n",
       " 'GER30',\n",
       " 'HKG33',\n",
       " 'JPN225',\n",
       " 'NAS100',\n",
       " 'SPX500',\n",
       " 'UK100',\n",
       " 'US30',\n",
       " 'Copper',\n",
       " 'CHN50',\n",
       " 'EUSTX50',\n",
       " 'VOLX',\n",
       " 'USDOLLAR',\n",
       " 'US2000',\n",
       " 'INDIA50',\n",
       " 'USOil',\n",
       " 'UKOil',\n",
       " 'SOYF',\n",
       " 'NGAS',\n",
       " 'USOilSpot',\n",
       " 'UKOilSpot',\n",
       " 'WHEATF',\n",
       " 'CORNF',\n",
       " 'Bund',\n",
       " 'XAU/USD',\n",
       " 'XAG/USD',\n",
       " 'EMBasket',\n",
       " 'JPYBasket',\n",
       " 'BTC/USD',\n",
       " 'BCH/USD',\n",
       " 'ETH/USD',\n",
       " 'LTC/USD',\n",
       " 'CryptoMajor',\n",
       " 'EOS/USD',\n",
       " 'XLM/USD',\n",
       " 'ESPORTS',\n",
       " 'BIOTECH',\n",
       " 'CANNABIS',\n",
       " 'FAANG',\n",
       " 'CHN.TECH',\n",
       " 'CHN.ECOMM',\n",
       " 'USEquities',\n",
       " 'AIRLINES',\n",
       " 'CASINOS',\n",
       " 'TRAVEL',\n",
       " 'US.ECOMM',\n",
       " 'US.BANKS',\n",
       " 'US.AUTO',\n",
       " 'WFH',\n",
       " 'ATMX',\n",
       " '',\n",
       " '',\n",
       " 'BA.us',\n",
       " 'BAC.us',\n",
       " 'BRKB.us',\n",
       " 'C.us',\n",
       " 'CRM.us',\n",
       " 'DIS.us',\n",
       " 'F.us',\n",
       " 'JPM.us',\n",
       " 'KO.us',\n",
       " 'MA.us',\n",
       " 'MCD.us',\n",
       " 'PFE.us',\n",
       " 'PG.us',\n",
       " 'SE.us',\n",
       " 'T.us',\n",
       " 'TGT.us',\n",
       " 'V.us',\n",
       " 'XOM.us',\n",
       " 'AAPL.us',\n",
       " 'AMZN.us',\n",
       " 'BIDU.us',\n",
       " 'FB.us',\n",
       " 'GOOG.us',\n",
       " 'INTC.us',\n",
       " 'MSFT.us',\n",
       " 'SBUX.us',\n",
       " 'ACA.fr',\n",
       " 'AI.fr',\n",
       " 'ALO.fr',\n",
       " 'BN.fr',\n",
       " 'BNP.fr',\n",
       " 'CA.fr',\n",
       " 'DG.fr',\n",
       " 'AIR.fr',\n",
       " 'ORA.fr',\n",
       " 'GLE.fr',\n",
       " 'MC.fr',\n",
       " 'ML.fr',\n",
       " 'OR.fr',\n",
       " 'RNO.fr',\n",
       " 'SAN.fr',\n",
       " 'SGO.fr',\n",
       " 'SU.fr',\n",
       " 'VIE.fr',\n",
       " 'VIV.fr',\n",
       " 'ADS.de',\n",
       " 'ALV.de',\n",
       " 'BAS.de',\n",
       " 'BAYN.de',\n",
       " 'BMW.de',\n",
       " 'CON.de',\n",
       " 'DAI.de',\n",
       " 'DB1.de',\n",
       " 'DBK.de',\n",
       " 'DPW.de',\n",
       " 'DTE.de',\n",
       " 'EOAN.de',\n",
       " 'IFX.de',\n",
       " 'LHA.de',\n",
       " 'MRK.de',\n",
       " 'RWE.de',\n",
       " 'SAP.de',\n",
       " 'SIE.de',\n",
       " 'TUI1.de',\n",
       " 'VOW.de',\n",
       " 'AV.uk',\n",
       " 'AZN.uk',\n",
       " 'BA.uk',\n",
       " 'BARC.uk',\n",
       " 'BATS.uk',\n",
       " 'BP.uk',\n",
       " 'GSK.uk',\n",
       " 'HSBA.uk',\n",
       " 'IAG.uk',\n",
       " 'LGEN.uk',\n",
       " 'LLOY.uk',\n",
       " 'RR.uk',\n",
       " 'STAN.uk',\n",
       " 'TSCO.uk',\n",
       " 'VOD.uk',\n",
       " 'BABA.us',\n",
       " 'DAL.us',\n",
       " 'NFLX.us',\n",
       " 'TSLA.us',\n",
       " 'GLEN.uk',\n",
       " 'RDSB.uk',\n",
       " 'TTE.fr',\n",
       " 'ENGI.fr',\n",
       " 'VNA.de',\n",
       " 'SQ.us',\n",
       " 'LYFT.us',\n",
       " 'UAL.us',\n",
       " 'DKNG.us',\n",
       " 'SHOP.us',\n",
       " 'BYND.us',\n",
       " 'UBER.us',\n",
       " 'ZM.us',\n",
       " 'LCID.us',\n",
       " 'HOOD.us',\n",
       " 'CRWD.us',\n",
       " 'BEKE.us',\n",
       " 'CPNG.us',\n",
       " 'NET.us',\n",
       " 'RBLX.us',\n",
       " 'ENR.de',\n",
       " 'BIDU.hk',\n",
       " 'COIN.us',\n",
       " 'CSL.au',\n",
       " 'CBA.au',\n",
       " 'BHP.au',\n",
       " 'WBC.au',\n",
       " 'NAB.au',\n",
       " 'ANZ.au',\n",
       " 'WOW.au',\n",
       " 'WES.au',\n",
       " 'FMG.au',\n",
       " 'MQG.au',\n",
       " 'TLS.au',\n",
       " 'RIO.au',\n",
       " 'GMG.au',\n",
       " 'WPL.au',\n",
       " 'NCM.au',\n",
       " 'COL.au',\n",
       " 'ALL.au',\n",
       " 'SYD.au',\n",
       " 'A2M.au',\n",
       " 'REA.au',\n",
       " 'XRO.au',\n",
       " 'APT.au',\n",
       " 'CWN.au',\n",
       " 'QAN.au',\n",
       " 'Z1P.au',\n",
       " 'BT.A.uk',\n",
       " 'NWG.uk',\n",
       " 'TW.uk',\n",
       " 'MRO.uk',\n",
       " 'MNG.uk',\n",
       " 'ROO.uk',\n",
       " 'CBK.de',\n",
       " 'DHER.de',\n",
       " 'STM.fr',\n",
       " 'STLA.fr',\n",
       " 'DIDI.us',\n",
       " 'FVRR.us',\n",
       " 'SPOT.us',\n",
       " 'MARA.us',\n",
       " 'BTBT.us',\n",
       " 'BITF.us',\n",
       " 'WISH.us',\n",
       " 'WE.us',\n",
       " 'JD.us',\n",
       " 'PDD.us',\n",
       " 'TME.us',\n",
       " 'WB.us',\n",
       " 'BILI.us',\n",
       " 'NVDA.us',\n",
       " 'AMD.us',\n",
       " 'DADA.us',\n",
       " 'PTON.us',\n",
       " 'TENC.hk',\n",
       " 'MEIT.hk',\n",
       " 'BYDC.hk',\n",
       " 'XIAO.hk',\n",
       " 'BABA.hk',\n",
       " 'AIA.hk',\n",
       " 'HSBC.hk',\n",
       " 'WUXI.hk',\n",
       " 'HKEX.hk',\n",
       " 'GELY.hk',\n",
       " 'JD.hk',\n",
       " 'NETE.hk',\n",
       " 'PING.hk',\n",
       " 'SMIC.hk',\n",
       " 'SBIO.hk',\n",
       " 'GALA.hk',\n",
       " 'KIDE.hk',\n",
       " 'ALIH.hk',\n",
       " 'ICBC.hk',\n",
       " 'FLAT.hk',\n",
       " 'KSOF.hk',\n",
       " 'SMOO.hk',\n",
       " 'SUNN.hk',\n",
       " 'BYDE.hk',\n",
       " 'TWTR.us',\n",
       " 'MRNA.us',\n",
       " 'NIO.us',\n",
       " 'CCL.us',\n",
       " 'ABNB.us',\n",
       " 'DASH.us',\n",
       " 'AMC.us',\n",
       " 'BNGO.us',\n",
       " 'FCEL.us',\n",
       " 'GME.us',\n",
       " 'PENN.us',\n",
       " 'PLTR.us',\n",
       " 'PLUG.us',\n",
       " 'PYPL.us',\n",
       " 'SNAP.us',\n",
       " 'SNOW.us',\n",
       " 'SPCE.us',\n",
       " 'XPEV.us',\n",
       " 'SONY.us']"
      ]
     },
     "execution_count": 6,
     "metadata": {},
     "output_type": "execute_result"
    }
   ],
   "source": [
    "instr = api.get_instruments()\n",
    "instr"
   ]
  },
  {
   "cell_type": "code",
   "execution_count": null,
   "metadata": {},
   "outputs": [],
   "source": [
    "len(instr)"
   ]
  },
  {
   "cell_type": "code",
   "execution_count": null,
   "metadata": {},
   "outputs": [],
   "source": [
    "api.close()"
   ]
  },
  {
   "cell_type": "code",
   "execution_count": null,
   "metadata": {},
   "outputs": [],
   "source": [
    "# BTC/USD\n",
    "# Stellar Lumens / US. XLM/USD\n",
    "# litecoin: LTC/USD\n",
    "# CryptoMajor\n",
    "# EOS/USD\n",
    "# bitcoin cash: BCH/USD\n",
    "# \n",
    "\n",
    "crypto_dic = {\"BTC\": \"BTC/USD\", \"XLM\": \"XLM/USD\", \"LTC\":\"LTC/USD\", \"EOS\":\"EOS/USD\", \"BCH\":\"BCH/USD\"}"
   ]
  },
  {
   "cell_type": "markdown",
   "metadata": {},
   "source": [
    "## Getting Historical Data (Part 1)"
   ]
  },
  {
   "cell_type": "code",
   "execution_count": 59,
   "metadata": {},
   "outputs": [],
   "source": [
    "import pandas as pd\n",
    "import fxcmpy"
   ]
  },
  {
   "cell_type": "code",
   "execution_count": 60,
   "metadata": {},
   "outputs": [],
   "source": [
    "api = fxcmpy.fxcmpy(config_file= \"fxcm.cfg\")"
   ]
  },
  {
   "cell_type": "code",
   "execution_count": null,
   "metadata": {},
   "outputs": [],
   "source": [
    "help(api.get_candles)"
   ]
  },
  {
   "cell_type": "code",
   "execution_count": null,
   "metadata": {},
   "outputs": [],
   "source": [
    "api.get_candles('EUR/USD')"
   ]
  },
  {
   "cell_type": "code",
   "execution_count": null,
   "metadata": {},
   "outputs": [],
   "source": [
    "api.get_candles('EUR/USD', number = 10000)"
   ]
  },
  {
   "cell_type": "code",
   "execution_count": null,
   "metadata": {},
   "outputs": [],
   "source": [
    "df = api.get_candles('EUR/USD', number = 10000)\n",
    "df"
   ]
  },
  {
   "cell_type": "code",
   "execution_count": null,
   "metadata": {},
   "outputs": [],
   "source": [
    "df.info()"
   ]
  },
  {
   "cell_type": "code",
   "execution_count": null,
   "metadata": {},
   "outputs": [],
   "source": [
    "api.get_candles('EUR/USD', number = 5, columns = [\"bids\"])"
   ]
  },
  {
   "cell_type": "code",
   "execution_count": null,
   "metadata": {},
   "outputs": [],
   "source": [
    "api.get_candles('EUR/USD', number = 5, columns = [\"asks\"])"
   ]
  },
  {
   "cell_type": "code",
   "execution_count": null,
   "metadata": {},
   "outputs": [],
   "source": []
  },
  {
   "cell_type": "markdown",
   "metadata": {},
   "source": [
    "## Getting Historical Data (Part 2)"
   ]
  },
  {
   "cell_type": "code",
   "execution_count": null,
   "metadata": {},
   "outputs": [],
   "source": [
    "api.get_candles('EUR/USD', number = 10000, columns = [\"asks\"])"
   ]
  },
  {
   "cell_type": "code",
   "execution_count": null,
   "metadata": {},
   "outputs": [],
   "source": [
    "api.get_candles('EUR/USD', start = \"2020-07-01\", end = \"2020-07-31\", columns = [\"asks\"])"
   ]
  },
  {
   "cell_type": "code",
   "execution_count": null,
   "metadata": {},
   "outputs": [],
   "source": [
    "api.get_candles('EUR/USD', start = \"2020-07-01\", end = \"2020-07-31\", \n",
    "                period = \"H1\", columns = [\"asks\"])"
   ]
  },
  {
   "cell_type": "code",
   "execution_count": null,
   "metadata": {},
   "outputs": [],
   "source": [
    "api.get_candles('EUR/USD', start = \"2020-07-01\", end = \"2020-07-31\", \n",
    "                period = \"D1\", columns = [\"asks\"])"
   ]
  },
  {
   "cell_type": "code",
   "execution_count": null,
   "metadata": {},
   "outputs": [],
   "source": [
    "api.get_candles('EUR/USD', start = \"2020-07-01\", end = \"2020-07-31\", \n",
    "                period = \"H1\", columns = [\"asks\"])"
   ]
  },
  {
   "cell_type": "code",
   "execution_count": null,
   "metadata": {},
   "outputs": [],
   "source": [
    "type(api.get_candles('ETH/USD', start = \"2021-07-01\", end = \"2021-07-10\", \n",
    "                period = \"H1\", columns = [\"asks\"]))"
   ]
  },
  {
   "cell_type": "code",
   "execution_count": 7,
   "metadata": {},
   "outputs": [],
   "source": [
    "from datetime import datetime\n",
    "\n"
   ]
  },
  {
   "cell_type": "code",
   "execution_count": 89,
   "metadata": {},
   "outputs": [],
   "source": [
    "start_t = datetime(2021, 5, 1, 0, 0, 0)\n",
    "end_t = datetime(2021, 5, 31, 23, 59, 0)\n",
    "df_1 = api.get_candles(\"ETH/USD\", start = start_t, end = end_t, \n",
    "                period = \"m1\", columns = [\"asks\"])"
   ]
  },
  {
   "cell_type": "code",
   "execution_count": 92,
   "metadata": {},
   "outputs": [
    {
     "data": {
      "text/html": [
       "<div>\n",
       "<style scoped>\n",
       "    .dataframe tbody tr th:only-of-type {\n",
       "        vertical-align: middle;\n",
       "    }\n",
       "\n",
       "    .dataframe tbody tr th {\n",
       "        vertical-align: top;\n",
       "    }\n",
       "\n",
       "    .dataframe thead th {\n",
       "        text-align: right;\n",
       "    }\n",
       "</style>\n",
       "<table border=\"1\" class=\"dataframe\">\n",
       "  <thead>\n",
       "    <tr style=\"text-align: right;\">\n",
       "      <th></th>\n",
       "      <th>askopen</th>\n",
       "      <th>askclose</th>\n",
       "      <th>askhigh</th>\n",
       "      <th>asklow</th>\n",
       "    </tr>\n",
       "    <tr>\n",
       "      <th>date</th>\n",
       "      <th></th>\n",
       "      <th></th>\n",
       "      <th></th>\n",
       "      <th></th>\n",
       "    </tr>\n",
       "  </thead>\n",
       "  <tbody>\n",
       "    <tr>\n",
       "      <th>2021-05-02 21:00:00</th>\n",
       "      <td>2761.60</td>\n",
       "      <td>2976.15</td>\n",
       "      <td>2988.15</td>\n",
       "      <td>2969.45</td>\n",
       "    </tr>\n",
       "    <tr>\n",
       "      <th>2021-05-02 22:00:00</th>\n",
       "      <td>2976.15</td>\n",
       "      <td>2951.95</td>\n",
       "      <td>2984.55</td>\n",
       "      <td>2930.75</td>\n",
       "    </tr>\n",
       "  </tbody>\n",
       "</table>\n",
       "</div>"
      ],
      "text/plain": [
       "                     askopen  askclose  askhigh   asklow\n",
       "date                                                    \n",
       "2021-05-02 21:00:00  2761.60   2976.15  2988.15  2969.45\n",
       "2021-05-02 22:00:00  2976.15   2951.95  2984.55  2930.75"
      ]
     },
     "execution_count": 92,
     "metadata": {},
     "output_type": "execute_result"
    }
   ],
   "source": [
    "df_1.head(2)"
   ]
  },
  {
   "cell_type": "code",
   "execution_count": 8,
   "metadata": {},
   "outputs": [],
   "source": [
    "import time\n",
    "\n",
    "def get1min_df():\n",
    "    mai_1_start = datetime(2021, 5, 1, 0, 0, 0)\n",
    "    mai_1_end =   datetime(2021, 5, 15, 23,59,0)\n",
    "    mai_2_start = datetime(2021, 5, 16, 0, 0, 0)\n",
    "    mai_2_end =   datetime(2021, 5, 30, 23, 59, 0)\n",
    "\n",
    "\n",
    "    df_mai_1 = api.get_candles(\"ETH/USD\", start = mai_1_start, end = mai_1_end, \n",
    "                    period = \"m1\", columns = [\"asks\"])   \n",
    "    time.sleep(30)\n",
    "    df_mai_2 = api.get_candles(\"ETH/USD\", start = mai_2_start, end = mai_2_end, \n",
    "                    period = \"m1\", columns = [\"asks\"])\n",
    "    \n",
    "    df_mai_1 = df_mai_1.append(df_mai_2)\n",
    "    print(f\"Len of mai df: {len(df_mai_1)}\")\n",
    "    \n",
    "    ################\n",
    "    juni_1_start = datetime(2021, 6, 1, 0, 0, 0)\n",
    "    juni_1_end =   datetime(2021, 6, 15, 23, 59, 0)\n",
    "    juni_2_start = datetime(2021, 6, 16, 0, 0, 0)\n",
    "    juni_2_end =   datetime(2021, 6, 30, 23, 59, 0)\n",
    "\n",
    "\n",
    "    df_juni_1 = api.get_candles(\"ETH/USD\", start = juni_1_start, end = juni_1_end, \n",
    "                    period = \"m1\", columns = [\"asks\"])\n",
    "    time.sleep(30)\n",
    "\n",
    "    df_juni_2 = api.get_candles(\"ETH/USD\", start = juni_2_start, end = juni_2_end, \n",
    "                    period = \"m1\", columns = [\"asks\"])\n",
    "    \n",
    "    df_juni_1 = df_juni_1.append(df_juni_2)\n",
    "    print(f\"Len of juni df: {len(df_juni_1)}\")\n",
    "\n",
    "    ################\n",
    "    \n",
    "    juli_1_start = datetime(2021, 7, 1, 0, 0, 0)\n",
    "    juli_1_end =   datetime(2021, 7, 15, 23, 59, 0)\n",
    "    juli_2_start = datetime(2021, 7, 16, 0, 0, 0)\n",
    "    juli_2_end =   datetime(2021, 7, 31, 23, 59, 0)\n",
    "\n",
    "\n",
    "    df_juli_1 = api.get_candles(\"ETH/USD\", start = juli_1_start, end = juli_1_end, \n",
    "                    period = \"m1\", columns = [\"asks\"])\n",
    "    time.sleep(30)\n",
    "\n",
    "    df_juli_2 = api.get_candles(\"ETH/USD\", start = juli_2_start, end = juli_2_end, \n",
    "                    period = \"m1\", columns = [\"asks\"])\n",
    "    \n",
    "    df_juli_1 = df_juli_1.append(df_juli_2)\n",
    "    print(f\"Len of juli df: {len(df_juli_1)}\")\n",
    "\n",
    "    ##################\n",
    "    august_1_start = datetime(2021, 8, 1, 0, 0, 0)\n",
    "    august_1_end =   datetime(2021, 8, 15, 23, 59, 0)\n",
    "    august_2_start = datetime(2021, 8, 16, 0, 0, 0)\n",
    "    august_2_end =   datetime(2021, 8, 31, 23, 59, 0)\n",
    "\n",
    "\n",
    "    df_august_1 = api.get_candles(\"ETH/USD\", start = august_1_start, end = august_1_end, \n",
    "                    period = \"m1\", columns = [\"asks\"])\n",
    "    time.sleep(30)\n",
    "\n",
    "    df_august_2 = api.get_candles(\"ETH/USD\", start = august_2_start, end = august_2_end, \n",
    "                    period = \"m1\", columns = [\"asks\"])\n",
    "    \n",
    "    df_august_1 = df_august_1.append(df_august_2)\n",
    "    print(f\"Len of aug df: {len(df_august_1)}\")\n",
    "\n",
    "    ######################\n",
    "    \n",
    "    sep_1_start = datetime(2021, 9, 1, 0, 0, 0)\n",
    "    sep_1_end =   datetime(2021, 9, 15, 23,59,0)\n",
    "    sep_2_start = datetime(2021, 9, 16, 0,0,0)\n",
    "    sep_2_end =   datetime(2021, 9, 30, 23, 59, 0)\n",
    "\n",
    "\n",
    "    df_sep_1 = api.get_candles(\"ETH/USD\", start = sep_1_start, end = sep_1_end, \n",
    "                    period = \"m1\", columns = [\"asks\"])\n",
    "    time.sleep(30)\n",
    "    df_sep_2 = api.get_candles(\"ETH/USD\", start = sep_2_start, end = sep_2_end, \n",
    "                    period = \"m1\", columns = [\"asks\"])\n",
    "    \n",
    "    df_sep_1 = df_sep_1.append(df_sep_2)\n",
    "    print(f\"Len of sept df: {len(df_sep_1)}\")\n",
    "    \n",
    "    ########################\n",
    "    okt_1_start = datetime(2021, 10, 1, 0, 0, 0)\n",
    "    okt_1_end =   datetime(2021, 10, 15, 23,59,0)\n",
    "    okt_2_start = datetime(2021, 10, 16, 0,0,0)\n",
    "    okt_2_end =   datetime(2021, 10, 30, 23, 59, 0)\n",
    "\n",
    "\n",
    "    df_okt_1 = api.get_candles(\"ETH/USD\", start = okt_1_start, end = okt_1_end, \n",
    "                    period = \"m1\", columns = [\"asks\"])\n",
    "    time.sleep(30)\n",
    "    df_okt_2 = api.get_candles(\"ETH/USD\", start = okt_2_start, end = okt_2_end, \n",
    "                    period = \"m1\", columns = [\"asks\"])\n",
    "    \n",
    "    df_okt_1 = df_okt_1.append(df_okt_2)\n",
    "    print(f\"Len of okt df: {len(df_okt_1)}\")\n",
    "\n",
    "    #########################\n",
    "\n",
    "    df_mai_1 = df_mai_1.append(df_juni_1)\n",
    "    df_mai_1 = df_mai_1.append(df_juli_1)\n",
    "    df_mai_1 = df_mai_1.append(df_august_1)\n",
    "    df_mai_1 = df_mai_1.append(df_sep_1)\n",
    "    df_mai_1 = df_mai_1.append(df_okt_1)\n",
    "\n",
    "    return df_mai_1"
   ]
  },
  {
   "cell_type": "code",
   "execution_count": 118,
   "metadata": {},
   "outputs": [
    {
     "name": "stdout",
     "output_type": "stream",
     "text": [
      "Len of mai df: 28898\n",
      "Len of juni df: 31589\n"
     ]
    },
    {
     "ename": "ServerError",
     "evalue": "Request returns status code 524 and message \"<!DOCTYPE html>\n<!--[if lt IE 7]> <html class=\"no-js ie6 oldie\" lang=\"en-US\"> <![endif]-->\n<!--[if IE 7]>    <html class=\"no-js ie7 oldie\" lang=\"en-US\"> <![endif]-->\n<!--[if IE 8]>    <html class=\"no-js ie8 oldie\" lang=\"en-US\"> <![endif]-->\n<!--[if gt IE 8]><!--> <html class=\"no-js\" lang=\"en-US\"> <!--<![endif]-->\n<head>\n<meta http-equiv=\"refresh\" content=\"0\">\n\n<title>api-demo.fxcm.com | 524: A timeout occurred</title>\n<meta charset=\"UTF-8\" />\n<meta http-equiv=\"Content-Type\" content=\"text/html; charset=UTF-8\" />\n<meta http-equiv=\"X-UA-Compatible\" content=\"IE=Edge,chrome=1\" />\n<meta name=\"robots\" content=\"noindex, nofollow\" />\n<meta name=\"viewport\" content=\"width=device-width,initial-scale=1\" />\n<link rel=\"stylesheet\" id=\"cf_styles-css\" href=\"/cdn-cgi/styles/main.css\" type=\"text/css\" media=\"screen,projection\" />\n\n\n</head>\n<body>\n<div id=\"cf-wrapper\">\n\n    \n\n    <div id=\"cf-error-details\" class=\"p-0\">\n        <header class=\"mx-auto pt-10 lg:pt-6 lg:px-8 w-240 lg:w-full mb-8\">\n            <h1 class=\"inline-block sm:block sm:mb-2 font-light text-60 lg:text-4xl text-black-dark leading-tight mr-2\">\n              \n              <span class=\"cf-error-type\">Error</span>\n              <span class=\"cf-error-code\">524</span>\n            </h1>\n            <span class=\"inline-block sm:block font-mono text-15 lg:text-sm lg:leading-relaxed\">Ray ID: 6a6bebd969634ab5 &bull;</span>\n            <span class=\"inline-block sm:block font-mono text-15 lg:text-sm lg:leading-relaxed\">2021-10-31 09:42:00 UTC</span>\n            <h2 class=\"text-gray-600 leading-1.3 text-3xl font-light\">A timeout occurred</h2>\n        </header>\n        \n        <div class=\"my-8 bg-gradient-gray\">\n            <div class=\"w-240 lg:w-full mx-auto\">\n                <div class=\"clearfix md:px-8\">\n                  \n<div id=\"cf-browser-status\" class=\" relative w-1/3 md:w-full py-15 md:p-0 md:py-8 md:text-left md:border-solid md:border-0 md:border-b md:border-gray-400 overflow-hidden float-left md:float-none text-center\">\n  <div class=\"relative mb-10 md:m-0\">\n    <span class=\"cf-icon-browser block md:hidden h-20 bg-center bg-no-repeat\"></span>\n    <span class=\"cf-icon-ok w-12 h-12 absolute left-1/2 md:left-auto md:right-0 md:top-0 -ml-6 -bottom-4\"></span>\n  </div>\n  <span class=\"md:block w-full truncate\">You</span>\n  <h3 class=\"md:inline-block mt-3 md:mt-0 text-2xl text-gray-600 font-light leading-1.3\">Browser</h3>\n  <span class=\"leading-1.3 text-2xl text-green-success\">Working</span>\n</div>\n\n<div id=\"cf-cloudflare-status\" class=\" relative w-1/3 md:w-full py-15 md:p-0 md:py-8 md:text-left md:border-solid md:border-0 md:border-b md:border-gray-400 overflow-hidden float-left md:float-none text-center\">\n  <div class=\"relative mb-10 md:m-0\">\n    <span class=\"cf-icon-cloud block md:hidden h-20 bg-center bg-no-repeat\"></span>\n    <span class=\"cf-icon-ok w-12 h-12 absolute left-1/2 md:left-auto md:right-0 md:top-0 -ml-6 -bottom-4\"></span>\n  </div>\n  <span class=\"md:block w-full truncate\">Frankfurt</span>\n  <h3 class=\"md:inline-block mt-3 md:mt-0 text-2xl text-gray-600 font-light leading-1.3\">Cloudflare</h3>\n  <span class=\"leading-1.3 text-2xl text-green-success\">Working</span>\n</div>\n\n<div id=\"cf-host-status\" class=\"cf-error-source relative w-1/3 md:w-full py-15 md:p-0 md:py-8 md:text-left md:border-solid md:border-0 md:border-b md:border-gray-400 overflow-hidden float-left md:float-none text-center\">\n  <div class=\"relative mb-10 md:m-0\">\n    <span class=\"cf-icon-server block md:hidden h-20 bg-center bg-no-repeat\"></span>\n    <span class=\"cf-icon-error w-12 h-12 absolute left-1/2 md:left-auto md:right-0 md:top-0 -ml-6 -bottom-4\"></span>\n  </div>\n  <span class=\"md:block w-full truncate\">api-demo.fxcm.com</span>\n  <h3 class=\"md:inline-block mt-3 md:mt-0 text-2xl text-gray-600 font-light leading-1.3\">Host</h3>\n  <span class=\"leading-1.3 text-2xl text-red-error\">Error</span>\n</div>\n\n                </div>\n              \n            </div>\n        </div>\n\n        <div class=\"w-240 lg:w-full mx-auto mb-8 lg:px-8\">\n            <div class=\"clearfix\">\n                <div class=\"w-1/2 md:w-full float-left pr-6 md:pb-10 md:pr-0 leading-relaxed\">\n                    <h2 class=\"text-3xl font-normal leading-1.3 mb-4\">What happened?</h2>\n                    <p>The origin web server timed out responding to this request.</p>\n                </div>\n              \n                <div class=\"w-1/2 md:w-full float-left leading-relaxed\">\n                    <h2 class=\"text-3xl font-normal leading-1.3 mb-4\">What can I do?</h2>\n                          <h3 class=\"text-15 font-semibold mb-2\">If you're a visitor of this website:</h3>\n      <p class=\"mb-6\">Please try again in a few minutes.</p>\n\n      <h3 class=\"text-15 font-semibold mb-2\">If you're the owner of this website:</h3>\n      <p><span>The connection to the origin web server was made, but the origin web server timed out before responding. The likely cause is an overloaded background task, database or application, stressing the resources on your web server. To resolve, please work with your hosting provider or web development team to free up resources for your database or overloaded application.</span> <a rel=\"noopener noreferrer\" href=\"https://support.cloudflare.com/hc/en-us/articles/200171926-Error-524\">Additional troubleshooting information here.</a></p>\n                </div>\n            </div>\n              \n        </div>\n\n        <div class=\"cf-error-footer cf-wrapper w-240 lg:w-full py-10 sm:py-4 sm:px-8 mx-auto text-center sm:text-left border-solid border-0 border-t border-gray-300\">\n  <p class=\"text-13\">\n    <span class=\"cf-footer-item sm:block sm:mb-1\">Cloudflare Ray ID: <strong class=\"font-semibold\">6a6bebd969634ab5</strong></span>\n    <span class=\"cf-footer-separator sm:hidden\">&bull;</span>\n    <span class=\"cf-footer-item sm:block sm:mb-1\"><span>Your IP</span>: 88.128.88.225</span>\n    <span class=\"cf-footer-separator sm:hidden\">&bull;</span>\n    <span class=\"cf-footer-item sm:block sm:mb-1\"><span>Performance &amp; security by</span> <a rel=\"noopener noreferrer\" href=\"https://www.cloudflare.com/5xx-error-landing\" id=\"brand_link\" target=\"_blank\">Cloudflare</a></span>\n    \n  </p>\n</div><!-- /.error-footer -->\n\n\n    </div>\n</div>\n</body>\n</html>\n\n\"",
     "output_type": "error",
     "traceback": [
      "\u001b[0;31m---------------------------------------------------------------------------\u001b[0m",
      "\u001b[0;31mServerError\u001b[0m                               Traceback (most recent call last)",
      "\u001b[0;32m<ipython-input-118-6bb72d4073d0>\u001b[0m in \u001b[0;36m<module>\u001b[0;34m\u001b[0m\n\u001b[0;32m----> 1\u001b[0;31m \u001b[0mdf\u001b[0m \u001b[0;34m=\u001b[0m \u001b[0mget1min_df\u001b[0m\u001b[0;34m(\u001b[0m\u001b[0;34m)\u001b[0m\u001b[0;34m\u001b[0m\u001b[0;34m\u001b[0m\u001b[0m\n\u001b[0m",
      "\u001b[0;32m<ipython-input-117-ae8e95331941>\u001b[0m in \u001b[0;36mget1min_df\u001b[0;34m()\u001b[0m\n\u001b[1;32m     42\u001b[0m \u001b[0;34m\u001b[0m\u001b[0m\n\u001b[1;32m     43\u001b[0m \u001b[0;34m\u001b[0m\u001b[0m\n\u001b[0;32m---> 44\u001b[0;31m     df_juli_1 = api.get_candles(\"ETH/USD\", start = juli_1_start, end = juli_1_end, \n\u001b[0m\u001b[1;32m     45\u001b[0m                     period = \"m1\", columns = [\"asks\"])\n\u001b[1;32m     46\u001b[0m     \u001b[0mtime\u001b[0m\u001b[0;34m.\u001b[0m\u001b[0msleep\u001b[0m\u001b[0;34m(\u001b[0m\u001b[0;36m30\u001b[0m\u001b[0;34m)\u001b[0m\u001b[0;34m\u001b[0m\u001b[0;34m\u001b[0m\u001b[0m\n",
      "\u001b[0;32m/usr/local/lib/python3.8/site-packages/fxcmpy/fxcmpy.py\u001b[0m in \u001b[0;36mget_candles\u001b[0;34m(self, instrument, offer_id, period, number, start, end, with_index, columns, stop)\u001b[0m\n\u001b[1;32m   2182\u001b[0m             \u001b[0mparams\u001b[0m\u001b[0;34m[\u001b[0m\u001b[0;34m'to'\u001b[0m\u001b[0;34m]\u001b[0m \u001b[0;34m=\u001b[0m \u001b[0mmax\u001b[0m\u001b[0;34m(\u001b[0m\u001b[0mend\u001b[0m\u001b[0;34m,\u001b[0m \u001b[0;36m1\u001b[0m\u001b[0;34m)\u001b[0m\u001b[0;34m\u001b[0m\u001b[0;34m\u001b[0m\u001b[0m\n\u001b[1;32m   2183\u001b[0m \u001b[0;34m\u001b[0m\u001b[0m\n\u001b[0;32m-> 2184\u001b[0;31m         data = self.__handle_request__(method='candles/%s/%s'\n\u001b[0m\u001b[1;32m   2185\u001b[0m                                        % (offer_id, period), params=params)\n\u001b[1;32m   2186\u001b[0m \u001b[0;34m\u001b[0m\u001b[0m\n",
      "\u001b[0;32m/usr/local/lib/python3.8/site-packages/fxcmpy/fxcmpy.py\u001b[0m in \u001b[0;36m__handle_request__\u001b[0;34m(self, method, params, protocol)\u001b[0m\n\u001b[1;32m   2489\u001b[0m                               % (method, req.status_code, req.text))\n\u001b[1;32m   2490\u001b[0m \u001b[0;34m\u001b[0m\u001b[0m\n\u001b[0;32m-> 2491\u001b[0;31m             raise ServerError('Request returns status code %s and message \"%s\"'\n\u001b[0m\u001b[1;32m   2492\u001b[0m                               % (req.status_code,\n\u001b[1;32m   2493\u001b[0m                                  unquote(req.text)))\n",
      "\u001b[0;31mServerError\u001b[0m: Request returns status code 524 and message \"<!DOCTYPE html>\n<!--[if lt IE 7]> <html class=\"no-js ie6 oldie\" lang=\"en-US\"> <![endif]-->\n<!--[if IE 7]>    <html class=\"no-js ie7 oldie\" lang=\"en-US\"> <![endif]-->\n<!--[if IE 8]>    <html class=\"no-js ie8 oldie\" lang=\"en-US\"> <![endif]-->\n<!--[if gt IE 8]><!--> <html class=\"no-js\" lang=\"en-US\"> <!--<![endif]-->\n<head>\n<meta http-equiv=\"refresh\" content=\"0\">\n\n<title>api-demo.fxcm.com | 524: A timeout occurred</title>\n<meta charset=\"UTF-8\" />\n<meta http-equiv=\"Content-Type\" content=\"text/html; charset=UTF-8\" />\n<meta http-equiv=\"X-UA-Compatible\" content=\"IE=Edge,chrome=1\" />\n<meta name=\"robots\" content=\"noindex, nofollow\" />\n<meta name=\"viewport\" content=\"width=device-width,initial-scale=1\" />\n<link rel=\"stylesheet\" id=\"cf_styles-css\" href=\"/cdn-cgi/styles/main.css\" type=\"text/css\" media=\"screen,projection\" />\n\n\n</head>\n<body>\n<div id=\"cf-wrapper\">\n\n    \n\n    <div id=\"cf-error-details\" class=\"p-0\">\n        <header class=\"mx-auto pt-10 lg:pt-6 lg:px-8 w-240 lg:w-full mb-8\">\n            <h1 class=\"inline-block sm:block sm:mb-2 font-light text-60 lg:text-4xl text-black-dark leading-tight mr-2\">\n              \n              <span class=\"cf-error-type\">Error</span>\n              <span class=\"cf-error-code\">524</span>\n            </h1>\n            <span class=\"inline-block sm:block font-mono text-15 lg:text-sm lg:leading-relaxed\">Ray ID: 6a6bebd969634ab5 &bull;</span>\n            <span class=\"inline-block sm:block font-mono text-15 lg:text-sm lg:leading-relaxed\">2021-10-31 09:42:00 UTC</span>\n            <h2 class=\"text-gray-600 leading-1.3 text-3xl font-light\">A timeout occurred</h2>\n        </header>\n        \n        <div class=\"my-8 bg-gradient-gray\">\n            <div class=\"w-240 lg:w-full mx-auto\">\n                <div class=\"clearfix md:px-8\">\n                  \n<div id=\"cf-browser-status\" class=\" relative w-1/3 md:w-full py-15 md:p-0 md:py-8 md:text-left md:border-solid md:border-0 md:border-b md:border-gray-400 overflow-hidden float-left md:float-none text-center\">\n  <div class=\"relative mb-10 md:m-0\">\n    <span class=\"cf-icon-browser block md:hidden h-20 bg-center bg-no-repeat\"></span>\n    <span class=\"cf-icon-ok w-12 h-12 absolute left-1/2 md:left-auto md:right-0 md:top-0 -ml-6 -bottom-4\"></span>\n  </div>\n  <span class=\"md:block w-full truncate\">You</span>\n  <h3 class=\"md:inline-block mt-3 md:mt-0 text-2xl text-gray-600 font-light leading-1.3\">Browser</h3>\n  <span class=\"leading-1.3 text-2xl text-green-success\">Working</span>\n</div>\n\n<div id=\"cf-cloudflare-status\" class=\" relative w-1/3 md:w-full py-15 md:p-0 md:py-8 md:text-left md:border-solid md:border-0 md:border-b md:border-gray-400 overflow-hidden float-left md:float-none text-center\">\n  <div class=\"relative mb-10 md:m-0\">\n    <span class=\"cf-icon-cloud block md:hidden h-20 bg-center bg-no-repeat\"></span>\n    <span class=\"cf-icon-ok w-12 h-12 absolute left-1/2 md:left-auto md:right-0 md:top-0 -ml-6 -bottom-4\"></span>\n  </div>\n  <span class=\"md:block w-full truncate\">Frankfurt</span>\n  <h3 class=\"md:inline-block mt-3 md:mt-0 text-2xl text-gray-600 font-light leading-1.3\">Cloudflare</h3>\n  <span class=\"leading-1.3 text-2xl text-green-success\">Working</span>\n</div>\n\n<div id=\"cf-host-status\" class=\"cf-error-source relative w-1/3 md:w-full py-15 md:p-0 md:py-8 md:text-left md:border-solid md:border-0 md:border-b md:border-gray-400 overflow-hidden float-left md:float-none text-center\">\n  <div class=\"relative mb-10 md:m-0\">\n    <span class=\"cf-icon-server block md:hidden h-20 bg-center bg-no-repeat\"></span>\n    <span class=\"cf-icon-error w-12 h-12 absolute left-1/2 md:left-auto md:right-0 md:top-0 -ml-6 -bottom-4\"></span>\n  </div>\n  <span class=\"md:block w-full truncate\">api-demo.fxcm.com</span>\n  <h3 class=\"md:inline-block mt-3 md:mt-0 text-2xl text-gray-600 font-light leading-1.3\">Host</h3>\n  <span class=\"leading-1.3 text-2xl text-red-error\">Error</span>\n</div>\n\n                </div>\n              \n            </div>\n        </div>\n\n        <div class=\"w-240 lg:w-full mx-auto mb-8 lg:px-8\">\n            <div class=\"clearfix\">\n                <div class=\"w-1/2 md:w-full float-left pr-6 md:pb-10 md:pr-0 leading-relaxed\">\n                    <h2 class=\"text-3xl font-normal leading-1.3 mb-4\">What happened?</h2>\n                    <p>The origin web server timed out responding to this request.</p>\n                </div>\n              \n                <div class=\"w-1/2 md:w-full float-left leading-relaxed\">\n                    <h2 class=\"text-3xl font-normal leading-1.3 mb-4\">What can I do?</h2>\n                          <h3 class=\"text-15 font-semibold mb-2\">If you're a visitor of this website:</h3>\n      <p class=\"mb-6\">Please try again in a few minutes.</p>\n\n      <h3 class=\"text-15 font-semibold mb-2\">If you're the owner of this website:</h3>\n      <p><span>The connection to the origin web server was made, but the origin web server timed out before responding. The likely cause is an overloaded background task, database or application, stressing the resources on your web server. To resolve, please work with your hosting provider or web development team to free up resources for your database or overloaded application.</span> <a rel=\"noopener noreferrer\" href=\"https://support.cloudflare.com/hc/en-us/articles/200171926-Error-524\">Additional troubleshooting information here.</a></p>\n                </div>\n            </div>\n              \n        </div>\n\n        <div class=\"cf-error-footer cf-wrapper w-240 lg:w-full py-10 sm:py-4 sm:px-8 mx-auto text-center sm:text-left border-solid border-0 border-t border-gray-300\">\n  <p class=\"text-13\">\n    <span class=\"cf-footer-item sm:block sm:mb-1\">Cloudflare Ray ID: <strong class=\"font-semibold\">6a6bebd969634ab5</strong></span>\n    <span class=\"cf-footer-separator sm:hidden\">&bull;</span>\n    <span class=\"cf-footer-item sm:block sm:mb-1\"><span>Your IP</span>: 88.128.88.225</span>\n    <span class=\"cf-footer-separator sm:hidden\">&bull;</span>\n    <span class=\"cf-footer-item sm:block sm:mb-1\"><span>Performance &amp; security by</span> <a rel=\"noopener noreferrer\" href=\"https://www.cloudflare.com/5xx-error-landing\" id=\"brand_link\" target=\"_blank\">Cloudflare</a></span>\n    \n  </p>\n</div><!-- /.error-footer -->\n\n\n    </div>\n</div>\n</body>\n</html>\n\n\""
     ]
    }
   ],
   "source": [
    "df = get1min_df()"
   ]
  },
  {
   "cell_type": "code",
   "execution_count": 24,
   "metadata": {},
   "outputs": [],
   "source": [
    "def get5min_df(symbol, ticker): \n",
    "    \n",
    "    path = \"./hist_data/\" + symbol + \"/5min/\"+symbol+\"_5min.csv\"\n",
    "    mai_2_start = datetime(2021, 5, 1, 0,0,0)\n",
    "    mai_2_end = datetime(2021,5, 30, 23, 55, 0)\n",
    "    df_mai_1 = api.get_candles(ticker, start = mai_2_start, end = mai_2_end, \n",
    "                    period = \"m5\", columns = [\"asks\"])\n",
    "\n",
    "    time.sleep(10)\n",
    "\n",
    "    juni_2_start = datetime(2021, 6, 1, 0, 0, 0)\n",
    "    juni_2_end = datetime(2021,6, 30, 23, 55, 0)\n",
    "    df_juni_1 = api.get_candles(ticker, start = juni_2_start, end = juni_2_end, \n",
    "                    period = \"m5\", columns = [\"asks\"])    \n",
    "  \n",
    "    time.sleep(10)\n",
    "\n",
    "    juli_2_start = datetime(2021, 7, 1, 0,0,0)\n",
    "    juli_2_end = datetime(2021, 7, 31, 23, 55, 0)\n",
    "    df_juli_1 = api.get_candles(ticker, start = juli_2_start, end = juli_2_end, \n",
    "                    period = \"m5\", columns = [\"asks\"])\n",
    "       \n",
    "    time.sleep(10)\n",
    "\n",
    "    august_2_start = datetime(2021, 8, 1, 0,0,0)\n",
    "    august_2_end = datetime(2021, 8, 31, 23, 55, 0)\n",
    "    df_august_1 = api.get_candles(ticker, start = august_2_start, end = august_2_end, \n",
    "                    period = \"m5\", columns = [\"asks\"])\n",
    "    time.sleep(10)\n",
    "   \n",
    "    sep_2_start = datetime(2021, 9, 1, 0,0,0)\n",
    "    sep_2_end = datetime(2021, 9, 30, 23, 55, 0)\n",
    "    df_sep_1 = api.get_candles(ticker, start = sep_2_start, end = sep_2_end, \n",
    "                    period = \"m5\", columns = [\"asks\"])\n",
    "    \n",
    "    time.sleep(10)\n",
    "\n",
    "    okt_2_start = datetime(2021, 10, 1, 0,0,0)\n",
    "    okt_2_end = datetime(2021, 10, 30, 23, 55, 0)\n",
    "\n",
    "    time.sleep(10)\n",
    "\n",
    "    df_okt_1 = api.get_candles(ticker, start = okt_2_start, end = okt_2_end, \n",
    "                    period = \"m5\", columns = [\"asks\"])\n",
    "    \n",
    "    df_mai_1 = df_mai_1.append(df_juni_1)\n",
    "    df_mai_1 = df_mai_1.append(df_juli_1)\n",
    "    df_mai_1 = df_mai_1.append(df_august_1)\n",
    "    df_mai_1 = df_mai_1.append(df_sep_1)\n",
    "    df_mai_1 = df_mai_1.append(df_okt_1)\n",
    "    print(f\"Stored data for: {symbol} witht total length: {len(df_mai_1)}\")\n",
    "    df_mai_1.to_csv(path)"
   ]
  },
  {
   "cell_type": "code",
   "execution_count": 27,
   "metadata": {},
   "outputs": [],
   "source": [
    "#crypto_dic = {\"ETH\":\"ETH/USD\", \"BTC\": \"BTC/USD\", \"XLM\": \"XLM/USD\", \"LTC\":\"LTC/USD\", \"EOS\":\"EOS/USD\", \"BCH\":\"BCH/USD\"}\n",
    "crypto_dic = {\"LTC\":\"LTC/USD\", \"EOS\":\"EOS/USD\", \"BCH\":\"BCH/USD\"}"
   ]
  },
  {
   "cell_type": "code",
   "execution_count": 28,
   "metadata": {},
   "outputs": [
    {
     "name": "stderr",
     "output_type": "stream",
     "text": [
      "|ERROR|2021-11-07 11:44:59,417|FXCM reject req candles/8004/m5 with status 520 and msg <!DOCTYPE html>\n",
      "<!--[if lt IE 7]> <html class=\"no-js ie6 oldie\" lang=\"en-US\"> <![endif]-->\n",
      "<!--[if IE 7]>    <html class=\"no-js ie7 oldie\" lang=\"en-US\"> <![endif]-->\n",
      "<!--[if IE 8]>    <html class=\"no-js ie8 oldie\" lang=\"en-US\"> <![endif]-->\n",
      "<!--[if gt IE 8]><!--> <html class=\"no-js\" lang=\"en-US\"> <!--<![endif]-->\n",
      "<head>\n",
      "<meta http-equiv=\"refresh\" content=\"0\">\n",
      "\n",
      "<title>api-demo.fxcm.com | 520: Web server is returning an unknown error</title>\n",
      "<meta charset=\"UTF-8\" />\n",
      "<meta http-equiv=\"Content-Type\" content=\"text/html; charset=UTF-8\" />\n",
      "<meta http-equiv=\"X-UA-Compatible\" content=\"IE=Edge,chrome=1\" />\n",
      "<meta name=\"robots\" content=\"noindex, nofollow\" />\n",
      "<meta name=\"viewport\" content=\"width=device-width,initial-scale=1\" />\n",
      "<link rel=\"stylesheet\" id=\"cf_styles-css\" href=\"/cdn-cgi/styles/main.css\" type=\"text/css\" media=\"screen,projection\" />\n",
      "\n",
      "\n",
      "</head>\n",
      "<body>\n",
      "<div id=\"cf-wrapper\">\n",
      "\n",
      "    \n",
      "\n",
      "    <div id=\"cf-error-details\" class=\"p-0\">\n",
      "        <header class=\"mx-auto pt-10 lg:pt-6 lg:px-8 w-240 lg:w-full mb-8\">\n",
      "            <h1 class=\"inline-block sm:block sm:mb-2 font-light text-60 lg:text-4xl text-black-dark leading-tight mr-2\">\n",
      "              \n",
      "              <span class=\"cf-error-type\">Error</span>\n",
      "              <span class=\"cf-error-code\">520</span>\n",
      "            </h1>\n",
      "            <span class=\"inline-block sm:block font-mono text-15 lg:text-sm lg:leading-relaxed\">Ray ID: 6aa5f82d8c645363 &bull;</span>\n",
      "            <span class=\"inline-block sm:block font-mono text-15 lg:text-sm lg:leading-relaxed\">2021-11-07 10:44:59 UTC</span>\n",
      "            <h2 class=\"text-gray-600 leading-1.3 text-3xl font-light\">Web server is returning an unknown error</h2>\n",
      "        </header>\n",
      "        \n",
      "        <div class=\"my-8 bg-gradient-gray\">\n",
      "            <div class=\"w-240 lg:w-full mx-auto\">\n",
      "                <div class=\"clearfix md:px-8\">\n",
      "                  \n",
      "<div id=\"cf-browser-status\" class=\" relative w-1/3 md:w-full py-15 md:p-0 md:py-8 md:text-left md:border-solid md:border-0 md:border-b md:border-gray-400 overflow-hidden float-left md:float-none text-center\">\n",
      "  <div class=\"relative mb-10 md:m-0\">\n",
      "    <span class=\"cf-icon-browser block md:hidden h-20 bg-center bg-no-repeat\"></span>\n",
      "    <span class=\"cf-icon-ok w-12 h-12 absolute left-1/2 md:left-auto md:right-0 md:top-0 -ml-6 -bottom-4\"></span>\n",
      "  </div>\n",
      "  <span class=\"md:block w-full truncate\">You</span>\n",
      "  <h3 class=\"md:inline-block mt-3 md:mt-0 text-2xl text-gray-600 font-light leading-1.3\">Browser</h3>\n",
      "  <span class=\"leading-1.3 text-2xl text-green-success\">Working</span>\n",
      "</div>\n",
      "\n",
      "<div id=\"cf-cloudflare-status\" class=\" relative w-1/3 md:w-full py-15 md:p-0 md:py-8 md:text-left md:border-solid md:border-0 md:border-b md:border-gray-400 overflow-hidden float-left md:float-none text-center\">\n",
      "  <div class=\"relative mb-10 md:m-0\">\n",
      "    <span class=\"cf-icon-cloud block md:hidden h-20 bg-center bg-no-repeat\"></span>\n",
      "    <span class=\"cf-icon-ok w-12 h-12 absolute left-1/2 md:left-auto md:right-0 md:top-0 -ml-6 -bottom-4\"></span>\n",
      "  </div>\n",
      "  <span class=\"md:block w-full truncate\">Frankfurt</span>\n",
      "  <h3 class=\"md:inline-block mt-3 md:mt-0 text-2xl text-gray-600 font-light leading-1.3\">Cloudflare</h3>\n",
      "  <span class=\"leading-1.3 text-2xl text-green-success\">Working</span>\n",
      "</div>\n",
      "\n",
      "<div id=\"cf-host-status\" class=\"cf-error-source relative w-1/3 md:w-full py-15 md:p-0 md:py-8 md:text-left md:border-solid md:border-0 md:border-b md:border-gray-400 overflow-hidden float-left md:float-none text-center\">\n",
      "  <div class=\"relative mb-10 md:m-0\">\n",
      "    <span class=\"cf-icon-server block md:hidden h-20 bg-center bg-no-repeat\"></span>\n",
      "    <span class=\"cf-icon-error w-12 h-12 absolute left-1/2 md:left-auto md:right-0 md:top-0 -ml-6 -bottom-4\"></span>\n",
      "  </div>\n",
      "  <span class=\"md:block w-full truncate\">api-demo.fxcm.com</span>\n",
      "  <h3 class=\"md:inline-block mt-3 md:mt-0 text-2xl text-gray-600 font-light leading-1.3\">Host</h3>\n",
      "  <span class=\"leading-1.3 text-2xl text-red-error\">Error</span>\n",
      "</div>\n",
      "\n",
      "                </div>\n",
      "              \n",
      "            </div>\n",
      "        </div>\n",
      "\n",
      "        <div class=\"w-240 lg:w-full mx-auto mb-8 lg:px-8\">\n",
      "            <div class=\"clearfix\">\n",
      "                <div class=\"w-1/2 md:w-full float-left pr-6 md:pb-10 md:pr-0 leading-relaxed\">\n",
      "                    <h2 class=\"text-3xl font-normal leading-1.3 mb-4\">What happened?</h2>\n",
      "                    <p>There is an unknown connection issue between Cloudflare and the origin web server. As a result, the web page can not be displayed.</p>\n",
      "                </div>\n",
      "              \n",
      "                <div class=\"w-1/2 md:w-full float-left leading-relaxed\">\n",
      "                    <h2 class=\"text-3xl font-normal leading-1.3 mb-4\">What can I do?</h2>\n",
      "                          <h3 class=\"text-15 font-semibold mb-2\">If you are a visitor of this website:</h3>\n",
      "      <p class=\"mb-6\">Please try again in a few minutes.</p>\n",
      "\n",
      "      <h3 class=\"text-15 font-semibold mb-2\">If you are the owner of this website:</h3>\n",
      "      <p><span>There is an issue between Cloudflare's cache and your origin web server. Cloudflare monitors for these errors and automatically investigates the cause. To help support the investigation, you can pull the corresponding error log from your web server and submit it our support team.  Please include the Ray ID (which is at the bottom of this error page).</span> <a rel=\"noopener noreferrer\" href=\"https://support.cloudflare.com/hc/en-us/articles/200171936-Error-520\">Additional troubleshooting resources</a>.</p>\n",
      "                </div>\n",
      "            </div>\n",
      "              \n",
      "        </div>\n",
      "\n",
      "        <div class=\"cf-error-footer cf-wrapper w-240 lg:w-full py-10 sm:py-4 sm:px-8 mx-auto text-center sm:text-left border-solid border-0 border-t border-gray-300\">\n",
      "  <p class=\"text-13\">\n",
      "    <span class=\"cf-footer-item sm:block sm:mb-1\">Cloudflare Ray ID: <strong class=\"font-semibold\">6aa5f82d8c645363</strong></span>\n",
      "    <span class=\"cf-footer-separator sm:hidden\">&bull;</span>\n",
      "    <span class=\"cf-footer-item sm:block sm:mb-1\"><span>Your IP</span>: 2a02:810d:9340:5304:60a7:1df2:3f9e:5c54</span>\n",
      "    <span class=\"cf-footer-separator sm:hidden\">&bull;</span>\n",
      "    <span class=\"cf-footer-item sm:block sm:mb-1\"><span>Performance &amp; security by</span> <a rel=\"noopener noreferrer\" href=\"https://www.cloudflare.com/5xx-error-landing\" id=\"brand_link\" target=\"_blank\">Cloudflare</a></span>\n",
      "    \n",
      "  </p>\n",
      "</div><!-- /.error-footer -->\n",
      "\n",
      "\n",
      "    </div>\n",
      "</div>\n",
      "</body>\n",
      "</html>\n",
      "\n",
      ".\n"
     ]
    },
    {
     "ename": "ServerError",
     "evalue": "Request returns status code 520 and message \"<!DOCTYPE html>\n<!--[if lt IE 7]> <html class=\"no-js ie6 oldie\" lang=\"en-US\"> <![endif]-->\n<!--[if IE 7]>    <html class=\"no-js ie7 oldie\" lang=\"en-US\"> <![endif]-->\n<!--[if IE 8]>    <html class=\"no-js ie8 oldie\" lang=\"en-US\"> <![endif]-->\n<!--[if gt IE 8]><!--> <html class=\"no-js\" lang=\"en-US\"> <!--<![endif]-->\n<head>\n<meta http-equiv=\"refresh\" content=\"0\">\n\n<title>api-demo.fxcm.com | 520: Web server is returning an unknown error</title>\n<meta charset=\"UTF-8\" />\n<meta http-equiv=\"Content-Type\" content=\"text/html; charset=UTF-8\" />\n<meta http-equiv=\"X-UA-Compatible\" content=\"IE=Edge,chrome=1\" />\n<meta name=\"robots\" content=\"noindex, nofollow\" />\n<meta name=\"viewport\" content=\"width=device-width,initial-scale=1\" />\n<link rel=\"stylesheet\" id=\"cf_styles-css\" href=\"/cdn-cgi/styles/main.css\" type=\"text/css\" media=\"screen,projection\" />\n\n\n</head>\n<body>\n<div id=\"cf-wrapper\">\n\n    \n\n    <div id=\"cf-error-details\" class=\"p-0\">\n        <header class=\"mx-auto pt-10 lg:pt-6 lg:px-8 w-240 lg:w-full mb-8\">\n            <h1 class=\"inline-block sm:block sm:mb-2 font-light text-60 lg:text-4xl text-black-dark leading-tight mr-2\">\n              \n              <span class=\"cf-error-type\">Error</span>\n              <span class=\"cf-error-code\">520</span>\n            </h1>\n            <span class=\"inline-block sm:block font-mono text-15 lg:text-sm lg:leading-relaxed\">Ray ID: 6aa5f82d8c645363 &bull;</span>\n            <span class=\"inline-block sm:block font-mono text-15 lg:text-sm lg:leading-relaxed\">2021-11-07 10:44:59 UTC</span>\n            <h2 class=\"text-gray-600 leading-1.3 text-3xl font-light\">Web server is returning an unknown error</h2>\n        </header>\n        \n        <div class=\"my-8 bg-gradient-gray\">\n            <div class=\"w-240 lg:w-full mx-auto\">\n                <div class=\"clearfix md:px-8\">\n                  \n<div id=\"cf-browser-status\" class=\" relative w-1/3 md:w-full py-15 md:p-0 md:py-8 md:text-left md:border-solid md:border-0 md:border-b md:border-gray-400 overflow-hidden float-left md:float-none text-center\">\n  <div class=\"relative mb-10 md:m-0\">\n    <span class=\"cf-icon-browser block md:hidden h-20 bg-center bg-no-repeat\"></span>\n    <span class=\"cf-icon-ok w-12 h-12 absolute left-1/2 md:left-auto md:right-0 md:top-0 -ml-6 -bottom-4\"></span>\n  </div>\n  <span class=\"md:block w-full truncate\">You</span>\n  <h3 class=\"md:inline-block mt-3 md:mt-0 text-2xl text-gray-600 font-light leading-1.3\">Browser</h3>\n  <span class=\"leading-1.3 text-2xl text-green-success\">Working</span>\n</div>\n\n<div id=\"cf-cloudflare-status\" class=\" relative w-1/3 md:w-full py-15 md:p-0 md:py-8 md:text-left md:border-solid md:border-0 md:border-b md:border-gray-400 overflow-hidden float-left md:float-none text-center\">\n  <div class=\"relative mb-10 md:m-0\">\n    <span class=\"cf-icon-cloud block md:hidden h-20 bg-center bg-no-repeat\"></span>\n    <span class=\"cf-icon-ok w-12 h-12 absolute left-1/2 md:left-auto md:right-0 md:top-0 -ml-6 -bottom-4\"></span>\n  </div>\n  <span class=\"md:block w-full truncate\">Frankfurt</span>\n  <h3 class=\"md:inline-block mt-3 md:mt-0 text-2xl text-gray-600 font-light leading-1.3\">Cloudflare</h3>\n  <span class=\"leading-1.3 text-2xl text-green-success\">Working</span>\n</div>\n\n<div id=\"cf-host-status\" class=\"cf-error-source relative w-1/3 md:w-full py-15 md:p-0 md:py-8 md:text-left md:border-solid md:border-0 md:border-b md:border-gray-400 overflow-hidden float-left md:float-none text-center\">\n  <div class=\"relative mb-10 md:m-0\">\n    <span class=\"cf-icon-server block md:hidden h-20 bg-center bg-no-repeat\"></span>\n    <span class=\"cf-icon-error w-12 h-12 absolute left-1/2 md:left-auto md:right-0 md:top-0 -ml-6 -bottom-4\"></span>\n  </div>\n  <span class=\"md:block w-full truncate\">api-demo.fxcm.com</span>\n  <h3 class=\"md:inline-block mt-3 md:mt-0 text-2xl text-gray-600 font-light leading-1.3\">Host</h3>\n  <span class=\"leading-1.3 text-2xl text-red-error\">Error</span>\n</div>\n\n                </div>\n              \n            </div>\n        </div>\n\n        <div class=\"w-240 lg:w-full mx-auto mb-8 lg:px-8\">\n            <div class=\"clearfix\">\n                <div class=\"w-1/2 md:w-full float-left pr-6 md:pb-10 md:pr-0 leading-relaxed\">\n                    <h2 class=\"text-3xl font-normal leading-1.3 mb-4\">What happened?</h2>\n                    <p>There is an unknown connection issue between Cloudflare and the origin web server. As a result, the web page can not be displayed.</p>\n                </div>\n              \n                <div class=\"w-1/2 md:w-full float-left leading-relaxed\">\n                    <h2 class=\"text-3xl font-normal leading-1.3 mb-4\">What can I do?</h2>\n                          <h3 class=\"text-15 font-semibold mb-2\">If you are a visitor of this website:</h3>\n      <p class=\"mb-6\">Please try again in a few minutes.</p>\n\n      <h3 class=\"text-15 font-semibold mb-2\">If you are the owner of this website:</h3>\n      <p><span>There is an issue between Cloudflare's cache and your origin web server. Cloudflare monitors for these errors and automatically investigates the cause. To help support the investigation, you can pull the corresponding error log from your web server and submit it our support team.  Please include the Ray ID (which is at the bottom of this error page).</span> <a rel=\"noopener noreferrer\" href=\"https://support.cloudflare.com/hc/en-us/articles/200171936-Error-520\">Additional troubleshooting resources</a>.</p>\n                </div>\n            </div>\n              \n        </div>\n\n        <div class=\"cf-error-footer cf-wrapper w-240 lg:w-full py-10 sm:py-4 sm:px-8 mx-auto text-center sm:text-left border-solid border-0 border-t border-gray-300\">\n  <p class=\"text-13\">\n    <span class=\"cf-footer-item sm:block sm:mb-1\">Cloudflare Ray ID: <strong class=\"font-semibold\">6aa5f82d8c645363</strong></span>\n    <span class=\"cf-footer-separator sm:hidden\">&bull;</span>\n    <span class=\"cf-footer-item sm:block sm:mb-1\"><span>Your IP</span>: 2a02:810d:9340:5304:60a7:1df2:3f9e:5c54</span>\n    <span class=\"cf-footer-separator sm:hidden\">&bull;</span>\n    <span class=\"cf-footer-item sm:block sm:mb-1\"><span>Performance &amp; security by</span> <a rel=\"noopener noreferrer\" href=\"https://www.cloudflare.com/5xx-error-landing\" id=\"brand_link\" target=\"_blank\">Cloudflare</a></span>\n    \n  </p>\n</div><!-- /.error-footer -->\n\n\n    </div>\n</div>\n</body>\n</html>\n\n\"",
     "output_type": "error",
     "traceback": [
      "\u001b[0;31m---------------------------------------------------------------------------\u001b[0m",
      "\u001b[0;31mServerError\u001b[0m                               Traceback (most recent call last)",
      "\u001b[0;32m<ipython-input-28-146ec98e94c0>\u001b[0m in \u001b[0;36m<module>\u001b[0;34m\u001b[0m\n\u001b[1;32m      1\u001b[0m \u001b[0;32mfor\u001b[0m \u001b[0mkey\u001b[0m\u001b[0;34m,\u001b[0m \u001b[0mvalue\u001b[0m \u001b[0;32min\u001b[0m \u001b[0mcrypto_dic\u001b[0m\u001b[0;34m.\u001b[0m\u001b[0mitems\u001b[0m\u001b[0;34m(\u001b[0m\u001b[0;34m)\u001b[0m\u001b[0;34m:\u001b[0m\u001b[0;34m\u001b[0m\u001b[0;34m\u001b[0m\u001b[0m\n\u001b[0;32m----> 2\u001b[0;31m     \u001b[0mget5min_df\u001b[0m\u001b[0;34m(\u001b[0m\u001b[0mkey\u001b[0m\u001b[0;34m,\u001b[0m \u001b[0mvalue\u001b[0m\u001b[0;34m)\u001b[0m\u001b[0;34m\u001b[0m\u001b[0;34m\u001b[0m\u001b[0m\n\u001b[0m\u001b[1;32m      3\u001b[0m \u001b[0;34m\u001b[0m\u001b[0m\n",
      "\u001b[0;32m<ipython-input-24-ca6d47c15856>\u001b[0m in \u001b[0;36mget5min_df\u001b[0;34m(symbol, ticker)\u001b[0m\n\u001b[1;32m     18\u001b[0m     \u001b[0mjuli_2_start\u001b[0m \u001b[0;34m=\u001b[0m \u001b[0mdatetime\u001b[0m\u001b[0;34m(\u001b[0m\u001b[0;36m2021\u001b[0m\u001b[0;34m,\u001b[0m \u001b[0;36m7\u001b[0m\u001b[0;34m,\u001b[0m \u001b[0;36m1\u001b[0m\u001b[0;34m,\u001b[0m \u001b[0;36m0\u001b[0m\u001b[0;34m,\u001b[0m\u001b[0;36m0\u001b[0m\u001b[0;34m,\u001b[0m\u001b[0;36m0\u001b[0m\u001b[0;34m)\u001b[0m\u001b[0;34m\u001b[0m\u001b[0;34m\u001b[0m\u001b[0m\n\u001b[1;32m     19\u001b[0m     \u001b[0mjuli_2_end\u001b[0m \u001b[0;34m=\u001b[0m \u001b[0mdatetime\u001b[0m\u001b[0;34m(\u001b[0m\u001b[0;36m2021\u001b[0m\u001b[0;34m,\u001b[0m \u001b[0;36m7\u001b[0m\u001b[0;34m,\u001b[0m \u001b[0;36m31\u001b[0m\u001b[0;34m,\u001b[0m \u001b[0;36m23\u001b[0m\u001b[0;34m,\u001b[0m \u001b[0;36m55\u001b[0m\u001b[0;34m,\u001b[0m \u001b[0;36m0\u001b[0m\u001b[0;34m)\u001b[0m\u001b[0;34m\u001b[0m\u001b[0;34m\u001b[0m\u001b[0m\n\u001b[0;32m---> 20\u001b[0;31m     df_juli_1 = api.get_candles(ticker, start = juli_2_start, end = juli_2_end, \n\u001b[0m\u001b[1;32m     21\u001b[0m                     period = \"m5\", columns = [\"asks\"])\n\u001b[1;32m     22\u001b[0m \u001b[0;34m\u001b[0m\u001b[0m\n",
      "\u001b[0;32m/usr/local/lib/python3.8/site-packages/fxcmpy/fxcmpy.py\u001b[0m in \u001b[0;36mget_candles\u001b[0;34m(self, instrument, offer_id, period, number, start, end, with_index, columns, stop)\u001b[0m\n\u001b[1;32m   2182\u001b[0m             \u001b[0mparams\u001b[0m\u001b[0;34m[\u001b[0m\u001b[0;34m'to'\u001b[0m\u001b[0;34m]\u001b[0m \u001b[0;34m=\u001b[0m \u001b[0mmax\u001b[0m\u001b[0;34m(\u001b[0m\u001b[0mend\u001b[0m\u001b[0;34m,\u001b[0m \u001b[0;36m1\u001b[0m\u001b[0;34m)\u001b[0m\u001b[0;34m\u001b[0m\u001b[0;34m\u001b[0m\u001b[0m\n\u001b[1;32m   2183\u001b[0m \u001b[0;34m\u001b[0m\u001b[0m\n\u001b[0;32m-> 2184\u001b[0;31m         data = self.__handle_request__(method='candles/%s/%s'\n\u001b[0m\u001b[1;32m   2185\u001b[0m                                        % (offer_id, period), params=params)\n\u001b[1;32m   2186\u001b[0m \u001b[0;34m\u001b[0m\u001b[0m\n",
      "\u001b[0;32m/usr/local/lib/python3.8/site-packages/fxcmpy/fxcmpy.py\u001b[0m in \u001b[0;36m__handle_request__\u001b[0;34m(self, method, params, protocol)\u001b[0m\n\u001b[1;32m   2489\u001b[0m                               % (method, req.status_code, req.text))\n\u001b[1;32m   2490\u001b[0m \u001b[0;34m\u001b[0m\u001b[0m\n\u001b[0;32m-> 2491\u001b[0;31m             raise ServerError('Request returns status code %s and message \"%s\"'\n\u001b[0m\u001b[1;32m   2492\u001b[0m                               % (req.status_code,\n\u001b[1;32m   2493\u001b[0m                                  unquote(req.text)))\n",
      "\u001b[0;31mServerError\u001b[0m: Request returns status code 520 and message \"<!DOCTYPE html>\n<!--[if lt IE 7]> <html class=\"no-js ie6 oldie\" lang=\"en-US\"> <![endif]-->\n<!--[if IE 7]>    <html class=\"no-js ie7 oldie\" lang=\"en-US\"> <![endif]-->\n<!--[if IE 8]>    <html class=\"no-js ie8 oldie\" lang=\"en-US\"> <![endif]-->\n<!--[if gt IE 8]><!--> <html class=\"no-js\" lang=\"en-US\"> <!--<![endif]-->\n<head>\n<meta http-equiv=\"refresh\" content=\"0\">\n\n<title>api-demo.fxcm.com | 520: Web server is returning an unknown error</title>\n<meta charset=\"UTF-8\" />\n<meta http-equiv=\"Content-Type\" content=\"text/html; charset=UTF-8\" />\n<meta http-equiv=\"X-UA-Compatible\" content=\"IE=Edge,chrome=1\" />\n<meta name=\"robots\" content=\"noindex, nofollow\" />\n<meta name=\"viewport\" content=\"width=device-width,initial-scale=1\" />\n<link rel=\"stylesheet\" id=\"cf_styles-css\" href=\"/cdn-cgi/styles/main.css\" type=\"text/css\" media=\"screen,projection\" />\n\n\n</head>\n<body>\n<div id=\"cf-wrapper\">\n\n    \n\n    <div id=\"cf-error-details\" class=\"p-0\">\n        <header class=\"mx-auto pt-10 lg:pt-6 lg:px-8 w-240 lg:w-full mb-8\">\n            <h1 class=\"inline-block sm:block sm:mb-2 font-light text-60 lg:text-4xl text-black-dark leading-tight mr-2\">\n              \n              <span class=\"cf-error-type\">Error</span>\n              <span class=\"cf-error-code\">520</span>\n            </h1>\n            <span class=\"inline-block sm:block font-mono text-15 lg:text-sm lg:leading-relaxed\">Ray ID: 6aa5f82d8c645363 &bull;</span>\n            <span class=\"inline-block sm:block font-mono text-15 lg:text-sm lg:leading-relaxed\">2021-11-07 10:44:59 UTC</span>\n            <h2 class=\"text-gray-600 leading-1.3 text-3xl font-light\">Web server is returning an unknown error</h2>\n        </header>\n        \n        <div class=\"my-8 bg-gradient-gray\">\n            <div class=\"w-240 lg:w-full mx-auto\">\n                <div class=\"clearfix md:px-8\">\n                  \n<div id=\"cf-browser-status\" class=\" relative w-1/3 md:w-full py-15 md:p-0 md:py-8 md:text-left md:border-solid md:border-0 md:border-b md:border-gray-400 overflow-hidden float-left md:float-none text-center\">\n  <div class=\"relative mb-10 md:m-0\">\n    <span class=\"cf-icon-browser block md:hidden h-20 bg-center bg-no-repeat\"></span>\n    <span class=\"cf-icon-ok w-12 h-12 absolute left-1/2 md:left-auto md:right-0 md:top-0 -ml-6 -bottom-4\"></span>\n  </div>\n  <span class=\"md:block w-full truncate\">You</span>\n  <h3 class=\"md:inline-block mt-3 md:mt-0 text-2xl text-gray-600 font-light leading-1.3\">Browser</h3>\n  <span class=\"leading-1.3 text-2xl text-green-success\">Working</span>\n</div>\n\n<div id=\"cf-cloudflare-status\" class=\" relative w-1/3 md:w-full py-15 md:p-0 md:py-8 md:text-left md:border-solid md:border-0 md:border-b md:border-gray-400 overflow-hidden float-left md:float-none text-center\">\n  <div class=\"relative mb-10 md:m-0\">\n    <span class=\"cf-icon-cloud block md:hidden h-20 bg-center bg-no-repeat\"></span>\n    <span class=\"cf-icon-ok w-12 h-12 absolute left-1/2 md:left-auto md:right-0 md:top-0 -ml-6 -bottom-4\"></span>\n  </div>\n  <span class=\"md:block w-full truncate\">Frankfurt</span>\n  <h3 class=\"md:inline-block mt-3 md:mt-0 text-2xl text-gray-600 font-light leading-1.3\">Cloudflare</h3>\n  <span class=\"leading-1.3 text-2xl text-green-success\">Working</span>\n</div>\n\n<div id=\"cf-host-status\" class=\"cf-error-source relative w-1/3 md:w-full py-15 md:p-0 md:py-8 md:text-left md:border-solid md:border-0 md:border-b md:border-gray-400 overflow-hidden float-left md:float-none text-center\">\n  <div class=\"relative mb-10 md:m-0\">\n    <span class=\"cf-icon-server block md:hidden h-20 bg-center bg-no-repeat\"></span>\n    <span class=\"cf-icon-error w-12 h-12 absolute left-1/2 md:left-auto md:right-0 md:top-0 -ml-6 -bottom-4\"></span>\n  </div>\n  <span class=\"md:block w-full truncate\">api-demo.fxcm.com</span>\n  <h3 class=\"md:inline-block mt-3 md:mt-0 text-2xl text-gray-600 font-light leading-1.3\">Host</h3>\n  <span class=\"leading-1.3 text-2xl text-red-error\">Error</span>\n</div>\n\n                </div>\n              \n            </div>\n        </div>\n\n        <div class=\"w-240 lg:w-full mx-auto mb-8 lg:px-8\">\n            <div class=\"clearfix\">\n                <div class=\"w-1/2 md:w-full float-left pr-6 md:pb-10 md:pr-0 leading-relaxed\">\n                    <h2 class=\"text-3xl font-normal leading-1.3 mb-4\">What happened?</h2>\n                    <p>There is an unknown connection issue between Cloudflare and the origin web server. As a result, the web page can not be displayed.</p>\n                </div>\n              \n                <div class=\"w-1/2 md:w-full float-left leading-relaxed\">\n                    <h2 class=\"text-3xl font-normal leading-1.3 mb-4\">What can I do?</h2>\n                          <h3 class=\"text-15 font-semibold mb-2\">If you are a visitor of this website:</h3>\n      <p class=\"mb-6\">Please try again in a few minutes.</p>\n\n      <h3 class=\"text-15 font-semibold mb-2\">If you are the owner of this website:</h3>\n      <p><span>There is an issue between Cloudflare's cache and your origin web server. Cloudflare monitors for these errors and automatically investigates the cause. To help support the investigation, you can pull the corresponding error log from your web server and submit it our support team.  Please include the Ray ID (which is at the bottom of this error page).</span> <a rel=\"noopener noreferrer\" href=\"https://support.cloudflare.com/hc/en-us/articles/200171936-Error-520\">Additional troubleshooting resources</a>.</p>\n                </div>\n            </div>\n              \n        </div>\n\n        <div class=\"cf-error-footer cf-wrapper w-240 lg:w-full py-10 sm:py-4 sm:px-8 mx-auto text-center sm:text-left border-solid border-0 border-t border-gray-300\">\n  <p class=\"text-13\">\n    <span class=\"cf-footer-item sm:block sm:mb-1\">Cloudflare Ray ID: <strong class=\"font-semibold\">6aa5f82d8c645363</strong></span>\n    <span class=\"cf-footer-separator sm:hidden\">&bull;</span>\n    <span class=\"cf-footer-item sm:block sm:mb-1\"><span>Your IP</span>: 2a02:810d:9340:5304:60a7:1df2:3f9e:5c54</span>\n    <span class=\"cf-footer-separator sm:hidden\">&bull;</span>\n    <span class=\"cf-footer-item sm:block sm:mb-1\"><span>Performance &amp; security by</span> <a rel=\"noopener noreferrer\" href=\"https://www.cloudflare.com/5xx-error-landing\" id=\"brand_link\" target=\"_blank\">Cloudflare</a></span>\n    \n  </p>\n</div><!-- /.error-footer -->\n\n\n    </div>\n</div>\n</body>\n</html>\n\n\""
     ]
    }
   ],
   "source": [
    "for key, value in crypto_dic.items(): \n",
    "    get5min_df(key, value)\n",
    "\n"
   ]
  },
  {
   "cell_type": "code",
   "execution_count": 98,
   "metadata": {},
   "outputs": [
    {
     "data": {
      "text/plain": [
       "14379"
      ]
     },
     "execution_count": 98,
     "metadata": {},
     "output_type": "execute_result"
    }
   ],
   "source": [
    "len(df_mai_1)"
   ]
  },
  {
   "cell_type": "code",
   "execution_count": null,
   "metadata": {},
   "outputs": [],
   "source": []
  },
  {
   "cell_type": "code",
   "execution_count": 125,
   "metadata": {},
   "outputs": [],
   "source": [
    "d = {'col1': [1, 2], 'col2': [3, 4]}\n",
    "df = pd.DataFrame(data=d)\n",
    "symbol = \"BTC\"\n",
    "path = \"./hist_data/\" + symbol + \"/5min/\"+symbol+\"_5min.csv\"\n",
    "\n",
    "df.to_csv(path)"
   ]
  },
  {
   "cell_type": "code",
   "execution_count": 99,
   "metadata": {},
   "outputs": [
    {
     "data": {
      "text/plain": [
       "14519"
      ]
     },
     "execution_count": 99,
     "metadata": {},
     "output_type": "execute_result"
    }
   ],
   "source": [
    "len(df_mai_2)"
   ]
  },
  {
   "cell_type": "code",
   "execution_count": 79,
   "metadata": {},
   "outputs": [],
   "source": [
    "start_t = datetime(2021, 7, 1, 0, 0, 0)\n",
    "end_t = datetime(2021, 7, 31, 23, 59, 0)\n",
    "df_3 = api.get_candles(\"ETH/USD\", start = start_t, end = end_t, \n",
    "                period = \"m1\", columns = [\"asks\"])"
   ]
  },
  {
   "cell_type": "code",
   "execution_count": 80,
   "metadata": {},
   "outputs": [],
   "source": [
    "start_t = datetime(2021, 8, 1, 0, 0, 0)\n",
    "end_t = datetime(2021, 8, 31, 23, 59, 0)\n",
    "df_4 = api.get_candles(\"ETH/USD\", start = start_t, end = end_t, \n",
    "                period = \"m1\", columns = [\"asks\"])"
   ]
  },
  {
   "cell_type": "code",
   "execution_count": 81,
   "metadata": {},
   "outputs": [],
   "source": [
    "start_t = datetime(2021, 9, 1, 0, 0, 0)\n",
    "end_t = datetime(2021, 9, 30, 23, 59, 0)\n",
    "df_5= api.get_candles(\"ETH/USD\", start = start_t, end = end_t, \n",
    "                period = \"m1\", columns = [\"asks\"])"
   ]
  },
  {
   "cell_type": "code",
   "execution_count": 82,
   "metadata": {},
   "outputs": [],
   "source": [
    "start_t = datetime(2021, 10, 1, 0, 0, 0)\n",
    "end_t = datetime(2021, 10, 30, 22, 59, 0)\n",
    "df_6= api.get_candles(\"ETH/USD\", start = start_t, end = end_t, \n",
    "                period = \"m1\", columns = [\"asks\"])"
   ]
  },
  {
   "cell_type": "code",
   "execution_count": 83,
   "metadata": {},
   "outputs": [],
   "source": [
    "df_2 = df_2.append(df_1)"
   ]
  },
  {
   "cell_type": "code",
   "execution_count": 84,
   "metadata": {},
   "outputs": [],
   "source": [
    "df_3 = df_3.append(df_2)"
   ]
  },
  {
   "cell_type": "code",
   "execution_count": 85,
   "metadata": {},
   "outputs": [],
   "source": [
    "df_4 = df_4.append(df_3)"
   ]
  },
  {
   "cell_type": "code",
   "execution_count": 86,
   "metadata": {},
   "outputs": [],
   "source": [
    "df_5 = df_5.append(df_4)"
   ]
  },
  {
   "cell_type": "code",
   "execution_count": 87,
   "metadata": {},
   "outputs": [],
   "source": [
    "big_df = df_6.append(df_5)"
   ]
  },
  {
   "cell_type": "code",
   "execution_count": 75,
   "metadata": {},
   "outputs": [],
   "source": [
    "#big_df = big_df.append(df_6)"
   ]
  },
  {
   "cell_type": "code",
   "execution_count": 88,
   "metadata": {},
   "outputs": [],
   "source": [
    "big_df.to_csv(\"./hist_data/ETH/1min/eth_6month.csv\")"
   ]
  },
  {
   "cell_type": "code",
   "execution_count": 133,
   "metadata": {},
   "outputs": [],
   "source": [
    "api.close()"
   ]
  },
  {
   "cell_type": "code",
   "execution_count": null,
   "metadata": {},
   "outputs": [],
   "source": [
    "import engineio\n",
    "print(engineio.__version__)"
   ]
  },
  {
   "cell_type": "markdown",
   "metadata": {},
   "source": [
    "## Streaming high-frequency real-time Data"
   ]
  },
  {
   "cell_type": "code",
   "execution_count": 1,
   "metadata": {},
   "outputs": [],
   "source": [
    "import pandas as pd\n",
    "import fxcmpy"
   ]
  },
  {
   "cell_type": "code",
   "execution_count": 2,
   "metadata": {},
   "outputs": [],
   "source": [
    "api = fxcmpy.fxcmpy(config_file= \"fxcm.cfg\")"
   ]
  },
  {
   "cell_type": "code",
   "execution_count": 135,
   "metadata": {},
   "outputs": [],
   "source": [
    "api.subscribe_market_data(\"ETH/USD\")"
   ]
  },
  {
   "cell_type": "code",
   "execution_count": 136,
   "metadata": {},
   "outputs": [
    {
     "data": {
      "text/plain": [
       "['ETH/USD']"
      ]
     },
     "execution_count": 136,
     "metadata": {},
     "output_type": "execute_result"
    }
   ],
   "source": [
    "api.get_subscribed_symbols()"
   ]
  },
  {
   "cell_type": "code",
   "execution_count": 143,
   "metadata": {
    "scrolled": true
   },
   "outputs": [
    {
     "data": {
      "text/plain": [
       "Bid     4403.65\n",
       "Ask     4406.85\n",
       "High    4462.15\n",
       "Low     4208.95\n",
       "Name: 2021-10-29 20:54:25.232000, dtype: float64"
      ]
     },
     "execution_count": 143,
     "metadata": {},
     "output_type": "execute_result"
    }
   ],
   "source": [
    "api.get_last_price(\"ETH/USD\")"
   ]
  },
  {
   "cell_type": "code",
   "execution_count": 140,
   "metadata": {
    "scrolled": false
   },
   "outputs": [
    {
     "data": {
      "text/html": [
       "<div>\n",
       "<style scoped>\n",
       "    .dataframe tbody tr th:only-of-type {\n",
       "        vertical-align: middle;\n",
       "    }\n",
       "\n",
       "    .dataframe tbody tr th {\n",
       "        vertical-align: top;\n",
       "    }\n",
       "\n",
       "    .dataframe thead th {\n",
       "        text-align: right;\n",
       "    }\n",
       "</style>\n",
       "<table border=\"1\" class=\"dataframe\">\n",
       "  <thead>\n",
       "    <tr style=\"text-align: right;\">\n",
       "      <th></th>\n",
       "      <th>Bid</th>\n",
       "      <th>Ask</th>\n",
       "      <th>High</th>\n",
       "      <th>Low</th>\n",
       "    </tr>\n",
       "  </thead>\n",
       "  <tbody>\n",
       "    <tr>\n",
       "      <th>2021-10-29 20:54:25.232</th>\n",
       "      <td>4403.65</td>\n",
       "      <td>4406.85</td>\n",
       "      <td>4462.15</td>\n",
       "      <td>4208.95</td>\n",
       "    </tr>\n",
       "  </tbody>\n",
       "</table>\n",
       "</div>"
      ],
      "text/plain": [
       "                             Bid      Ask     High      Low\n",
       "2021-10-29 20:54:25.232  4403.65  4406.85  4462.15  4208.95"
      ]
     },
     "execution_count": 140,
     "metadata": {},
     "output_type": "execute_result"
    }
   ],
   "source": [
    "api.get_prices(\"ETH/USD\")"
   ]
  },
  {
   "cell_type": "code",
   "execution_count": null,
   "metadata": {},
   "outputs": [],
   "source": [
    "import time"
   ]
  },
  {
   "cell_type": "code",
   "execution_count": null,
   "metadata": {
    "scrolled": false
   },
   "outputs": [],
   "source": [
    "while True:\n",
    "    time.sleep(1)\n",
    "    print(api.get_last_price(\"ETH/USD\").name, api.get_last_price(\"ETH/USD\").Bid,\n",
    "          api.get_last_price(\"ETH/USD\").Ask, sep = \"|\")"
   ]
  },
  {
   "cell_type": "code",
   "execution_count": null,
   "metadata": {},
   "outputs": [],
   "source": [
    "api.unsubscribe_market_data(\"ETH/USD\")"
   ]
  },
  {
   "cell_type": "code",
   "execution_count": 131,
   "metadata": {},
   "outputs": [],
   "source": [
    "def print_data(data, dataframe):\n",
    "    print('%3d | %s | %s, %s, %s'\n",
    "          % (len(dataframe), data['Symbol'],\n",
    "             pd.to_datetime(int(data['Updated']), unit='ms'),\n",
    "             data['Rates'][0], data['Rates'][1]))"
   ]
  },
  {
   "cell_type": "code",
   "execution_count": 132,
   "metadata": {},
   "outputs": [],
   "source": [
    "api.subscribe_market_data(\"ETH/USD\", (print_data,))"
   ]
  },
  {
   "cell_type": "code",
   "execution_count": null,
   "metadata": {},
   "outputs": [],
   "source": [
    "api.unsubscribe_market_data(\"ETH/USD\")"
   ]
  },
  {
   "cell_type": "code",
   "execution_count": null,
   "metadata": {},
   "outputs": [],
   "source": [
    "api.close()"
   ]
  },
  {
   "cell_type": "code",
   "execution_count": null,
   "metadata": {},
   "outputs": [],
   "source": []
  },
  {
   "cell_type": "markdown",
   "metadata": {},
   "source": [
    "## Creating Orders and Executing Trades"
   ]
  },
  {
   "cell_type": "code",
   "execution_count": null,
   "metadata": {},
   "outputs": [],
   "source": [
    "import pandas as pd\n",
    "import fxcmpy"
   ]
  },
  {
   "cell_type": "code",
   "execution_count": null,
   "metadata": {},
   "outputs": [],
   "source": [
    "api = fxcmpy.fxcmpy(config_file= \"fxcm.cfg\")"
   ]
  },
  {
   "cell_type": "code",
   "execution_count": 10,
   "metadata": {},
   "outputs": [
    {
     "data": {
      "text/html": [
       "<div>\n",
       "<style scoped>\n",
       "    .dataframe tbody tr th:only-of-type {\n",
       "        vertical-align: middle;\n",
       "    }\n",
       "\n",
       "    .dataframe tbody tr th {\n",
       "        vertical-align: top;\n",
       "    }\n",
       "\n",
       "    .dataframe thead th {\n",
       "        text-align: right;\n",
       "    }\n",
       "</style>\n",
       "<table border=\"1\" class=\"dataframe\">\n",
       "  <thead>\n",
       "    <tr style=\"text-align: right;\">\n",
       "      <th></th>\n",
       "      <th>t</th>\n",
       "      <th>ratePrecision</th>\n",
       "      <th>tradeId</th>\n",
       "      <th>accountName</th>\n",
       "      <th>accountId</th>\n",
       "      <th>roll</th>\n",
       "      <th>com</th>\n",
       "      <th>open</th>\n",
       "      <th>valueDate</th>\n",
       "      <th>grossPL</th>\n",
       "      <th>...</th>\n",
       "      <th>usedMargin</th>\n",
       "      <th>orderId</th>\n",
       "      <th>OpenOrderRequestTXT</th>\n",
       "      <th>OpenOrderReqID</th>\n",
       "      <th>TradeIDOrigin</th>\n",
       "      <th>child_trailingStop</th>\n",
       "      <th>child_trailing</th>\n",
       "      <th>stop</th>\n",
       "      <th>stopMove</th>\n",
       "      <th>limit</th>\n",
       "    </tr>\n",
       "  </thead>\n",
       "  <tbody>\n",
       "    <tr>\n",
       "      <th>0</th>\n",
       "      <td>1</td>\n",
       "      <td>5</td>\n",
       "      <td>177592931</td>\n",
       "      <td>01307575</td>\n",
       "      <td>1307575</td>\n",
       "      <td>0</td>\n",
       "      <td>0</td>\n",
       "      <td>1.1569</td>\n",
       "      <td></td>\n",
       "      <td>-0.16426</td>\n",
       "      <td>...</td>\n",
       "      <td>16.65</td>\n",
       "      <td>384334474</td>\n",
       "      <td>None</td>\n",
       "      <td>Request-110028</td>\n",
       "      <td>None</td>\n",
       "      <td>none</td>\n",
       "      <td>-1</td>\n",
       "      <td>0</td>\n",
       "      <td>0</td>\n",
       "      <td>0</td>\n",
       "    </tr>\n",
       "    <tr>\n",
       "      <th>1</th>\n",
       "      <td>1</td>\n",
       "      <td>5</td>\n",
       "      <td>177592932</td>\n",
       "      <td>01307575</td>\n",
       "      <td>1307575</td>\n",
       "      <td>0</td>\n",
       "      <td>0</td>\n",
       "      <td>1.1569</td>\n",
       "      <td></td>\n",
       "      <td>-0.16426</td>\n",
       "      <td>...</td>\n",
       "      <td>16.65</td>\n",
       "      <td>384334475</td>\n",
       "      <td>None</td>\n",
       "      <td>Request-110157</td>\n",
       "      <td>None</td>\n",
       "      <td>none</td>\n",
       "      <td>-1</td>\n",
       "      <td>0</td>\n",
       "      <td>0</td>\n",
       "      <td>0</td>\n",
       "    </tr>\n",
       "  </tbody>\n",
       "</table>\n",
       "<p>2 rows × 28 columns</p>\n",
       "</div>"
      ],
      "text/plain": [
       "   t  ratePrecision    tradeId accountName accountId  roll  com    open  \\\n",
       "0  1              5  177592931    01307575   1307575     0    0  1.1569   \n",
       "1  1              5  177592932    01307575   1307575     0    0  1.1569   \n",
       "\n",
       "  valueDate  grossPL  ...  usedMargin    orderId  OpenOrderRequestTXT  \\\n",
       "0           -0.16426  ...       16.65  384334474                 None   \n",
       "1           -0.16426  ...       16.65  384334475                 None   \n",
       "\n",
       "   OpenOrderReqID  TradeIDOrigin  child_trailingStop  child_trailing stop  \\\n",
       "0  Request-110028           None                none              -1    0   \n",
       "1  Request-110157           None                none              -1    0   \n",
       "\n",
       "   stopMove limit  \n",
       "0         0     0  \n",
       "1         0     0  \n",
       "\n",
       "[2 rows x 28 columns]"
      ]
     },
     "execution_count": 10,
     "metadata": {},
     "output_type": "execute_result"
    }
   ],
   "source": [
    "api.get_open_positions()"
   ]
  },
  {
   "cell_type": "code",
   "execution_count": 12,
   "metadata": {},
   "outputs": [
    {
     "data": {
      "text/plain": [
       "<fxcmpy.fxcmpy_order.fxcmpy_order at 0x1148711f0>"
      ]
     },
     "execution_count": 12,
     "metadata": {},
     "output_type": "execute_result"
    },
    {
     "name": "stderr",
     "output_type": "stream",
     "text": [
      "|WARNING|2021-11-06 13:21:28,258|Got a insert event for open positions: {'t': 1, 'ratePrecision': 5, 'tradeId': '177592938', 'accountName': '01307575', 'accountId': '1307575', 'roll': 0, 'com': 0, 'open': 1.1569, 'valueDate': '', 'grossPL': -0.32852, 'close': 1.15671, 'visiblePL': -1.9, 'isDisabled': False, 'currency': 'EUR/USD', 'isBuy': True, 'amountK': 2, 'currencyPoint': 0.17289, 'time': '11062021122128', 'usedMargin': 33.3, 'orderId': '384334482', 'OpenOrderRequestTXT': None, 'OpenOrderReqID': 'Request-110374', 'TradeIDOrigin': None, 'child_trailingStop': 'none', 'child_trailing': -1, 'stop': 0, 'stopMove': 0, 'limit': 0, 'action': 'I'}.\n",
      "Exception in thread Thread-33:\n",
      "Traceback (most recent call last):\n",
      "  File \"/usr/local/Cellar/python@3.8/3.8.11/Frameworks/Python.framework/Versions/3.8/lib/python3.8/threading.py\", line 932, in _bootstrap_inner\n",
      "    self.run()\n",
      "  File \"/usr/local/Cellar/python@3.8/3.8.11/Frameworks/Python.framework/Versions/3.8/lib/python3.8/threading.py\", line 870, in run\n",
      "|WARNING|2021-11-06 13:21:28,266|Got a delete event for orders: {'t': 3, 'orderId': '384334482', 'action': 'D'}.\n",
      "    self._target(*self._args, **self._kwargs)\n",
      "  File \"/usr/local/lib/python3.8/site-packages/socketio/client.py\", line 616, in _handle_eio_message\n",
      "    self._handle_event(pkt.namespace, pkt.id, pkt.data)\n",
      "  File \"/usr/local/lib/python3.8/site-packages/socketio/client.py\", line 500, in _handle_event\n",
      "    r = self._trigger_event(data[0], namespace, *data[1:])\n",
      "  File \"/usr/local/lib/python3.8/site-packages/socketio/client.py\", line 550, in _trigger_event\n",
      "    return self.handlers[namespace][event](*args)\n",
      "  File \"/usr/local/lib/python3.8/site-packages/fxcmpy/fxcmpy.py\", line 2695, in __on_open_pos_update__\n",
      "    pos = self.open_pos[trade_id]\n",
      "KeyError: 177592938\n"
     ]
    }
   ],
   "source": [
    "api.create_market_buy_order(\"EUR/USD\",2)"
   ]
  },
  {
   "cell_type": "code",
   "execution_count": 13,
   "metadata": {},
   "outputs": [
    {
     "data": {
      "text/html": [
       "<div>\n",
       "<style scoped>\n",
       "    .dataframe tbody tr th:only-of-type {\n",
       "        vertical-align: middle;\n",
       "    }\n",
       "\n",
       "    .dataframe tbody tr th {\n",
       "        vertical-align: top;\n",
       "    }\n",
       "\n",
       "    .dataframe thead th {\n",
       "        text-align: right;\n",
       "    }\n",
       "</style>\n",
       "<table border=\"1\" class=\"dataframe\">\n",
       "  <thead>\n",
       "    <tr style=\"text-align: right;\">\n",
       "      <th></th>\n",
       "      <th>t</th>\n",
       "      <th>ratePrecision</th>\n",
       "      <th>tradeId</th>\n",
       "      <th>accountName</th>\n",
       "      <th>accountId</th>\n",
       "      <th>roll</th>\n",
       "      <th>com</th>\n",
       "      <th>open</th>\n",
       "      <th>valueDate</th>\n",
       "      <th>grossPL</th>\n",
       "      <th>...</th>\n",
       "      <th>usedMargin</th>\n",
       "      <th>orderId</th>\n",
       "      <th>OpenOrderRequestTXT</th>\n",
       "      <th>OpenOrderReqID</th>\n",
       "      <th>TradeIDOrigin</th>\n",
       "      <th>child_trailingStop</th>\n",
       "      <th>child_trailing</th>\n",
       "      <th>stop</th>\n",
       "      <th>stopMove</th>\n",
       "      <th>limit</th>\n",
       "    </tr>\n",
       "  </thead>\n",
       "  <tbody>\n",
       "    <tr>\n",
       "      <th>0</th>\n",
       "      <td>1</td>\n",
       "      <td>5</td>\n",
       "      <td>177592931</td>\n",
       "      <td>01307575</td>\n",
       "      <td>1307575</td>\n",
       "      <td>0</td>\n",
       "      <td>0</td>\n",
       "      <td>1.1569</td>\n",
       "      <td></td>\n",
       "      <td>-0.16426</td>\n",
       "      <td>...</td>\n",
       "      <td>16.65</td>\n",
       "      <td>384334474</td>\n",
       "      <td>None</td>\n",
       "      <td>Request-110028</td>\n",
       "      <td>None</td>\n",
       "      <td>none</td>\n",
       "      <td>-1</td>\n",
       "      <td>0</td>\n",
       "      <td>0</td>\n",
       "      <td>0</td>\n",
       "    </tr>\n",
       "    <tr>\n",
       "      <th>1</th>\n",
       "      <td>1</td>\n",
       "      <td>5</td>\n",
       "      <td>177592932</td>\n",
       "      <td>01307575</td>\n",
       "      <td>1307575</td>\n",
       "      <td>0</td>\n",
       "      <td>0</td>\n",
       "      <td>1.1569</td>\n",
       "      <td></td>\n",
       "      <td>-0.16426</td>\n",
       "      <td>...</td>\n",
       "      <td>16.65</td>\n",
       "      <td>384334475</td>\n",
       "      <td>None</td>\n",
       "      <td>Request-110157</td>\n",
       "      <td>None</td>\n",
       "      <td>none</td>\n",
       "      <td>-1</td>\n",
       "      <td>0</td>\n",
       "      <td>0</td>\n",
       "      <td>0</td>\n",
       "    </tr>\n",
       "    <tr>\n",
       "      <th>2</th>\n",
       "      <td>1</td>\n",
       "      <td>5</td>\n",
       "      <td>177592937</td>\n",
       "      <td>01307575</td>\n",
       "      <td>1307575</td>\n",
       "      <td>0</td>\n",
       "      <td>0</td>\n",
       "      <td>1.1569</td>\n",
       "      <td></td>\n",
       "      <td>-0.32852</td>\n",
       "      <td>...</td>\n",
       "      <td>33.30</td>\n",
       "      <td>384334481</td>\n",
       "      <td>None</td>\n",
       "      <td>Request-110370</td>\n",
       "      <td>None</td>\n",
       "      <td>none</td>\n",
       "      <td>-1</td>\n",
       "      <td>0</td>\n",
       "      <td>0</td>\n",
       "      <td>0</td>\n",
       "    </tr>\n",
       "    <tr>\n",
       "      <th>3</th>\n",
       "      <td>1</td>\n",
       "      <td>5</td>\n",
       "      <td>177592938</td>\n",
       "      <td>01307575</td>\n",
       "      <td>1307575</td>\n",
       "      <td>0</td>\n",
       "      <td>0</td>\n",
       "      <td>1.1569</td>\n",
       "      <td></td>\n",
       "      <td>-0.32852</td>\n",
       "      <td>...</td>\n",
       "      <td>33.30</td>\n",
       "      <td>384334482</td>\n",
       "      <td>None</td>\n",
       "      <td>Request-110374</td>\n",
       "      <td>None</td>\n",
       "      <td>none</td>\n",
       "      <td>-1</td>\n",
       "      <td>0</td>\n",
       "      <td>0</td>\n",
       "      <td>0</td>\n",
       "    </tr>\n",
       "  </tbody>\n",
       "</table>\n",
       "<p>4 rows × 28 columns</p>\n",
       "</div>"
      ],
      "text/plain": [
       "   t  ratePrecision    tradeId accountName accountId  roll  com    open  \\\n",
       "0  1              5  177592931    01307575   1307575     0    0  1.1569   \n",
       "1  1              5  177592932    01307575   1307575     0    0  1.1569   \n",
       "2  1              5  177592937    01307575   1307575     0    0  1.1569   \n",
       "3  1              5  177592938    01307575   1307575     0    0  1.1569   \n",
       "\n",
       "  valueDate  grossPL  ...  usedMargin    orderId  OpenOrderRequestTXT  \\\n",
       "0           -0.16426  ...       16.65  384334474                 None   \n",
       "1           -0.16426  ...       16.65  384334475                 None   \n",
       "2           -0.32852  ...       33.30  384334481                 None   \n",
       "3           -0.32852  ...       33.30  384334482                 None   \n",
       "\n",
       "   OpenOrderReqID  TradeIDOrigin  child_trailingStop  child_trailing stop  \\\n",
       "0  Request-110028           None                none              -1    0   \n",
       "1  Request-110157           None                none              -1    0   \n",
       "2  Request-110370           None                none              -1    0   \n",
       "3  Request-110374           None                none              -1    0   \n",
       "\n",
       "   stopMove limit  \n",
       "0         0     0  \n",
       "1         0     0  \n",
       "2         0     0  \n",
       "3         0     0  \n",
       "\n",
       "[4 rows x 28 columns]"
      ]
     },
     "execution_count": 13,
     "metadata": {},
     "output_type": "execute_result"
    }
   ],
   "source": [
    "api.get_open_positions()"
   ]
  },
  {
   "cell_type": "code",
   "execution_count": 14,
   "metadata": {},
   "outputs": [],
   "source": [
    "col = [\"tradeId\", \"amountK\", \"currency\", \"grossPL\", \"isBuy\"]"
   ]
  },
  {
   "cell_type": "code",
   "execution_count": 15,
   "metadata": {},
   "outputs": [
    {
     "data": {
      "text/html": [
       "<div>\n",
       "<style scoped>\n",
       "    .dataframe tbody tr th:only-of-type {\n",
       "        vertical-align: middle;\n",
       "    }\n",
       "\n",
       "    .dataframe tbody tr th {\n",
       "        vertical-align: top;\n",
       "    }\n",
       "\n",
       "    .dataframe thead th {\n",
       "        text-align: right;\n",
       "    }\n",
       "</style>\n",
       "<table border=\"1\" class=\"dataframe\">\n",
       "  <thead>\n",
       "    <tr style=\"text-align: right;\">\n",
       "      <th></th>\n",
       "      <th>tradeId</th>\n",
       "      <th>amountK</th>\n",
       "      <th>currency</th>\n",
       "      <th>grossPL</th>\n",
       "      <th>isBuy</th>\n",
       "    </tr>\n",
       "  </thead>\n",
       "  <tbody>\n",
       "    <tr>\n",
       "      <th>0</th>\n",
       "      <td>177592931</td>\n",
       "      <td>1</td>\n",
       "      <td>EUR/USD</td>\n",
       "      <td>-0.16426</td>\n",
       "      <td>True</td>\n",
       "    </tr>\n",
       "    <tr>\n",
       "      <th>1</th>\n",
       "      <td>177592932</td>\n",
       "      <td>1</td>\n",
       "      <td>EUR/USD</td>\n",
       "      <td>-0.16426</td>\n",
       "      <td>True</td>\n",
       "    </tr>\n",
       "    <tr>\n",
       "      <th>2</th>\n",
       "      <td>177592937</td>\n",
       "      <td>2</td>\n",
       "      <td>EUR/USD</td>\n",
       "      <td>-0.32852</td>\n",
       "      <td>True</td>\n",
       "    </tr>\n",
       "    <tr>\n",
       "      <th>3</th>\n",
       "      <td>177592938</td>\n",
       "      <td>2</td>\n",
       "      <td>EUR/USD</td>\n",
       "      <td>-0.32852</td>\n",
       "      <td>True</td>\n",
       "    </tr>\n",
       "  </tbody>\n",
       "</table>\n",
       "</div>"
      ],
      "text/plain": [
       "     tradeId  amountK currency  grossPL  isBuy\n",
       "0  177592931        1  EUR/USD -0.16426   True\n",
       "1  177592932        1  EUR/USD -0.16426   True\n",
       "2  177592937        2  EUR/USD -0.32852   True\n",
       "3  177592938        2  EUR/USD -0.32852   True"
      ]
     },
     "execution_count": 15,
     "metadata": {},
     "output_type": "execute_result"
    }
   ],
   "source": [
    "api.get_open_positions()[col]"
   ]
  },
  {
   "cell_type": "code",
   "execution_count": null,
   "metadata": {},
   "outputs": [],
   "source": [
    "api.create_market_sell_order(\"EUR/USD\", 100)"
   ]
  },
  {
   "cell_type": "code",
   "execution_count": null,
   "metadata": {},
   "outputs": [],
   "source": [
    "api.get_open_positions()[col]"
   ]
  },
  {
   "cell_type": "code",
   "execution_count": null,
   "metadata": {},
   "outputs": [],
   "source": [
    "api.close_all_for_symbol(\"EUR/USD\")"
   ]
  },
  {
   "cell_type": "code",
   "execution_count": null,
   "metadata": {},
   "outputs": [],
   "source": [
    "api.get_closed_positions()[col]"
   ]
  },
  {
   "cell_type": "code",
   "execution_count": null,
   "metadata": {},
   "outputs": [],
   "source": [
    "api.get_closed_positions_summary()[col]"
   ]
  },
  {
   "cell_type": "code",
   "execution_count": null,
   "metadata": {},
   "outputs": [],
   "source": [
    "api.get_accounts().T"
   ]
  },
  {
   "cell_type": "code",
   "execution_count": null,
   "metadata": {},
   "outputs": [],
   "source": [
    "api.close()"
   ]
  },
  {
   "cell_type": "code",
   "execution_count": null,
   "metadata": {},
   "outputs": [],
   "source": []
  }
 ],
 "metadata": {
  "kernelspec": {
   "display_name": "Python 3",
   "language": "python",
   "name": "python3"
  },
  "language_info": {
   "codemirror_mode": {
    "name": "ipython",
    "version": 3
   },
   "file_extension": ".py",
   "mimetype": "text/x-python",
   "name": "python",
   "nbconvert_exporter": "python",
   "pygments_lexer": "ipython3",
   "version": "3.8.11"
  }
 },
 "nbformat": 4,
 "nbformat_minor": 2
}
