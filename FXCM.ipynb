{
 "cells": [
  {
   "cell_type": "markdown",
   "metadata": {},
   "source": [
    "# First Steps with the FXCM API"
   ]
  },
  {
   "cell_type": "markdown",
   "metadata": {},
   "source": [
    "## Connecting to the API / Server"
   ]
  },
  {
   "cell_type": "code",
   "execution_count": 42,
   "metadata": {},
   "outputs": [],
   "source": [
    "import pandas as pd\n",
    "import fxcmpy"
   ]
  },
  {
   "cell_type": "code",
   "execution_count": null,
   "metadata": {},
   "outputs": [],
   "source": []
  },
  {
   "cell_type": "code",
   "execution_count": 97,
   "metadata": {},
   "outputs": [],
   "source": [
    "from datetime import datetime, timedelta\n",
    "from threading import Timer\n",
    "\n",
    "class Timer: \n",
    "    def get_sleep_time(self):\n",
    "        now = datetime.now()\n",
    "        next_run = now.replace(minute=int(now.minute / 5) * 5, second=0, microsecond=0) + timedelta(minutes=5)\n",
    "        return (next_run - now).total_seconds()\n",
    "\n",
    "    def dowork(self):\n",
    "        now = datetime.now()\n",
    "        print('Doing some work at', now)\n",
    "        schedule_next_run()\n",
    "\n",
    "    def schedule_next_run(self):\n",
    "        sleep_time = get_sleep_time()\n",
    "        print(f'sleeping for {sleep_time} seconds')\n",
    "        t = Timer(sleep_time, dowork)\n",
    "        t.daemon = True\n",
    "        t.start()"
   ]
  },
  {
   "cell_type": "code",
   "execution_count": null,
   "metadata": {},
   "outputs": [],
   "source": [
    "print('Starting work schedule')\n",
    "schedule_next_run()\n",
    "input('Doing work every 5 minutes. Press enter to exit')"
   ]
  },
  {
   "cell_type": "code",
   "execution_count": 43,
   "metadata": {},
   "outputs": [
    {
     "name": "stdout",
     "output_type": "stream",
     "text": [
      "engineio version:  3.13.0\n",
      "socketio version:  4.6.0\n",
      "fxcmpy version:  1.2.9\n"
     ]
    }
   ],
   "source": [
    "import engineio\n",
    "import socketio\n",
    "import fxcmpy\n",
    "\n",
    "print(f\"engineio version:  {engineio.__version__}\")\n",
    "print(f\"socketio version:  {socketio.__version__}\")\n",
    "print(f\"fxcmpy version:  {fxcmpy.__version__}\")"
   ]
  },
  {
   "cell_type": "code",
   "execution_count": 44,
   "metadata": {},
   "outputs": [],
   "source": [
    "#api = fxcmpy.fxcmpy(config_file= \"fxcm.cfg\")\n",
    "#server='demo'\n",
    "con = fxcmpy.fxcmpy(config_file= \"fxcm.cfg\", log_level = 'info', server='demo')"
   ]
  },
  {
   "cell_type": "code",
   "execution_count": 50,
   "metadata": {},
   "outputs": [
    {
     "data": {
      "text/plain": [
       "<fxcmpy.fxcmpy_order.fxcmpy_order at 0x11b820460>"
      ]
     },
     "execution_count": 50,
     "metadata": {},
     "output_type": "execute_result"
    },
    {
     "name": "stderr",
     "output_type": "stream",
     "text": [
      "Exception in thread Thread-666371:\n",
      "Traceback (most recent call last):\n",
      "  File \"/usr/local/Cellar/python@3.8/3.8.11/Frameworks/Python.framework/Versions/3.8/lib/python3.8/threading.py\", line 932, in _bootstrap_inner\n",
      "    self.run()\n",
      "  File \"/usr/local/Cellar/python@3.8/3.8.11/Frameworks/Python.framework/Versions/3.8/lib/python3.8/threading.py\", line 870, in run\n",
      "    self._target(*self._args, **self._kwargs)\n",
      "  File \"/usr/local/lib/python3.8/site-packages/socketio/client.py\", line 616, in _handle_eio_message\n",
      "    self._handle_event(pkt.namespace, pkt.id, pkt.data)\n",
      "  File \"/usr/local/lib/python3.8/site-packages/socketio/client.py\", line 500, in _handle_event\n",
      "    r = self._trigger_event(data[0], namespace, *data[1:])\n",
      "  File \"/usr/local/lib/python3.8/site-packages/socketio/client.py\", line 550, in _trigger_event\n",
      "    return self.handlers[namespace][event](*args)\n",
      "  File \"/usr/local/lib/python3.8/site-packages/fxcmpy/fxcmpy.py\", line 2695, in __on_open_pos_update__\n",
      "    pos = self.open_pos[trade_id]\n",
      "KeyError: 177847288\n"
     ]
    }
   ],
   "source": [
    "api.open_trade(symbol='ETH/USD', is_buy=False, amount=2, time_in_force='GTC', order_type='AtMarket')"
   ]
  },
  {
   "cell_type": "code",
   "execution_count": 46,
   "metadata": {},
   "outputs": [],
   "source": [
    "api = con"
   ]
  },
  {
   "cell_type": "code",
   "execution_count": 6,
   "metadata": {},
   "outputs": [],
   "source": [
    "pairs = ['LTC/USD','ETH/USD', 'BCH/USD']"
   ]
  },
  {
   "cell_type": "code",
   "execution_count": 10,
   "metadata": {},
   "outputs": [
    {
     "data": {
      "text/plain": [
       "0"
      ]
     },
     "execution_count": 10,
     "metadata": {},
     "output_type": "execute_result"
    }
   ],
   "source": [
    "api.open_trade(symbol = pairs[0], is_buy = True, amount = 2, time_in_force = 'GTC', stop = 0.5, limit = 0.6, trailing_step = False, order_type = 'AtMarket')"
   ]
  },
  {
   "cell_type": "code",
   "execution_count": 95,
   "metadata": {},
   "outputs": [
    {
     "data": {
      "text/plain": [
       "<fxcmpy.fxcmpy_order.fxcmpy_order at 0x11bd28ca0>"
      ]
     },
     "execution_count": 95,
     "metadata": {},
     "output_type": "execute_result"
    }
   ],
   "source": [
    "api.open_trade(symbol='BCH/USD', is_buy=True, amount=1, time_in_force='GTC', order_type='AtMarket')"
   ]
  },
  {
   "cell_type": "code",
   "execution_count": 93,
   "metadata": {},
   "outputs": [
    {
     "data": {
      "text/plain": [
       "<fxcmpy.fxcmpy_order.fxcmpy_order at 0x11bd1c400>"
      ]
     },
     "execution_count": 93,
     "metadata": {},
     "output_type": "execute_result"
    },
    {
     "name": "stderr",
     "output_type": "stream",
     "text": [
      "Exception in thread Thread-744070:\n",
      "Traceback (most recent call last):\n",
      "  File \"/usr/local/Cellar/python@3.8/3.8.11/Frameworks/Python.framework/Versions/3.8/lib/python3.8/threading.py\", line 932, in _bootstrap_inner\n",
      "    self.run()\n",
      "  File \"/usr/local/Cellar/python@3.8/3.8.11/Frameworks/Python.framework/Versions/3.8/lib/python3.8/threading.py\", line 870, in run\n",
      "    self._target(*self._args, **self._kwargs)\n",
      "  File \"/usr/local/lib/python3.8/site-packages/socketio/client.py\", line 616, in _handle_eio_message\n",
      "    self._handle_event(pkt.namespace, pkt.id, pkt.data)\n",
      "  File \"/usr/local/lib/python3.8/site-packages/socketio/client.py\", line 500, in _handle_event\n",
      "    r = self._trigger_event(data[0], namespace, *data[1:])\n",
      "  File \"/usr/local/lib/python3.8/site-packages/socketio/client.py\", line 550, in _trigger_event\n",
      "    return self.handlers[namespace][event](*args)\n",
      "  File \"/usr/local/lib/python3.8/site-packages/fxcmpy/fxcmpy.py\", line 2695, in __on_open_pos_update__\n",
      "    pos = self.open_pos[trade_id]\n",
      "KeyError: 177847524\n"
     ]
    }
   ],
   "source": [
    "api.open_trade(symbol='LTC/USD', is_buy=True, amount=9, time_in_force='GTC', order_type='AtMarket')"
   ]
  },
  {
   "cell_type": "code",
   "execution_count": 91,
   "metadata": {},
   "outputs": [],
   "source": [
    "open_pos_df = api.get_open_positions()"
   ]
  },
  {
   "cell_type": "code",
   "execution_count": null,
   "metadata": {},
   "outputs": [],
   "source": [
    "api.close_trade(trade_id, amount, order_type='AtMarket', time_in_force='IOC', rate=0, at_market=0)¶\n"
   ]
  },
  {
   "cell_type": "code",
   "execution_count": 92,
   "metadata": {},
   "outputs": [
    {
     "data": {
      "text/html": [
       "<div>\n",
       "<style scoped>\n",
       "    .dataframe tbody tr th:only-of-type {\n",
       "        vertical-align: middle;\n",
       "    }\n",
       "\n",
       "    .dataframe tbody tr th {\n",
       "        vertical-align: top;\n",
       "    }\n",
       "\n",
       "    .dataframe thead th {\n",
       "        text-align: right;\n",
       "    }\n",
       "</style>\n",
       "<table border=\"1\" class=\"dataframe\">\n",
       "  <thead>\n",
       "    <tr style=\"text-align: right;\">\n",
       "      <th></th>\n",
       "    </tr>\n",
       "  </thead>\n",
       "  <tbody>\n",
       "    <tr>\n",
       "      <th>t</th>\n",
       "    </tr>\n",
       "    <tr>\n",
       "      <th>ratePrecision</th>\n",
       "    </tr>\n",
       "    <tr>\n",
       "      <th>tradeId</th>\n",
       "    </tr>\n",
       "    <tr>\n",
       "      <th>accountName</th>\n",
       "    </tr>\n",
       "    <tr>\n",
       "      <th>accountId</th>\n",
       "    </tr>\n",
       "    <tr>\n",
       "      <th>roll</th>\n",
       "    </tr>\n",
       "    <tr>\n",
       "      <th>com</th>\n",
       "    </tr>\n",
       "    <tr>\n",
       "      <th>open</th>\n",
       "    </tr>\n",
       "    <tr>\n",
       "      <th>valueDate</th>\n",
       "    </tr>\n",
       "    <tr>\n",
       "      <th>grossPL</th>\n",
       "    </tr>\n",
       "    <tr>\n",
       "      <th>close</th>\n",
       "    </tr>\n",
       "    <tr>\n",
       "      <th>visiblePL</th>\n",
       "    </tr>\n",
       "    <tr>\n",
       "      <th>isDisabled</th>\n",
       "    </tr>\n",
       "    <tr>\n",
       "      <th>currency</th>\n",
       "    </tr>\n",
       "    <tr>\n",
       "      <th>isBuy</th>\n",
       "    </tr>\n",
       "    <tr>\n",
       "      <th>amountK</th>\n",
       "    </tr>\n",
       "    <tr>\n",
       "      <th>currencyPoint</th>\n",
       "    </tr>\n",
       "    <tr>\n",
       "      <th>time</th>\n",
       "    </tr>\n",
       "    <tr>\n",
       "      <th>usedMargin</th>\n",
       "    </tr>\n",
       "    <tr>\n",
       "      <th>orderId</th>\n",
       "    </tr>\n",
       "    <tr>\n",
       "      <th>OpenOrderRequestTXT</th>\n",
       "    </tr>\n",
       "    <tr>\n",
       "      <th>OpenOrderReqID</th>\n",
       "    </tr>\n",
       "    <tr>\n",
       "      <th>TradeIDOrigin</th>\n",
       "    </tr>\n",
       "    <tr>\n",
       "      <th>child_trailingStop</th>\n",
       "    </tr>\n",
       "    <tr>\n",
       "      <th>child_trailing</th>\n",
       "    </tr>\n",
       "    <tr>\n",
       "      <th>stop</th>\n",
       "    </tr>\n",
       "    <tr>\n",
       "      <th>stopMove</th>\n",
       "    </tr>\n",
       "    <tr>\n",
       "      <th>limit</th>\n",
       "    </tr>\n",
       "  </tbody>\n",
       "</table>\n",
       "</div>"
      ],
      "text/plain": [
       "Empty DataFrame\n",
       "Columns: []\n",
       "Index: [t, ratePrecision, tradeId, accountName, accountId, roll, com, open, valueDate, grossPL, close, visiblePL, isDisabled, currency, isBuy, amountK, currencyPoint, time, usedMargin, orderId, OpenOrderRequestTXT, OpenOrderReqID, TradeIDOrigin, child_trailingStop, child_trailing, stop, stopMove, limit]"
      ]
     },
     "execution_count": 92,
     "metadata": {},
     "output_type": "execute_result"
    }
   ],
   "source": [
    "open_pos_df[open_pos_df['currency'] == 'LTC/USD'].T"
   ]
  },
  {
   "cell_type": "code",
   "execution_count": 75,
   "metadata": {},
   "outputs": [
    {
     "data": {
      "text/plain": [
       "True"
      ]
     },
     "execution_count": 75,
     "metadata": {},
     "output_type": "execute_result"
    }
   ],
   "source": [
    "len(open_pos_df[open_pos_df['currency'] == 'LTC/USD']) > 0"
   ]
  },
  {
   "cell_type": "code",
   "execution_count": 96,
   "metadata": {},
   "outputs": [
    {
     "data": {
      "text/html": [
       "<div>\n",
       "<style scoped>\n",
       "    .dataframe tbody tr th:only-of-type {\n",
       "        vertical-align: middle;\n",
       "    }\n",
       "\n",
       "    .dataframe tbody tr th {\n",
       "        vertical-align: top;\n",
       "    }\n",
       "\n",
       "    .dataframe thead th {\n",
       "        text-align: right;\n",
       "    }\n",
       "</style>\n",
       "<table border=\"1\" class=\"dataframe\">\n",
       "  <thead>\n",
       "    <tr style=\"text-align: right;\">\n",
       "      <th></th>\n",
       "      <th>0</th>\n",
       "      <th>1</th>\n",
       "      <th>2</th>\n",
       "    </tr>\n",
       "  </thead>\n",
       "  <tbody>\n",
       "    <tr>\n",
       "      <th>t</th>\n",
       "      <td>1</td>\n",
       "      <td>1</td>\n",
       "      <td>1</td>\n",
       "    </tr>\n",
       "    <tr>\n",
       "      <th>ratePrecision</th>\n",
       "      <td>2</td>\n",
       "      <td>2</td>\n",
       "      <td>2</td>\n",
       "    </tr>\n",
       "    <tr>\n",
       "      <th>tradeId</th>\n",
       "      <td>177847397</td>\n",
       "      <td>177847524</td>\n",
       "      <td>177847528</td>\n",
       "    </tr>\n",
       "    <tr>\n",
       "      <th>accountName</th>\n",
       "      <td>01307575</td>\n",
       "      <td>01307575</td>\n",
       "      <td>01307575</td>\n",
       "    </tr>\n",
       "    <tr>\n",
       "      <th>accountId</th>\n",
       "      <td>1307575</td>\n",
       "      <td>1307575</td>\n",
       "      <td>1307575</td>\n",
       "    </tr>\n",
       "    <tr>\n",
       "      <th>roll</th>\n",
       "      <td>0</td>\n",
       "      <td>0</td>\n",
       "      <td>0</td>\n",
       "    </tr>\n",
       "    <tr>\n",
       "      <th>com</th>\n",
       "      <td>0</td>\n",
       "      <td>0</td>\n",
       "      <td>0</td>\n",
       "    </tr>\n",
       "    <tr>\n",
       "      <th>open</th>\n",
       "      <td>4290.35000</td>\n",
       "      <td>154.90000</td>\n",
       "      <td>458.53000</td>\n",
       "    </tr>\n",
       "    <tr>\n",
       "      <th>valueDate</th>\n",
       "      <td></td>\n",
       "      <td></td>\n",
       "      <td></td>\n",
       "    </tr>\n",
       "    <tr>\n",
       "      <th>grossPL</th>\n",
       "      <td>-2.88136</td>\n",
       "      <td>1.43184</td>\n",
       "      <td>-0.24925</td>\n",
       "    </tr>\n",
       "    <tr>\n",
       "      <th>close</th>\n",
       "      <td>4257.75000</td>\n",
       "      <td>155.08000</td>\n",
       "      <td>455.71000</td>\n",
       "    </tr>\n",
       "    <tr>\n",
       "      <th>visiblePL</th>\n",
       "      <td>-32.60000</td>\n",
       "      <td>18.00000</td>\n",
       "      <td>-2.80000</td>\n",
       "    </tr>\n",
       "    <tr>\n",
       "      <th>isDisabled</th>\n",
       "      <td>False</td>\n",
       "      <td>False</td>\n",
       "      <td>False</td>\n",
       "    </tr>\n",
       "    <tr>\n",
       "      <th>currency</th>\n",
       "      <td>ETH/USD</td>\n",
       "      <td>LTC/USD</td>\n",
       "      <td>BCH/USD</td>\n",
       "    </tr>\n",
       "    <tr>\n",
       "      <th>isBuy</th>\n",
       "      <td>True</td>\n",
       "      <td>True</td>\n",
       "      <td>True</td>\n",
       "    </tr>\n",
       "    <tr>\n",
       "      <th>amountK</th>\n",
       "      <td>0.00100</td>\n",
       "      <td>0.00900</td>\n",
       "      <td>0.00100</td>\n",
       "    </tr>\n",
       "    <tr>\n",
       "      <th>currencyPoint</th>\n",
       "      <td>0.00009</td>\n",
       "      <td>0.00008</td>\n",
       "      <td>0.00009</td>\n",
       "    </tr>\n",
       "    <tr>\n",
       "      <th>time</th>\n",
       "      <td>12092021142206</td>\n",
       "      <td>12092021143242</td>\n",
       "      <td>12092021143255</td>\n",
       "    </tr>\n",
       "    <tr>\n",
       "      <th>usedMargin</th>\n",
       "      <td>103.25036</td>\n",
       "      <td>345.88939</td>\n",
       "      <td>11.18432</td>\n",
       "    </tr>\n",
       "    <tr>\n",
       "      <th>orderId</th>\n",
       "      <td>385159743</td>\n",
       "      <td>385159911</td>\n",
       "      <td>385159915</td>\n",
       "    </tr>\n",
       "    <tr>\n",
       "      <th>OpenOrderRequestTXT</th>\n",
       "      <td>None</td>\n",
       "      <td>None</td>\n",
       "      <td>None</td>\n",
       "    </tr>\n",
       "    <tr>\n",
       "      <th>OpenOrderReqID</th>\n",
       "      <td>Request-2240024</td>\n",
       "      <td>Request-2244087</td>\n",
       "      <td>Request-2244168</td>\n",
       "    </tr>\n",
       "    <tr>\n",
       "      <th>TradeIDOrigin</th>\n",
       "      <td>None</td>\n",
       "      <td>None</td>\n",
       "      <td>None</td>\n",
       "    </tr>\n",
       "    <tr>\n",
       "      <th>child_trailingStop</th>\n",
       "      <td>none</td>\n",
       "      <td>none</td>\n",
       "      <td>none</td>\n",
       "    </tr>\n",
       "    <tr>\n",
       "      <th>child_trailing</th>\n",
       "      <td>-1</td>\n",
       "      <td>-1</td>\n",
       "      <td>-1</td>\n",
       "    </tr>\n",
       "    <tr>\n",
       "      <th>stop</th>\n",
       "      <td>0</td>\n",
       "      <td>0</td>\n",
       "      <td>0</td>\n",
       "    </tr>\n",
       "    <tr>\n",
       "      <th>stopMove</th>\n",
       "      <td>0</td>\n",
       "      <td>0</td>\n",
       "      <td>0</td>\n",
       "    </tr>\n",
       "    <tr>\n",
       "      <th>limit</th>\n",
       "      <td>0</td>\n",
       "      <td>0</td>\n",
       "      <td>0</td>\n",
       "    </tr>\n",
       "  </tbody>\n",
       "</table>\n",
       "</div>"
      ],
      "text/plain": [
       "                                   0                1                2\n",
       "t                                  1                1                1\n",
       "ratePrecision                      2                2                2\n",
       "tradeId                    177847397        177847524        177847528\n",
       "accountName                 01307575         01307575         01307575\n",
       "accountId                    1307575          1307575          1307575\n",
       "roll                               0                0                0\n",
       "com                                0                0                0\n",
       "open                      4290.35000        154.90000        458.53000\n",
       "valueDate                                                             \n",
       "grossPL                     -2.88136          1.43184         -0.24925\n",
       "close                     4257.75000        155.08000        455.71000\n",
       "visiblePL                  -32.60000         18.00000         -2.80000\n",
       "isDisabled                     False            False            False\n",
       "currency                     ETH/USD          LTC/USD          BCH/USD\n",
       "isBuy                           True             True             True\n",
       "amountK                      0.00100          0.00900          0.00100\n",
       "currencyPoint                0.00009          0.00008          0.00009\n",
       "time                  12092021142206   12092021143242   12092021143255\n",
       "usedMargin                 103.25036        345.88939         11.18432\n",
       "orderId                    385159743        385159911        385159915\n",
       "OpenOrderRequestTXT             None             None             None\n",
       "OpenOrderReqID       Request-2240024  Request-2244087  Request-2244168\n",
       "TradeIDOrigin                   None             None             None\n",
       "child_trailingStop              none             none             none\n",
       "child_trailing                    -1               -1               -1\n",
       "stop                               0                0                0\n",
       "stopMove                           0                0                0\n",
       "limit                              0                0                0"
      ]
     },
     "execution_count": 96,
     "metadata": {},
     "output_type": "execute_result"
    },
    {
     "name": "stderr",
     "output_type": "stream",
     "text": [
      "Exception in thread Thread-762684:\n",
      "Traceback (most recent call last):\n",
      "  File \"/usr/local/Cellar/python@3.8/3.8.11/Frameworks/Python.framework/Versions/3.8/lib/python3.8/threading.py\", line 932, in _bootstrap_inner\n",
      "    self.run()\n",
      "  File \"/usr/local/Cellar/python@3.8/3.8.11/Frameworks/Python.framework/Versions/3.8/lib/python3.8/threading.py\", line 870, in run\n",
      "    self._target(*self._args, **self._kwargs)\n",
      "  File \"/usr/local/lib/python3.8/site-packages/socketio/client.py\", line 616, in _handle_eio_message\n",
      "    self._handle_event(pkt.namespace, pkt.id, pkt.data)\n",
      "  File \"/usr/local/lib/python3.8/site-packages/socketio/client.py\", line 500, in _handle_event\n",
      "    r = self._trigger_event(data[0], namespace, *data[1:])\n",
      "  File \"/usr/local/lib/python3.8/site-packages/socketio/client.py\", line 550, in _trigger_event\n",
      "    return self.handlers[namespace][event](*args)\n",
      "  File \"/usr/local/lib/python3.8/site-packages/fxcmpy/fxcmpy.py\", line 2695, in __on_open_pos_update__\n",
      "    pos = self.open_pos[trade_id]\n",
      "KeyError: 177847576\n",
      "Exception in thread Thread-763318:\n",
      "Traceback (most recent call last):\n",
      "  File \"/usr/local/Cellar/python@3.8/3.8.11/Frameworks/Python.framework/Versions/3.8/lib/python3.8/threading.py\", line 932, in _bootstrap_inner\n",
      "    self.run()\n",
      "  File \"/usr/local/Cellar/python@3.8/3.8.11/Frameworks/Python.framework/Versions/3.8/lib/python3.8/threading.py\", line 870, in run\n",
      "    self._target(*self._args, **self._kwargs)\n",
      "  File \"/usr/local/lib/python3.8/site-packages/socketio/client.py\", line 616, in _handle_eio_message\n",
      "    self._handle_event(pkt.namespace, pkt.id, pkt.data)\n",
      "  File \"/usr/local/lib/python3.8/site-packages/socketio/client.py\", line 500, in _handle_event\n",
      "    r = self._trigger_event(data[0], namespace, *data[1:])\n",
      "  File \"/usr/local/lib/python3.8/site-packages/socketio/client.py\", line 550, in _trigger_event\n",
      "    return self.handlers[namespace][event](*args)\n",
      "  File \"/usr/local/lib/python3.8/site-packages/fxcmpy/fxcmpy.py\", line 2695, in __on_open_pos_update__\n",
      "    pos = self.open_pos[trade_id]\n",
      "KeyError: 177847586\n"
     ]
    }
   ],
   "source": [
    "api.get_open_positions().T"
   ]
  },
  {
   "cell_type": "code",
   "execution_count": 87,
   "metadata": {},
   "outputs": [],
   "source": [
    "api.close_trade(177847462, 1, order_type='AtMarket', time_in_force='IOC')"
   ]
  },
  {
   "cell_type": "code",
   "execution_count": 57,
   "metadata": {},
   "outputs": [],
   "source": [
    "api.close_all_for_symbol('ETH/USD', order_type='AtMarket')"
   ]
  },
  {
   "cell_type": "code",
   "execution_count": null,
   "metadata": {},
   "outputs": [],
   "source": []
  },
  {
   "cell_type": "code",
   "execution_count": null,
   "metadata": {},
   "outputs": [],
   "source": []
  },
  {
   "cell_type": "code",
   "execution_count": 5,
   "metadata": {},
   "outputs": [
    {
     "data": {
      "text/html": [
       "<div>\n",
       "<style scoped>\n",
       "    .dataframe tbody tr th:only-of-type {\n",
       "        vertical-align: middle;\n",
       "    }\n",
       "\n",
       "    .dataframe tbody tr th {\n",
       "        vertical-align: top;\n",
       "    }\n",
       "\n",
       "    .dataframe thead th {\n",
       "        text-align: right;\n",
       "    }\n",
       "</style>\n",
       "<table border=\"1\" class=\"dataframe\">\n",
       "  <thead>\n",
       "    <tr style=\"text-align: right;\">\n",
       "      <th></th>\n",
       "      <th>t</th>\n",
       "      <th>ratePrecision</th>\n",
       "      <th>accountId</th>\n",
       "      <th>balance</th>\n",
       "      <th>usdMr</th>\n",
       "      <th>mc</th>\n",
       "      <th>mcDate</th>\n",
       "      <th>accountName</th>\n",
       "      <th>usdMr3</th>\n",
       "      <th>hedging</th>\n",
       "      <th>usableMargin3</th>\n",
       "      <th>usableMarginPerc</th>\n",
       "      <th>usableMargin3Perc</th>\n",
       "      <th>equity</th>\n",
       "      <th>usableMargin</th>\n",
       "      <th>bus</th>\n",
       "      <th>dayPL</th>\n",
       "      <th>grossPL</th>\n",
       "    </tr>\n",
       "  </thead>\n",
       "  <tbody>\n",
       "    <tr>\n",
       "      <th>0</th>\n",
       "      <td>6</td>\n",
       "      <td>0</td>\n",
       "      <td>1307575</td>\n",
       "      <td>50582.94</td>\n",
       "      <td>0</td>\n",
       "      <td>N</td>\n",
       "      <td></td>\n",
       "      <td>01307575</td>\n",
       "      <td>0</td>\n",
       "      <td>Y</td>\n",
       "      <td>50582.94</td>\n",
       "      <td>100</td>\n",
       "      <td>100</td>\n",
       "      <td>50582.94</td>\n",
       "      <td>50582.94</td>\n",
       "      <td>1000</td>\n",
       "      <td>0</td>\n",
       "      <td>0</td>\n",
       "    </tr>\n",
       "  </tbody>\n",
       "</table>\n",
       "</div>"
      ],
      "text/plain": [
       "   t  ratePrecision accountId   balance  usdMr mc mcDate accountName  usdMr3  \\\n",
       "0  6              0   1307575  50582.94      0  N           01307575       0   \n",
       "\n",
       "  hedging  usableMargin3  usableMarginPerc  usableMargin3Perc    equity  \\\n",
       "0       Y       50582.94               100                100  50582.94   \n",
       "\n",
       "   usableMargin   bus  dayPL  grossPL  \n",
       "0      50582.94  1000      0        0  "
      ]
     },
     "execution_count": 5,
     "metadata": {},
     "output_type": "execute_result"
    }
   ],
   "source": [
    "api.get_accounts()"
   ]
  },
  {
   "cell_type": "code",
   "execution_count": 9,
   "metadata": {},
   "outputs": [
    {
     "data": {
      "text/plain": [
       "[1307575]"
      ]
     },
     "execution_count": 9,
     "metadata": {},
     "output_type": "execute_result"
    }
   ],
   "source": [
    "api.get_account_ids()"
   ]
  },
  {
   "cell_type": "code",
   "execution_count": 10,
   "metadata": {
    "scrolled": false
   },
   "outputs": [],
   "source": [
    "#api.get_instruments()"
   ]
  },
  {
   "cell_type": "code",
   "execution_count": 11,
   "metadata": {},
   "outputs": [],
   "source": [
    "#instr = api.get_instruments()\n",
    "#instr"
   ]
  },
  {
   "cell_type": "code",
   "execution_count": null,
   "metadata": {},
   "outputs": [],
   "source": [
    "len(instr)"
   ]
  },
  {
   "cell_type": "code",
   "execution_count": null,
   "metadata": {},
   "outputs": [],
   "source": [
    "api.close()"
   ]
  },
  {
   "cell_type": "code",
   "execution_count": null,
   "metadata": {},
   "outputs": [],
   "source": [
    "# BTC/USD\n",
    "# Stellar Lumens / US. XLM/USD\n",
    "# litecoin: LTC/USD\n",
    "# CryptoMajor\n",
    "# EOS/USD\n",
    "# bitcoin cash: BCH/USD\n",
    "# \n",
    "\n",
    "crypto_dic = {\"BTC\": \"BTC/USD\", \"XLM\": \"XLM/USD\", \"LTC\":\"LTC/USD\", \"EOS\":\"EOS/USD\", \"BCH\":\"BCH/USD\"}"
   ]
  },
  {
   "cell_type": "markdown",
   "metadata": {},
   "source": [
    "## Getting Historical Data (Part 1)"
   ]
  },
  {
   "cell_type": "code",
   "execution_count": 59,
   "metadata": {},
   "outputs": [],
   "source": [
    "import pandas as pd\n",
    "import fxcmpy"
   ]
  },
  {
   "cell_type": "code",
   "execution_count": 60,
   "metadata": {},
   "outputs": [],
   "source": [
    "api = fxcmpy.fxcmpy(config_file= \"fxcm.cfg\")"
   ]
  },
  {
   "cell_type": "code",
   "execution_count": null,
   "metadata": {},
   "outputs": [],
   "source": [
    "help(api.get_candles)"
   ]
  },
  {
   "cell_type": "code",
   "execution_count": null,
   "metadata": {},
   "outputs": [],
   "source": [
    "api.get_candles('EUR/USD')"
   ]
  },
  {
   "cell_type": "code",
   "execution_count": null,
   "metadata": {},
   "outputs": [],
   "source": [
    "api.get_candles('EUR/USD', number = 10000)"
   ]
  },
  {
   "cell_type": "code",
   "execution_count": null,
   "metadata": {},
   "outputs": [],
   "source": [
    "df = api.get_candles('EUR/USD', number = 10000)\n",
    "df"
   ]
  },
  {
   "cell_type": "code",
   "execution_count": null,
   "metadata": {},
   "outputs": [],
   "source": [
    "df.info()"
   ]
  },
  {
   "cell_type": "code",
   "execution_count": null,
   "metadata": {},
   "outputs": [],
   "source": [
    "api.get_candles('EUR/USD', number = 5, columns = [\"bids\"])"
   ]
  },
  {
   "cell_type": "code",
   "execution_count": null,
   "metadata": {},
   "outputs": [],
   "source": [
    "api.get_candles('EUR/USD', number = 5, columns = [\"asks\"])"
   ]
  },
  {
   "cell_type": "code",
   "execution_count": null,
   "metadata": {},
   "outputs": [],
   "source": []
  },
  {
   "cell_type": "markdown",
   "metadata": {},
   "source": [
    "## Getting Historical Data (Part 2)"
   ]
  },
  {
   "cell_type": "code",
   "execution_count": null,
   "metadata": {},
   "outputs": [],
   "source": [
    "api.get_candles('EUR/USD', number = 10000, columns = [\"asks\"])"
   ]
  },
  {
   "cell_type": "code",
   "execution_count": null,
   "metadata": {},
   "outputs": [],
   "source": [
    "api.get_candles('EUR/USD', start = \"2020-07-01\", end = \"2020-07-31\", columns = [\"asks\"])"
   ]
  },
  {
   "cell_type": "code",
   "execution_count": null,
   "metadata": {},
   "outputs": [],
   "source": [
    "api.get_candles('EUR/USD', start = \"2020-07-01\", end = \"2020-07-31\", \n",
    "                period = \"H1\", columns = [\"asks\"])"
   ]
  },
  {
   "cell_type": "code",
   "execution_count": null,
   "metadata": {},
   "outputs": [],
   "source": [
    "api.get_candles('EUR/USD', start = \"2020-07-01\", end = \"2020-07-31\", \n",
    "                period = \"D1\", columns = [\"asks\"])"
   ]
  },
  {
   "cell_type": "code",
   "execution_count": null,
   "metadata": {},
   "outputs": [],
   "source": [
    "api.get_candles('EUR/USD', start = \"2020-07-01\", end = \"2020-07-31\", \n",
    "                period = \"H1\", columns = [\"asks\"])"
   ]
  },
  {
   "cell_type": "code",
   "execution_count": null,
   "metadata": {},
   "outputs": [],
   "source": [
    "type(api.get_candles('ETH/USD', start = \"2021-07-01\", end = \"2021-07-10\", \n",
    "                period = \"H1\", columns = [\"asks\"]))"
   ]
  },
  {
   "cell_type": "code",
   "execution_count": 7,
   "metadata": {},
   "outputs": [],
   "source": [
    "from datetime import datetime\n",
    "\n"
   ]
  },
  {
   "cell_type": "code",
   "execution_count": 89,
   "metadata": {},
   "outputs": [],
   "source": [
    "start_t = datetime(2021, 5, 1, 0, 0, 0)\n",
    "end_t = datetime(2021, 5, 31, 23, 59, 0)\n",
    "df_1 = api.get_candles(\"ETH/USD\", start = start_t, end = end_t, \n",
    "                period = \"m1\", columns = [\"asks\"])"
   ]
  },
  {
   "cell_type": "code",
   "execution_count": 92,
   "metadata": {},
   "outputs": [
    {
     "data": {
      "text/html": [
       "<div>\n",
       "<style scoped>\n",
       "    .dataframe tbody tr th:only-of-type {\n",
       "        vertical-align: middle;\n",
       "    }\n",
       "\n",
       "    .dataframe tbody tr th {\n",
       "        vertical-align: top;\n",
       "    }\n",
       "\n",
       "    .dataframe thead th {\n",
       "        text-align: right;\n",
       "    }\n",
       "</style>\n",
       "<table border=\"1\" class=\"dataframe\">\n",
       "  <thead>\n",
       "    <tr style=\"text-align: right;\">\n",
       "      <th></th>\n",
       "      <th>askopen</th>\n",
       "      <th>askclose</th>\n",
       "      <th>askhigh</th>\n",
       "      <th>asklow</th>\n",
       "    </tr>\n",
       "    <tr>\n",
       "      <th>date</th>\n",
       "      <th></th>\n",
       "      <th></th>\n",
       "      <th></th>\n",
       "      <th></th>\n",
       "    </tr>\n",
       "  </thead>\n",
       "  <tbody>\n",
       "    <tr>\n",
       "      <th>2021-05-02 21:00:00</th>\n",
       "      <td>2761.60</td>\n",
       "      <td>2976.15</td>\n",
       "      <td>2988.15</td>\n",
       "      <td>2969.45</td>\n",
       "    </tr>\n",
       "    <tr>\n",
       "      <th>2021-05-02 22:00:00</th>\n",
       "      <td>2976.15</td>\n",
       "      <td>2951.95</td>\n",
       "      <td>2984.55</td>\n",
       "      <td>2930.75</td>\n",
       "    </tr>\n",
       "  </tbody>\n",
       "</table>\n",
       "</div>"
      ],
      "text/plain": [
       "                     askopen  askclose  askhigh   asklow\n",
       "date                                                    \n",
       "2021-05-02 21:00:00  2761.60   2976.15  2988.15  2969.45\n",
       "2021-05-02 22:00:00  2976.15   2951.95  2984.55  2930.75"
      ]
     },
     "execution_count": 92,
     "metadata": {},
     "output_type": "execute_result"
    }
   ],
   "source": [
    "df_1.head(2)"
   ]
  },
  {
   "cell_type": "code",
   "execution_count": 8,
   "metadata": {},
   "outputs": [],
   "source": [
    "import time\n",
    "\n",
    "def get1min_df():\n",
    "    mai_1_start = datetime(2021, 5, 1, 0, 0, 0)\n",
    "    mai_1_end =   datetime(2021, 5, 15, 23,59,0)\n",
    "    mai_2_start = datetime(2021, 5, 16, 0, 0, 0)\n",
    "    mai_2_end =   datetime(2021, 5, 30, 23, 59, 0)\n",
    "\n",
    "\n",
    "    df_mai_1 = api.get_candles(\"ETH/USD\", start = mai_1_start, end = mai_1_end, \n",
    "                    period = \"m1\", columns = [\"asks\"])   \n",
    "    time.sleep(30)\n",
    "    df_mai_2 = api.get_candles(\"ETH/USD\", start = mai_2_start, end = mai_2_end, \n",
    "                    period = \"m1\", columns = [\"asks\"])\n",
    "    \n",
    "    df_mai_1 = df_mai_1.append(df_mai_2)\n",
    "    print(f\"Len of mai df: {len(df_mai_1)}\")\n",
    "    \n",
    "    ################\n",
    "    juni_1_start = datetime(2021, 6, 1, 0, 0, 0)\n",
    "    juni_1_end =   datetime(2021, 6, 15, 23, 59, 0)\n",
    "    juni_2_start = datetime(2021, 6, 16, 0, 0, 0)\n",
    "    juni_2_end =   datetime(2021, 6, 30, 23, 59, 0)\n",
    "\n",
    "\n",
    "    df_juni_1 = api.get_candles(\"ETH/USD\", start = juni_1_start, end = juni_1_end, \n",
    "                    period = \"m1\", columns = [\"asks\"])\n",
    "    time.sleep(30)\n",
    "\n",
    "    df_juni_2 = api.get_candles(\"ETH/USD\", start = juni_2_start, end = juni_2_end, \n",
    "                    period = \"m1\", columns = [\"asks\"])\n",
    "    \n",
    "    df_juni_1 = df_juni_1.append(df_juni_2)\n",
    "    print(f\"Len of juni df: {len(df_juni_1)}\")\n",
    "\n",
    "    ################\n",
    "    \n",
    "    juli_1_start = datetime(2021, 7, 1, 0, 0, 0)\n",
    "    juli_1_end =   datetime(2021, 7, 15, 23, 59, 0)\n",
    "    juli_2_start = datetime(2021, 7, 16, 0, 0, 0)\n",
    "    juli_2_end =   datetime(2021, 7, 31, 23, 59, 0)\n",
    "\n",
    "\n",
    "    df_juli_1 = api.get_candles(\"ETH/USD\", start = juli_1_start, end = juli_1_end, \n",
    "                    period = \"m1\", columns = [\"asks\"])\n",
    "    time.sleep(30)\n",
    "\n",
    "    df_juli_2 = api.get_candles(\"ETH/USD\", start = juli_2_start, end = juli_2_end, \n",
    "                    period = \"m1\", columns = [\"asks\"])\n",
    "    \n",
    "    df_juli_1 = df_juli_1.append(df_juli_2)\n",
    "    print(f\"Len of juli df: {len(df_juli_1)}\")\n",
    "\n",
    "    ##################\n",
    "    august_1_start = datetime(2021, 8, 1, 0, 0, 0)\n",
    "    august_1_end =   datetime(2021, 8, 15, 23, 59, 0)\n",
    "    august_2_start = datetime(2021, 8, 16, 0, 0, 0)\n",
    "    august_2_end =   datetime(2021, 8, 31, 23, 59, 0)\n",
    "\n",
    "\n",
    "    df_august_1 = api.get_candles(\"ETH/USD\", start = august_1_start, end = august_1_end, \n",
    "                    period = \"m1\", columns = [\"asks\"])\n",
    "    time.sleep(30)\n",
    "\n",
    "    df_august_2 = api.get_candles(\"ETH/USD\", start = august_2_start, end = august_2_end, \n",
    "                    period = \"m1\", columns = [\"asks\"])\n",
    "    \n",
    "    df_august_1 = df_august_1.append(df_august_2)\n",
    "    print(f\"Len of aug df: {len(df_august_1)}\")\n",
    "\n",
    "    ######################\n",
    "    \n",
    "    sep_1_start = datetime(2021, 9, 1, 0, 0, 0)\n",
    "    sep_1_end =   datetime(2021, 9, 15, 23,59,0)\n",
    "    sep_2_start = datetime(2021, 9, 16, 0,0,0)\n",
    "    sep_2_end =   datetime(2021, 9, 30, 23, 59, 0)\n",
    "\n",
    "\n",
    "    df_sep_1 = api.get_candles(\"ETH/USD\", start = sep_1_start, end = sep_1_end, \n",
    "                    period = \"m1\", columns = [\"asks\"])\n",
    "    time.sleep(30)\n",
    "    df_sep_2 = api.get_candles(\"ETH/USD\", start = sep_2_start, end = sep_2_end, \n",
    "                    period = \"m1\", columns = [\"asks\"])\n",
    "    \n",
    "    df_sep_1 = df_sep_1.append(df_sep_2)\n",
    "    print(f\"Len of sept df: {len(df_sep_1)}\")\n",
    "    \n",
    "    ########################\n",
    "    okt_1_start = datetime(2021, 10, 1, 0, 0, 0)\n",
    "    okt_1_end =   datetime(2021, 10, 15, 23,59,0)\n",
    "    okt_2_start = datetime(2021, 10, 16, 0,0,0)\n",
    "    okt_2_end =   datetime(2021, 10, 30, 23, 59, 0)\n",
    "\n",
    "\n",
    "    df_okt_1 = api.get_candles(\"ETH/USD\", start = okt_1_start, end = okt_1_end, \n",
    "                    period = \"m1\", columns = [\"asks\"])\n",
    "    time.sleep(30)\n",
    "    df_okt_2 = api.get_candles(\"ETH/USD\", start = okt_2_start, end = okt_2_end, \n",
    "                    period = \"m1\", columns = [\"asks\"])\n",
    "    \n",
    "    df_okt_1 = df_okt_1.append(df_okt_2)\n",
    "    print(f\"Len of okt df: {len(df_okt_1)}\")\n",
    "\n",
    "    #########################\n",
    "\n",
    "    df_mai_1 = df_mai_1.append(df_juni_1)\n",
    "    df_mai_1 = df_mai_1.append(df_juli_1)\n",
    "    df_mai_1 = df_mai_1.append(df_august_1)\n",
    "    df_mai_1 = df_mai_1.append(df_sep_1)\n",
    "    df_mai_1 = df_mai_1.append(df_okt_1)\n",
    "\n",
    "    return df_mai_1"
   ]
  },
  {
   "cell_type": "code",
   "execution_count": 118,
   "metadata": {},
   "outputs": [
    {
     "name": "stdout",
     "output_type": "stream",
     "text": [
      "Len of mai df: 28898\n",
      "Len of juni df: 31589\n"
     ]
    },
    {
     "ename": "ServerError",
     "evalue": "Request returns status code 524 and message \"<!DOCTYPE html>\n<!--[if lt IE 7]> <html class=\"no-js ie6 oldie\" lang=\"en-US\"> <![endif]-->\n<!--[if IE 7]>    <html class=\"no-js ie7 oldie\" lang=\"en-US\"> <![endif]-->\n<!--[if IE 8]>    <html class=\"no-js ie8 oldie\" lang=\"en-US\"> <![endif]-->\n<!--[if gt IE 8]><!--> <html class=\"no-js\" lang=\"en-US\"> <!--<![endif]-->\n<head>\n<meta http-equiv=\"refresh\" content=\"0\">\n\n<title>api-demo.fxcm.com | 524: A timeout occurred</title>\n<meta charset=\"UTF-8\" />\n<meta http-equiv=\"Content-Type\" content=\"text/html; charset=UTF-8\" />\n<meta http-equiv=\"X-UA-Compatible\" content=\"IE=Edge,chrome=1\" />\n<meta name=\"robots\" content=\"noindex, nofollow\" />\n<meta name=\"viewport\" content=\"width=device-width,initial-scale=1\" />\n<link rel=\"stylesheet\" id=\"cf_styles-css\" href=\"/cdn-cgi/styles/main.css\" type=\"text/css\" media=\"screen,projection\" />\n\n\n</head>\n<body>\n<div id=\"cf-wrapper\">\n\n    \n\n    <div id=\"cf-error-details\" class=\"p-0\">\n        <header class=\"mx-auto pt-10 lg:pt-6 lg:px-8 w-240 lg:w-full mb-8\">\n            <h1 class=\"inline-block sm:block sm:mb-2 font-light text-60 lg:text-4xl text-black-dark leading-tight mr-2\">\n              \n              <span class=\"cf-error-type\">Error</span>\n              <span class=\"cf-error-code\">524</span>\n            </h1>\n            <span class=\"inline-block sm:block font-mono text-15 lg:text-sm lg:leading-relaxed\">Ray ID: 6a6bebd969634ab5 &bull;</span>\n            <span class=\"inline-block sm:block font-mono text-15 lg:text-sm lg:leading-relaxed\">2021-10-31 09:42:00 UTC</span>\n            <h2 class=\"text-gray-600 leading-1.3 text-3xl font-light\">A timeout occurred</h2>\n        </header>\n        \n        <div class=\"my-8 bg-gradient-gray\">\n            <div class=\"w-240 lg:w-full mx-auto\">\n                <div class=\"clearfix md:px-8\">\n                  \n<div id=\"cf-browser-status\" class=\" relative w-1/3 md:w-full py-15 md:p-0 md:py-8 md:text-left md:border-solid md:border-0 md:border-b md:border-gray-400 overflow-hidden float-left md:float-none text-center\">\n  <div class=\"relative mb-10 md:m-0\">\n    <span class=\"cf-icon-browser block md:hidden h-20 bg-center bg-no-repeat\"></span>\n    <span class=\"cf-icon-ok w-12 h-12 absolute left-1/2 md:left-auto md:right-0 md:top-0 -ml-6 -bottom-4\"></span>\n  </div>\n  <span class=\"md:block w-full truncate\">You</span>\n  <h3 class=\"md:inline-block mt-3 md:mt-0 text-2xl text-gray-600 font-light leading-1.3\">Browser</h3>\n  <span class=\"leading-1.3 text-2xl text-green-success\">Working</span>\n</div>\n\n<div id=\"cf-cloudflare-status\" class=\" relative w-1/3 md:w-full py-15 md:p-0 md:py-8 md:text-left md:border-solid md:border-0 md:border-b md:border-gray-400 overflow-hidden float-left md:float-none text-center\">\n  <div class=\"relative mb-10 md:m-0\">\n    <span class=\"cf-icon-cloud block md:hidden h-20 bg-center bg-no-repeat\"></span>\n    <span class=\"cf-icon-ok w-12 h-12 absolute left-1/2 md:left-auto md:right-0 md:top-0 -ml-6 -bottom-4\"></span>\n  </div>\n  <span class=\"md:block w-full truncate\">Frankfurt</span>\n  <h3 class=\"md:inline-block mt-3 md:mt-0 text-2xl text-gray-600 font-light leading-1.3\">Cloudflare</h3>\n  <span class=\"leading-1.3 text-2xl text-green-success\">Working</span>\n</div>\n\n<div id=\"cf-host-status\" class=\"cf-error-source relative w-1/3 md:w-full py-15 md:p-0 md:py-8 md:text-left md:border-solid md:border-0 md:border-b md:border-gray-400 overflow-hidden float-left md:float-none text-center\">\n  <div class=\"relative mb-10 md:m-0\">\n    <span class=\"cf-icon-server block md:hidden h-20 bg-center bg-no-repeat\"></span>\n    <span class=\"cf-icon-error w-12 h-12 absolute left-1/2 md:left-auto md:right-0 md:top-0 -ml-6 -bottom-4\"></span>\n  </div>\n  <span class=\"md:block w-full truncate\">api-demo.fxcm.com</span>\n  <h3 class=\"md:inline-block mt-3 md:mt-0 text-2xl text-gray-600 font-light leading-1.3\">Host</h3>\n  <span class=\"leading-1.3 text-2xl text-red-error\">Error</span>\n</div>\n\n                </div>\n              \n            </div>\n        </div>\n\n        <div class=\"w-240 lg:w-full mx-auto mb-8 lg:px-8\">\n            <div class=\"clearfix\">\n                <div class=\"w-1/2 md:w-full float-left pr-6 md:pb-10 md:pr-0 leading-relaxed\">\n                    <h2 class=\"text-3xl font-normal leading-1.3 mb-4\">What happened?</h2>\n                    <p>The origin web server timed out responding to this request.</p>\n                </div>\n              \n                <div class=\"w-1/2 md:w-full float-left leading-relaxed\">\n                    <h2 class=\"text-3xl font-normal leading-1.3 mb-4\">What can I do?</h2>\n                          <h3 class=\"text-15 font-semibold mb-2\">If you're a visitor of this website:</h3>\n      <p class=\"mb-6\">Please try again in a few minutes.</p>\n\n      <h3 class=\"text-15 font-semibold mb-2\">If you're the owner of this website:</h3>\n      <p><span>The connection to the origin web server was made, but the origin web server timed out before responding. The likely cause is an overloaded background task, database or application, stressing the resources on your web server. To resolve, please work with your hosting provider or web development team to free up resources for your database or overloaded application.</span> <a rel=\"noopener noreferrer\" href=\"https://support.cloudflare.com/hc/en-us/articles/200171926-Error-524\">Additional troubleshooting information here.</a></p>\n                </div>\n            </div>\n              \n        </div>\n\n        <div class=\"cf-error-footer cf-wrapper w-240 lg:w-full py-10 sm:py-4 sm:px-8 mx-auto text-center sm:text-left border-solid border-0 border-t border-gray-300\">\n  <p class=\"text-13\">\n    <span class=\"cf-footer-item sm:block sm:mb-1\">Cloudflare Ray ID: <strong class=\"font-semibold\">6a6bebd969634ab5</strong></span>\n    <span class=\"cf-footer-separator sm:hidden\">&bull;</span>\n    <span class=\"cf-footer-item sm:block sm:mb-1\"><span>Your IP</span>: 88.128.88.225</span>\n    <span class=\"cf-footer-separator sm:hidden\">&bull;</span>\n    <span class=\"cf-footer-item sm:block sm:mb-1\"><span>Performance &amp; security by</span> <a rel=\"noopener noreferrer\" href=\"https://www.cloudflare.com/5xx-error-landing\" id=\"brand_link\" target=\"_blank\">Cloudflare</a></span>\n    \n  </p>\n</div><!-- /.error-footer -->\n\n\n    </div>\n</div>\n</body>\n</html>\n\n\"",
     "output_type": "error",
     "traceback": [
      "\u001b[0;31m---------------------------------------------------------------------------\u001b[0m",
      "\u001b[0;31mServerError\u001b[0m                               Traceback (most recent call last)",
      "\u001b[0;32m<ipython-input-118-6bb72d4073d0>\u001b[0m in \u001b[0;36m<module>\u001b[0;34m\u001b[0m\n\u001b[0;32m----> 1\u001b[0;31m \u001b[0mdf\u001b[0m \u001b[0;34m=\u001b[0m \u001b[0mget1min_df\u001b[0m\u001b[0;34m(\u001b[0m\u001b[0;34m)\u001b[0m\u001b[0;34m\u001b[0m\u001b[0;34m\u001b[0m\u001b[0m\n\u001b[0m",
      "\u001b[0;32m<ipython-input-117-ae8e95331941>\u001b[0m in \u001b[0;36mget1min_df\u001b[0;34m()\u001b[0m\n\u001b[1;32m     42\u001b[0m \u001b[0;34m\u001b[0m\u001b[0m\n\u001b[1;32m     43\u001b[0m \u001b[0;34m\u001b[0m\u001b[0m\n\u001b[0;32m---> 44\u001b[0;31m     df_juli_1 = api.get_candles(\"ETH/USD\", start = juli_1_start, end = juli_1_end, \n\u001b[0m\u001b[1;32m     45\u001b[0m                     period = \"m1\", columns = [\"asks\"])\n\u001b[1;32m     46\u001b[0m     \u001b[0mtime\u001b[0m\u001b[0;34m.\u001b[0m\u001b[0msleep\u001b[0m\u001b[0;34m(\u001b[0m\u001b[0;36m30\u001b[0m\u001b[0;34m)\u001b[0m\u001b[0;34m\u001b[0m\u001b[0;34m\u001b[0m\u001b[0m\n",
      "\u001b[0;32m/usr/local/lib/python3.8/site-packages/fxcmpy/fxcmpy.py\u001b[0m in \u001b[0;36mget_candles\u001b[0;34m(self, instrument, offer_id, period, number, start, end, with_index, columns, stop)\u001b[0m\n\u001b[1;32m   2182\u001b[0m             \u001b[0mparams\u001b[0m\u001b[0;34m[\u001b[0m\u001b[0;34m'to'\u001b[0m\u001b[0;34m]\u001b[0m \u001b[0;34m=\u001b[0m \u001b[0mmax\u001b[0m\u001b[0;34m(\u001b[0m\u001b[0mend\u001b[0m\u001b[0;34m,\u001b[0m \u001b[0;36m1\u001b[0m\u001b[0;34m)\u001b[0m\u001b[0;34m\u001b[0m\u001b[0;34m\u001b[0m\u001b[0m\n\u001b[1;32m   2183\u001b[0m \u001b[0;34m\u001b[0m\u001b[0m\n\u001b[0;32m-> 2184\u001b[0;31m         data = self.__handle_request__(method='candles/%s/%s'\n\u001b[0m\u001b[1;32m   2185\u001b[0m                                        % (offer_id, period), params=params)\n\u001b[1;32m   2186\u001b[0m \u001b[0;34m\u001b[0m\u001b[0m\n",
      "\u001b[0;32m/usr/local/lib/python3.8/site-packages/fxcmpy/fxcmpy.py\u001b[0m in \u001b[0;36m__handle_request__\u001b[0;34m(self, method, params, protocol)\u001b[0m\n\u001b[1;32m   2489\u001b[0m                               % (method, req.status_code, req.text))\n\u001b[1;32m   2490\u001b[0m \u001b[0;34m\u001b[0m\u001b[0m\n\u001b[0;32m-> 2491\u001b[0;31m             raise ServerError('Request returns status code %s and message \"%s\"'\n\u001b[0m\u001b[1;32m   2492\u001b[0m                               % (req.status_code,\n\u001b[1;32m   2493\u001b[0m                                  unquote(req.text)))\n",
      "\u001b[0;31mServerError\u001b[0m: Request returns status code 524 and message \"<!DOCTYPE html>\n<!--[if lt IE 7]> <html class=\"no-js ie6 oldie\" lang=\"en-US\"> <![endif]-->\n<!--[if IE 7]>    <html class=\"no-js ie7 oldie\" lang=\"en-US\"> <![endif]-->\n<!--[if IE 8]>    <html class=\"no-js ie8 oldie\" lang=\"en-US\"> <![endif]-->\n<!--[if gt IE 8]><!--> <html class=\"no-js\" lang=\"en-US\"> <!--<![endif]-->\n<head>\n<meta http-equiv=\"refresh\" content=\"0\">\n\n<title>api-demo.fxcm.com | 524: A timeout occurred</title>\n<meta charset=\"UTF-8\" />\n<meta http-equiv=\"Content-Type\" content=\"text/html; charset=UTF-8\" />\n<meta http-equiv=\"X-UA-Compatible\" content=\"IE=Edge,chrome=1\" />\n<meta name=\"robots\" content=\"noindex, nofollow\" />\n<meta name=\"viewport\" content=\"width=device-width,initial-scale=1\" />\n<link rel=\"stylesheet\" id=\"cf_styles-css\" href=\"/cdn-cgi/styles/main.css\" type=\"text/css\" media=\"screen,projection\" />\n\n\n</head>\n<body>\n<div id=\"cf-wrapper\">\n\n    \n\n    <div id=\"cf-error-details\" class=\"p-0\">\n        <header class=\"mx-auto pt-10 lg:pt-6 lg:px-8 w-240 lg:w-full mb-8\">\n            <h1 class=\"inline-block sm:block sm:mb-2 font-light text-60 lg:text-4xl text-black-dark leading-tight mr-2\">\n              \n              <span class=\"cf-error-type\">Error</span>\n              <span class=\"cf-error-code\">524</span>\n            </h1>\n            <span class=\"inline-block sm:block font-mono text-15 lg:text-sm lg:leading-relaxed\">Ray ID: 6a6bebd969634ab5 &bull;</span>\n            <span class=\"inline-block sm:block font-mono text-15 lg:text-sm lg:leading-relaxed\">2021-10-31 09:42:00 UTC</span>\n            <h2 class=\"text-gray-600 leading-1.3 text-3xl font-light\">A timeout occurred</h2>\n        </header>\n        \n        <div class=\"my-8 bg-gradient-gray\">\n            <div class=\"w-240 lg:w-full mx-auto\">\n                <div class=\"clearfix md:px-8\">\n                  \n<div id=\"cf-browser-status\" class=\" relative w-1/3 md:w-full py-15 md:p-0 md:py-8 md:text-left md:border-solid md:border-0 md:border-b md:border-gray-400 overflow-hidden float-left md:float-none text-center\">\n  <div class=\"relative mb-10 md:m-0\">\n    <span class=\"cf-icon-browser block md:hidden h-20 bg-center bg-no-repeat\"></span>\n    <span class=\"cf-icon-ok w-12 h-12 absolute left-1/2 md:left-auto md:right-0 md:top-0 -ml-6 -bottom-4\"></span>\n  </div>\n  <span class=\"md:block w-full truncate\">You</span>\n  <h3 class=\"md:inline-block mt-3 md:mt-0 text-2xl text-gray-600 font-light leading-1.3\">Browser</h3>\n  <span class=\"leading-1.3 text-2xl text-green-success\">Working</span>\n</div>\n\n<div id=\"cf-cloudflare-status\" class=\" relative w-1/3 md:w-full py-15 md:p-0 md:py-8 md:text-left md:border-solid md:border-0 md:border-b md:border-gray-400 overflow-hidden float-left md:float-none text-center\">\n  <div class=\"relative mb-10 md:m-0\">\n    <span class=\"cf-icon-cloud block md:hidden h-20 bg-center bg-no-repeat\"></span>\n    <span class=\"cf-icon-ok w-12 h-12 absolute left-1/2 md:left-auto md:right-0 md:top-0 -ml-6 -bottom-4\"></span>\n  </div>\n  <span class=\"md:block w-full truncate\">Frankfurt</span>\n  <h3 class=\"md:inline-block mt-3 md:mt-0 text-2xl text-gray-600 font-light leading-1.3\">Cloudflare</h3>\n  <span class=\"leading-1.3 text-2xl text-green-success\">Working</span>\n</div>\n\n<div id=\"cf-host-status\" class=\"cf-error-source relative w-1/3 md:w-full py-15 md:p-0 md:py-8 md:text-left md:border-solid md:border-0 md:border-b md:border-gray-400 overflow-hidden float-left md:float-none text-center\">\n  <div class=\"relative mb-10 md:m-0\">\n    <span class=\"cf-icon-server block md:hidden h-20 bg-center bg-no-repeat\"></span>\n    <span class=\"cf-icon-error w-12 h-12 absolute left-1/2 md:left-auto md:right-0 md:top-0 -ml-6 -bottom-4\"></span>\n  </div>\n  <span class=\"md:block w-full truncate\">api-demo.fxcm.com</span>\n  <h3 class=\"md:inline-block mt-3 md:mt-0 text-2xl text-gray-600 font-light leading-1.3\">Host</h3>\n  <span class=\"leading-1.3 text-2xl text-red-error\">Error</span>\n</div>\n\n                </div>\n              \n            </div>\n        </div>\n\n        <div class=\"w-240 lg:w-full mx-auto mb-8 lg:px-8\">\n            <div class=\"clearfix\">\n                <div class=\"w-1/2 md:w-full float-left pr-6 md:pb-10 md:pr-0 leading-relaxed\">\n                    <h2 class=\"text-3xl font-normal leading-1.3 mb-4\">What happened?</h2>\n                    <p>The origin web server timed out responding to this request.</p>\n                </div>\n              \n                <div class=\"w-1/2 md:w-full float-left leading-relaxed\">\n                    <h2 class=\"text-3xl font-normal leading-1.3 mb-4\">What can I do?</h2>\n                          <h3 class=\"text-15 font-semibold mb-2\">If you're a visitor of this website:</h3>\n      <p class=\"mb-6\">Please try again in a few minutes.</p>\n\n      <h3 class=\"text-15 font-semibold mb-2\">If you're the owner of this website:</h3>\n      <p><span>The connection to the origin web server was made, but the origin web server timed out before responding. The likely cause is an overloaded background task, database or application, stressing the resources on your web server. To resolve, please work with your hosting provider or web development team to free up resources for your database or overloaded application.</span> <a rel=\"noopener noreferrer\" href=\"https://support.cloudflare.com/hc/en-us/articles/200171926-Error-524\">Additional troubleshooting information here.</a></p>\n                </div>\n            </div>\n              \n        </div>\n\n        <div class=\"cf-error-footer cf-wrapper w-240 lg:w-full py-10 sm:py-4 sm:px-8 mx-auto text-center sm:text-left border-solid border-0 border-t border-gray-300\">\n  <p class=\"text-13\">\n    <span class=\"cf-footer-item sm:block sm:mb-1\">Cloudflare Ray ID: <strong class=\"font-semibold\">6a6bebd969634ab5</strong></span>\n    <span class=\"cf-footer-separator sm:hidden\">&bull;</span>\n    <span class=\"cf-footer-item sm:block sm:mb-1\"><span>Your IP</span>: 88.128.88.225</span>\n    <span class=\"cf-footer-separator sm:hidden\">&bull;</span>\n    <span class=\"cf-footer-item sm:block sm:mb-1\"><span>Performance &amp; security by</span> <a rel=\"noopener noreferrer\" href=\"https://www.cloudflare.com/5xx-error-landing\" id=\"brand_link\" target=\"_blank\">Cloudflare</a></span>\n    \n  </p>\n</div><!-- /.error-footer -->\n\n\n    </div>\n</div>\n</body>\n</html>\n\n\""
     ]
    }
   ],
   "source": [
    "df = get1min_df()"
   ]
  },
  {
   "cell_type": "code",
   "execution_count": 24,
   "metadata": {},
   "outputs": [],
   "source": [
    "def get5min_df(symbol, ticker): \n",
    "    \n",
    "    path = \"./hist_data/\" + symbol + \"/5min/\"+symbol+\"_5min.csv\"\n",
    "    mai_2_start = datetime(2021, 5, 1, 0,0,0)\n",
    "    mai_2_end = datetime(2021,5, 30, 23, 55, 0)\n",
    "    df_mai_1 = api.get_candles(ticker, start = mai_2_start, end = mai_2_end, \n",
    "                    period = \"m5\", columns = [\"asks\"])\n",
    "\n",
    "    time.sleep(10)\n",
    "\n",
    "    juni_2_start = datetime(2021, 6, 1, 0, 0, 0)\n",
    "    juni_2_end = datetime(2021,6, 30, 23, 55, 0)\n",
    "    df_juni_1 = api.get_candles(ticker, start = juni_2_start, end = juni_2_end, \n",
    "                    period = \"m5\", columns = [\"asks\"])    \n",
    "  \n",
    "    time.sleep(10)\n",
    "\n",
    "    juli_2_start = datetime(2021, 7, 1, 0,0,0)\n",
    "    juli_2_end = datetime(2021, 7, 31, 23, 55, 0)\n",
    "    df_juli_1 = api.get_candles(ticker, start = juli_2_start, end = juli_2_end, \n",
    "                    period = \"m5\", columns = [\"asks\"])\n",
    "       \n",
    "    time.sleep(10)\n",
    "\n",
    "    august_2_start = datetime(2021, 8, 1, 0,0,0)\n",
    "    august_2_end = datetime(2021, 8, 31, 23, 55, 0)\n",
    "    df_august_1 = api.get_candles(ticker, start = august_2_start, end = august_2_end, \n",
    "                    period = \"m5\", columns = [\"asks\"])\n",
    "    time.sleep(10)\n",
    "   \n",
    "    sep_2_start = datetime(2021, 9, 1, 0,0,0)\n",
    "    sep_2_end = datetime(2021, 9, 30, 23, 55, 0)\n",
    "    df_sep_1 = api.get_candles(ticker, start = sep_2_start, end = sep_2_end, \n",
    "                    period = \"m5\", columns = [\"asks\"])\n",
    "    \n",
    "    time.sleep(10)\n",
    "\n",
    "    okt_2_start = datetime(2021, 10, 1, 0,0,0)\n",
    "    okt_2_end = datetime(2021, 10, 30, 23, 55, 0)\n",
    "\n",
    "    time.sleep(10)\n",
    "\n",
    "    df_okt_1 = api.get_candles(ticker, start = okt_2_start, end = okt_2_end, \n",
    "                    period = \"m5\", columns = [\"asks\"])\n",
    "    \n",
    "    df_mai_1 = df_mai_1.append(df_juni_1)\n",
    "    df_mai_1 = df_mai_1.append(df_juli_1)\n",
    "    df_mai_1 = df_mai_1.append(df_august_1)\n",
    "    df_mai_1 = df_mai_1.append(df_sep_1)\n",
    "    df_mai_1 = df_mai_1.append(df_okt_1)\n",
    "    print(f\"Stored data for: {symbol} witht total length: {len(df_mai_1)}\")\n",
    "    df_mai_1.to_csv(path)"
   ]
  },
  {
   "cell_type": "code",
   "execution_count": 27,
   "metadata": {},
   "outputs": [],
   "source": [
    "#crypto_dic = {\"ETH\":\"ETH/USD\", \"BTC\": \"BTC/USD\", \"XLM\": \"XLM/USD\", \"LTC\":\"LTC/USD\", \"EOS\":\"EOS/USD\", \"BCH\":\"BCH/USD\"}\n",
    "crypto_dic = {\"LTC\":\"LTC/USD\", \"EOS\":\"EOS/USD\", \"BCH\":\"BCH/USD\"}"
   ]
  },
  {
   "cell_type": "code",
   "execution_count": 28,
   "metadata": {},
   "outputs": [
    {
     "name": "stderr",
     "output_type": "stream",
     "text": [
      "|ERROR|2021-11-07 11:44:59,417|FXCM reject req candles/8004/m5 with status 520 and msg <!DOCTYPE html>\n",
      "<!--[if lt IE 7]> <html class=\"no-js ie6 oldie\" lang=\"en-US\"> <![endif]-->\n",
      "<!--[if IE 7]>    <html class=\"no-js ie7 oldie\" lang=\"en-US\"> <![endif]-->\n",
      "<!--[if IE 8]>    <html class=\"no-js ie8 oldie\" lang=\"en-US\"> <![endif]-->\n",
      "<!--[if gt IE 8]><!--> <html class=\"no-js\" lang=\"en-US\"> <!--<![endif]-->\n",
      "<head>\n",
      "<meta http-equiv=\"refresh\" content=\"0\">\n",
      "\n",
      "<title>api-demo.fxcm.com | 520: Web server is returning an unknown error</title>\n",
      "<meta charset=\"UTF-8\" />\n",
      "<meta http-equiv=\"Content-Type\" content=\"text/html; charset=UTF-8\" />\n",
      "<meta http-equiv=\"X-UA-Compatible\" content=\"IE=Edge,chrome=1\" />\n",
      "<meta name=\"robots\" content=\"noindex, nofollow\" />\n",
      "<meta name=\"viewport\" content=\"width=device-width,initial-scale=1\" />\n",
      "<link rel=\"stylesheet\" id=\"cf_styles-css\" href=\"/cdn-cgi/styles/main.css\" type=\"text/css\" media=\"screen,projection\" />\n",
      "\n",
      "\n",
      "</head>\n",
      "<body>\n",
      "<div id=\"cf-wrapper\">\n",
      "\n",
      "    \n",
      "\n",
      "    <div id=\"cf-error-details\" class=\"p-0\">\n",
      "        <header class=\"mx-auto pt-10 lg:pt-6 lg:px-8 w-240 lg:w-full mb-8\">\n",
      "            <h1 class=\"inline-block sm:block sm:mb-2 font-light text-60 lg:text-4xl text-black-dark leading-tight mr-2\">\n",
      "              \n",
      "              <span class=\"cf-error-type\">Error</span>\n",
      "              <span class=\"cf-error-code\">520</span>\n",
      "            </h1>\n",
      "            <span class=\"inline-block sm:block font-mono text-15 lg:text-sm lg:leading-relaxed\">Ray ID: 6aa5f82d8c645363 &bull;</span>\n",
      "            <span class=\"inline-block sm:block font-mono text-15 lg:text-sm lg:leading-relaxed\">2021-11-07 10:44:59 UTC</span>\n",
      "            <h2 class=\"text-gray-600 leading-1.3 text-3xl font-light\">Web server is returning an unknown error</h2>\n",
      "        </header>\n",
      "        \n",
      "        <div class=\"my-8 bg-gradient-gray\">\n",
      "            <div class=\"w-240 lg:w-full mx-auto\">\n",
      "                <div class=\"clearfix md:px-8\">\n",
      "                  \n",
      "<div id=\"cf-browser-status\" class=\" relative w-1/3 md:w-full py-15 md:p-0 md:py-8 md:text-left md:border-solid md:border-0 md:border-b md:border-gray-400 overflow-hidden float-left md:float-none text-center\">\n",
      "  <div class=\"relative mb-10 md:m-0\">\n",
      "    <span class=\"cf-icon-browser block md:hidden h-20 bg-center bg-no-repeat\"></span>\n",
      "    <span class=\"cf-icon-ok w-12 h-12 absolute left-1/2 md:left-auto md:right-0 md:top-0 -ml-6 -bottom-4\"></span>\n",
      "  </div>\n",
      "  <span class=\"md:block w-full truncate\">You</span>\n",
      "  <h3 class=\"md:inline-block mt-3 md:mt-0 text-2xl text-gray-600 font-light leading-1.3\">Browser</h3>\n",
      "  <span class=\"leading-1.3 text-2xl text-green-success\">Working</span>\n",
      "</div>\n",
      "\n",
      "<div id=\"cf-cloudflare-status\" class=\" relative w-1/3 md:w-full py-15 md:p-0 md:py-8 md:text-left md:border-solid md:border-0 md:border-b md:border-gray-400 overflow-hidden float-left md:float-none text-center\">\n",
      "  <div class=\"relative mb-10 md:m-0\">\n",
      "    <span class=\"cf-icon-cloud block md:hidden h-20 bg-center bg-no-repeat\"></span>\n",
      "    <span class=\"cf-icon-ok w-12 h-12 absolute left-1/2 md:left-auto md:right-0 md:top-0 -ml-6 -bottom-4\"></span>\n",
      "  </div>\n",
      "  <span class=\"md:block w-full truncate\">Frankfurt</span>\n",
      "  <h3 class=\"md:inline-block mt-3 md:mt-0 text-2xl text-gray-600 font-light leading-1.3\">Cloudflare</h3>\n",
      "  <span class=\"leading-1.3 text-2xl text-green-success\">Working</span>\n",
      "</div>\n",
      "\n",
      "<div id=\"cf-host-status\" class=\"cf-error-source relative w-1/3 md:w-full py-15 md:p-0 md:py-8 md:text-left md:border-solid md:border-0 md:border-b md:border-gray-400 overflow-hidden float-left md:float-none text-center\">\n",
      "  <div class=\"relative mb-10 md:m-0\">\n",
      "    <span class=\"cf-icon-server block md:hidden h-20 bg-center bg-no-repeat\"></span>\n",
      "    <span class=\"cf-icon-error w-12 h-12 absolute left-1/2 md:left-auto md:right-0 md:top-0 -ml-6 -bottom-4\"></span>\n",
      "  </div>\n",
      "  <span class=\"md:block w-full truncate\">api-demo.fxcm.com</span>\n",
      "  <h3 class=\"md:inline-block mt-3 md:mt-0 text-2xl text-gray-600 font-light leading-1.3\">Host</h3>\n",
      "  <span class=\"leading-1.3 text-2xl text-red-error\">Error</span>\n",
      "</div>\n",
      "\n",
      "                </div>\n",
      "              \n",
      "            </div>\n",
      "        </div>\n",
      "\n",
      "        <div class=\"w-240 lg:w-full mx-auto mb-8 lg:px-8\">\n",
      "            <div class=\"clearfix\">\n",
      "                <div class=\"w-1/2 md:w-full float-left pr-6 md:pb-10 md:pr-0 leading-relaxed\">\n",
      "                    <h2 class=\"text-3xl font-normal leading-1.3 mb-4\">What happened?</h2>\n",
      "                    <p>There is an unknown connection issue between Cloudflare and the origin web server. As a result, the web page can not be displayed.</p>\n",
      "                </div>\n",
      "              \n",
      "                <div class=\"w-1/2 md:w-full float-left leading-relaxed\">\n",
      "                    <h2 class=\"text-3xl font-normal leading-1.3 mb-4\">What can I do?</h2>\n",
      "                          <h3 class=\"text-15 font-semibold mb-2\">If you are a visitor of this website:</h3>\n",
      "      <p class=\"mb-6\">Please try again in a few minutes.</p>\n",
      "\n",
      "      <h3 class=\"text-15 font-semibold mb-2\">If you are the owner of this website:</h3>\n",
      "      <p><span>There is an issue between Cloudflare's cache and your origin web server. Cloudflare monitors for these errors and automatically investigates the cause. To help support the investigation, you can pull the corresponding error log from your web server and submit it our support team.  Please include the Ray ID (which is at the bottom of this error page).</span> <a rel=\"noopener noreferrer\" href=\"https://support.cloudflare.com/hc/en-us/articles/200171936-Error-520\">Additional troubleshooting resources</a>.</p>\n",
      "                </div>\n",
      "            </div>\n",
      "              \n",
      "        </div>\n",
      "\n",
      "        <div class=\"cf-error-footer cf-wrapper w-240 lg:w-full py-10 sm:py-4 sm:px-8 mx-auto text-center sm:text-left border-solid border-0 border-t border-gray-300\">\n",
      "  <p class=\"text-13\">\n",
      "    <span class=\"cf-footer-item sm:block sm:mb-1\">Cloudflare Ray ID: <strong class=\"font-semibold\">6aa5f82d8c645363</strong></span>\n",
      "    <span class=\"cf-footer-separator sm:hidden\">&bull;</span>\n",
      "    <span class=\"cf-footer-item sm:block sm:mb-1\"><span>Your IP</span>: 2a02:810d:9340:5304:60a7:1df2:3f9e:5c54</span>\n",
      "    <span class=\"cf-footer-separator sm:hidden\">&bull;</span>\n",
      "    <span class=\"cf-footer-item sm:block sm:mb-1\"><span>Performance &amp; security by</span> <a rel=\"noopener noreferrer\" href=\"https://www.cloudflare.com/5xx-error-landing\" id=\"brand_link\" target=\"_blank\">Cloudflare</a></span>\n",
      "    \n",
      "  </p>\n",
      "</div><!-- /.error-footer -->\n",
      "\n",
      "\n",
      "    </div>\n",
      "</div>\n",
      "</body>\n",
      "</html>\n",
      "\n",
      ".\n"
     ]
    },
    {
     "ename": "ServerError",
     "evalue": "Request returns status code 520 and message \"<!DOCTYPE html>\n<!--[if lt IE 7]> <html class=\"no-js ie6 oldie\" lang=\"en-US\"> <![endif]-->\n<!--[if IE 7]>    <html class=\"no-js ie7 oldie\" lang=\"en-US\"> <![endif]-->\n<!--[if IE 8]>    <html class=\"no-js ie8 oldie\" lang=\"en-US\"> <![endif]-->\n<!--[if gt IE 8]><!--> <html class=\"no-js\" lang=\"en-US\"> <!--<![endif]-->\n<head>\n<meta http-equiv=\"refresh\" content=\"0\">\n\n<title>api-demo.fxcm.com | 520: Web server is returning an unknown error</title>\n<meta charset=\"UTF-8\" />\n<meta http-equiv=\"Content-Type\" content=\"text/html; charset=UTF-8\" />\n<meta http-equiv=\"X-UA-Compatible\" content=\"IE=Edge,chrome=1\" />\n<meta name=\"robots\" content=\"noindex, nofollow\" />\n<meta name=\"viewport\" content=\"width=device-width,initial-scale=1\" />\n<link rel=\"stylesheet\" id=\"cf_styles-css\" href=\"/cdn-cgi/styles/main.css\" type=\"text/css\" media=\"screen,projection\" />\n\n\n</head>\n<body>\n<div id=\"cf-wrapper\">\n\n    \n\n    <div id=\"cf-error-details\" class=\"p-0\">\n        <header class=\"mx-auto pt-10 lg:pt-6 lg:px-8 w-240 lg:w-full mb-8\">\n            <h1 class=\"inline-block sm:block sm:mb-2 font-light text-60 lg:text-4xl text-black-dark leading-tight mr-2\">\n              \n              <span class=\"cf-error-type\">Error</span>\n              <span class=\"cf-error-code\">520</span>\n            </h1>\n            <span class=\"inline-block sm:block font-mono text-15 lg:text-sm lg:leading-relaxed\">Ray ID: 6aa5f82d8c645363 &bull;</span>\n            <span class=\"inline-block sm:block font-mono text-15 lg:text-sm lg:leading-relaxed\">2021-11-07 10:44:59 UTC</span>\n            <h2 class=\"text-gray-600 leading-1.3 text-3xl font-light\">Web server is returning an unknown error</h2>\n        </header>\n        \n        <div class=\"my-8 bg-gradient-gray\">\n            <div class=\"w-240 lg:w-full mx-auto\">\n                <div class=\"clearfix md:px-8\">\n                  \n<div id=\"cf-browser-status\" class=\" relative w-1/3 md:w-full py-15 md:p-0 md:py-8 md:text-left md:border-solid md:border-0 md:border-b md:border-gray-400 overflow-hidden float-left md:float-none text-center\">\n  <div class=\"relative mb-10 md:m-0\">\n    <span class=\"cf-icon-browser block md:hidden h-20 bg-center bg-no-repeat\"></span>\n    <span class=\"cf-icon-ok w-12 h-12 absolute left-1/2 md:left-auto md:right-0 md:top-0 -ml-6 -bottom-4\"></span>\n  </div>\n  <span class=\"md:block w-full truncate\">You</span>\n  <h3 class=\"md:inline-block mt-3 md:mt-0 text-2xl text-gray-600 font-light leading-1.3\">Browser</h3>\n  <span class=\"leading-1.3 text-2xl text-green-success\">Working</span>\n</div>\n\n<div id=\"cf-cloudflare-status\" class=\" relative w-1/3 md:w-full py-15 md:p-0 md:py-8 md:text-left md:border-solid md:border-0 md:border-b md:border-gray-400 overflow-hidden float-left md:float-none text-center\">\n  <div class=\"relative mb-10 md:m-0\">\n    <span class=\"cf-icon-cloud block md:hidden h-20 bg-center bg-no-repeat\"></span>\n    <span class=\"cf-icon-ok w-12 h-12 absolute left-1/2 md:left-auto md:right-0 md:top-0 -ml-6 -bottom-4\"></span>\n  </div>\n  <span class=\"md:block w-full truncate\">Frankfurt</span>\n  <h3 class=\"md:inline-block mt-3 md:mt-0 text-2xl text-gray-600 font-light leading-1.3\">Cloudflare</h3>\n  <span class=\"leading-1.3 text-2xl text-green-success\">Working</span>\n</div>\n\n<div id=\"cf-host-status\" class=\"cf-error-source relative w-1/3 md:w-full py-15 md:p-0 md:py-8 md:text-left md:border-solid md:border-0 md:border-b md:border-gray-400 overflow-hidden float-left md:float-none text-center\">\n  <div class=\"relative mb-10 md:m-0\">\n    <span class=\"cf-icon-server block md:hidden h-20 bg-center bg-no-repeat\"></span>\n    <span class=\"cf-icon-error w-12 h-12 absolute left-1/2 md:left-auto md:right-0 md:top-0 -ml-6 -bottom-4\"></span>\n  </div>\n  <span class=\"md:block w-full truncate\">api-demo.fxcm.com</span>\n  <h3 class=\"md:inline-block mt-3 md:mt-0 text-2xl text-gray-600 font-light leading-1.3\">Host</h3>\n  <span class=\"leading-1.3 text-2xl text-red-error\">Error</span>\n</div>\n\n                </div>\n              \n            </div>\n        </div>\n\n        <div class=\"w-240 lg:w-full mx-auto mb-8 lg:px-8\">\n            <div class=\"clearfix\">\n                <div class=\"w-1/2 md:w-full float-left pr-6 md:pb-10 md:pr-0 leading-relaxed\">\n                    <h2 class=\"text-3xl font-normal leading-1.3 mb-4\">What happened?</h2>\n                    <p>There is an unknown connection issue between Cloudflare and the origin web server. As a result, the web page can not be displayed.</p>\n                </div>\n              \n                <div class=\"w-1/2 md:w-full float-left leading-relaxed\">\n                    <h2 class=\"text-3xl font-normal leading-1.3 mb-4\">What can I do?</h2>\n                          <h3 class=\"text-15 font-semibold mb-2\">If you are a visitor of this website:</h3>\n      <p class=\"mb-6\">Please try again in a few minutes.</p>\n\n      <h3 class=\"text-15 font-semibold mb-2\">If you are the owner of this website:</h3>\n      <p><span>There is an issue between Cloudflare's cache and your origin web server. Cloudflare monitors for these errors and automatically investigates the cause. To help support the investigation, you can pull the corresponding error log from your web server and submit it our support team.  Please include the Ray ID (which is at the bottom of this error page).</span> <a rel=\"noopener noreferrer\" href=\"https://support.cloudflare.com/hc/en-us/articles/200171936-Error-520\">Additional troubleshooting resources</a>.</p>\n                </div>\n            </div>\n              \n        </div>\n\n        <div class=\"cf-error-footer cf-wrapper w-240 lg:w-full py-10 sm:py-4 sm:px-8 mx-auto text-center sm:text-left border-solid border-0 border-t border-gray-300\">\n  <p class=\"text-13\">\n    <span class=\"cf-footer-item sm:block sm:mb-1\">Cloudflare Ray ID: <strong class=\"font-semibold\">6aa5f82d8c645363</strong></span>\n    <span class=\"cf-footer-separator sm:hidden\">&bull;</span>\n    <span class=\"cf-footer-item sm:block sm:mb-1\"><span>Your IP</span>: 2a02:810d:9340:5304:60a7:1df2:3f9e:5c54</span>\n    <span class=\"cf-footer-separator sm:hidden\">&bull;</span>\n    <span class=\"cf-footer-item sm:block sm:mb-1\"><span>Performance &amp; security by</span> <a rel=\"noopener noreferrer\" href=\"https://www.cloudflare.com/5xx-error-landing\" id=\"brand_link\" target=\"_blank\">Cloudflare</a></span>\n    \n  </p>\n</div><!-- /.error-footer -->\n\n\n    </div>\n</div>\n</body>\n</html>\n\n\"",
     "output_type": "error",
     "traceback": [
      "\u001b[0;31m---------------------------------------------------------------------------\u001b[0m",
      "\u001b[0;31mServerError\u001b[0m                               Traceback (most recent call last)",
      "\u001b[0;32m<ipython-input-28-146ec98e94c0>\u001b[0m in \u001b[0;36m<module>\u001b[0;34m\u001b[0m\n\u001b[1;32m      1\u001b[0m \u001b[0;32mfor\u001b[0m \u001b[0mkey\u001b[0m\u001b[0;34m,\u001b[0m \u001b[0mvalue\u001b[0m \u001b[0;32min\u001b[0m \u001b[0mcrypto_dic\u001b[0m\u001b[0;34m.\u001b[0m\u001b[0mitems\u001b[0m\u001b[0;34m(\u001b[0m\u001b[0;34m)\u001b[0m\u001b[0;34m:\u001b[0m\u001b[0;34m\u001b[0m\u001b[0;34m\u001b[0m\u001b[0m\n\u001b[0;32m----> 2\u001b[0;31m     \u001b[0mget5min_df\u001b[0m\u001b[0;34m(\u001b[0m\u001b[0mkey\u001b[0m\u001b[0;34m,\u001b[0m \u001b[0mvalue\u001b[0m\u001b[0;34m)\u001b[0m\u001b[0;34m\u001b[0m\u001b[0;34m\u001b[0m\u001b[0m\n\u001b[0m\u001b[1;32m      3\u001b[0m \u001b[0;34m\u001b[0m\u001b[0m\n",
      "\u001b[0;32m<ipython-input-24-ca6d47c15856>\u001b[0m in \u001b[0;36mget5min_df\u001b[0;34m(symbol, ticker)\u001b[0m\n\u001b[1;32m     18\u001b[0m     \u001b[0mjuli_2_start\u001b[0m \u001b[0;34m=\u001b[0m \u001b[0mdatetime\u001b[0m\u001b[0;34m(\u001b[0m\u001b[0;36m2021\u001b[0m\u001b[0;34m,\u001b[0m \u001b[0;36m7\u001b[0m\u001b[0;34m,\u001b[0m \u001b[0;36m1\u001b[0m\u001b[0;34m,\u001b[0m \u001b[0;36m0\u001b[0m\u001b[0;34m,\u001b[0m\u001b[0;36m0\u001b[0m\u001b[0;34m,\u001b[0m\u001b[0;36m0\u001b[0m\u001b[0;34m)\u001b[0m\u001b[0;34m\u001b[0m\u001b[0;34m\u001b[0m\u001b[0m\n\u001b[1;32m     19\u001b[0m     \u001b[0mjuli_2_end\u001b[0m \u001b[0;34m=\u001b[0m \u001b[0mdatetime\u001b[0m\u001b[0;34m(\u001b[0m\u001b[0;36m2021\u001b[0m\u001b[0;34m,\u001b[0m \u001b[0;36m7\u001b[0m\u001b[0;34m,\u001b[0m \u001b[0;36m31\u001b[0m\u001b[0;34m,\u001b[0m \u001b[0;36m23\u001b[0m\u001b[0;34m,\u001b[0m \u001b[0;36m55\u001b[0m\u001b[0;34m,\u001b[0m \u001b[0;36m0\u001b[0m\u001b[0;34m)\u001b[0m\u001b[0;34m\u001b[0m\u001b[0;34m\u001b[0m\u001b[0m\n\u001b[0;32m---> 20\u001b[0;31m     df_juli_1 = api.get_candles(ticker, start = juli_2_start, end = juli_2_end, \n\u001b[0m\u001b[1;32m     21\u001b[0m                     period = \"m5\", columns = [\"asks\"])\n\u001b[1;32m     22\u001b[0m \u001b[0;34m\u001b[0m\u001b[0m\n",
      "\u001b[0;32m/usr/local/lib/python3.8/site-packages/fxcmpy/fxcmpy.py\u001b[0m in \u001b[0;36mget_candles\u001b[0;34m(self, instrument, offer_id, period, number, start, end, with_index, columns, stop)\u001b[0m\n\u001b[1;32m   2182\u001b[0m             \u001b[0mparams\u001b[0m\u001b[0;34m[\u001b[0m\u001b[0;34m'to'\u001b[0m\u001b[0;34m]\u001b[0m \u001b[0;34m=\u001b[0m \u001b[0mmax\u001b[0m\u001b[0;34m(\u001b[0m\u001b[0mend\u001b[0m\u001b[0;34m,\u001b[0m \u001b[0;36m1\u001b[0m\u001b[0;34m)\u001b[0m\u001b[0;34m\u001b[0m\u001b[0;34m\u001b[0m\u001b[0m\n\u001b[1;32m   2183\u001b[0m \u001b[0;34m\u001b[0m\u001b[0m\n\u001b[0;32m-> 2184\u001b[0;31m         data = self.__handle_request__(method='candles/%s/%s'\n\u001b[0m\u001b[1;32m   2185\u001b[0m                                        % (offer_id, period), params=params)\n\u001b[1;32m   2186\u001b[0m \u001b[0;34m\u001b[0m\u001b[0m\n",
      "\u001b[0;32m/usr/local/lib/python3.8/site-packages/fxcmpy/fxcmpy.py\u001b[0m in \u001b[0;36m__handle_request__\u001b[0;34m(self, method, params, protocol)\u001b[0m\n\u001b[1;32m   2489\u001b[0m                               % (method, req.status_code, req.text))\n\u001b[1;32m   2490\u001b[0m \u001b[0;34m\u001b[0m\u001b[0m\n\u001b[0;32m-> 2491\u001b[0;31m             raise ServerError('Request returns status code %s and message \"%s\"'\n\u001b[0m\u001b[1;32m   2492\u001b[0m                               % (req.status_code,\n\u001b[1;32m   2493\u001b[0m                                  unquote(req.text)))\n",
      "\u001b[0;31mServerError\u001b[0m: Request returns status code 520 and message \"<!DOCTYPE html>\n<!--[if lt IE 7]> <html class=\"no-js ie6 oldie\" lang=\"en-US\"> <![endif]-->\n<!--[if IE 7]>    <html class=\"no-js ie7 oldie\" lang=\"en-US\"> <![endif]-->\n<!--[if IE 8]>    <html class=\"no-js ie8 oldie\" lang=\"en-US\"> <![endif]-->\n<!--[if gt IE 8]><!--> <html class=\"no-js\" lang=\"en-US\"> <!--<![endif]-->\n<head>\n<meta http-equiv=\"refresh\" content=\"0\">\n\n<title>api-demo.fxcm.com | 520: Web server is returning an unknown error</title>\n<meta charset=\"UTF-8\" />\n<meta http-equiv=\"Content-Type\" content=\"text/html; charset=UTF-8\" />\n<meta http-equiv=\"X-UA-Compatible\" content=\"IE=Edge,chrome=1\" />\n<meta name=\"robots\" content=\"noindex, nofollow\" />\n<meta name=\"viewport\" content=\"width=device-width,initial-scale=1\" />\n<link rel=\"stylesheet\" id=\"cf_styles-css\" href=\"/cdn-cgi/styles/main.css\" type=\"text/css\" media=\"screen,projection\" />\n\n\n</head>\n<body>\n<div id=\"cf-wrapper\">\n\n    \n\n    <div id=\"cf-error-details\" class=\"p-0\">\n        <header class=\"mx-auto pt-10 lg:pt-6 lg:px-8 w-240 lg:w-full mb-8\">\n            <h1 class=\"inline-block sm:block sm:mb-2 font-light text-60 lg:text-4xl text-black-dark leading-tight mr-2\">\n              \n              <span class=\"cf-error-type\">Error</span>\n              <span class=\"cf-error-code\">520</span>\n            </h1>\n            <span class=\"inline-block sm:block font-mono text-15 lg:text-sm lg:leading-relaxed\">Ray ID: 6aa5f82d8c645363 &bull;</span>\n            <span class=\"inline-block sm:block font-mono text-15 lg:text-sm lg:leading-relaxed\">2021-11-07 10:44:59 UTC</span>\n            <h2 class=\"text-gray-600 leading-1.3 text-3xl font-light\">Web server is returning an unknown error</h2>\n        </header>\n        \n        <div class=\"my-8 bg-gradient-gray\">\n            <div class=\"w-240 lg:w-full mx-auto\">\n                <div class=\"clearfix md:px-8\">\n                  \n<div id=\"cf-browser-status\" class=\" relative w-1/3 md:w-full py-15 md:p-0 md:py-8 md:text-left md:border-solid md:border-0 md:border-b md:border-gray-400 overflow-hidden float-left md:float-none text-center\">\n  <div class=\"relative mb-10 md:m-0\">\n    <span class=\"cf-icon-browser block md:hidden h-20 bg-center bg-no-repeat\"></span>\n    <span class=\"cf-icon-ok w-12 h-12 absolute left-1/2 md:left-auto md:right-0 md:top-0 -ml-6 -bottom-4\"></span>\n  </div>\n  <span class=\"md:block w-full truncate\">You</span>\n  <h3 class=\"md:inline-block mt-3 md:mt-0 text-2xl text-gray-600 font-light leading-1.3\">Browser</h3>\n  <span class=\"leading-1.3 text-2xl text-green-success\">Working</span>\n</div>\n\n<div id=\"cf-cloudflare-status\" class=\" relative w-1/3 md:w-full py-15 md:p-0 md:py-8 md:text-left md:border-solid md:border-0 md:border-b md:border-gray-400 overflow-hidden float-left md:float-none text-center\">\n  <div class=\"relative mb-10 md:m-0\">\n    <span class=\"cf-icon-cloud block md:hidden h-20 bg-center bg-no-repeat\"></span>\n    <span class=\"cf-icon-ok w-12 h-12 absolute left-1/2 md:left-auto md:right-0 md:top-0 -ml-6 -bottom-4\"></span>\n  </div>\n  <span class=\"md:block w-full truncate\">Frankfurt</span>\n  <h3 class=\"md:inline-block mt-3 md:mt-0 text-2xl text-gray-600 font-light leading-1.3\">Cloudflare</h3>\n  <span class=\"leading-1.3 text-2xl text-green-success\">Working</span>\n</div>\n\n<div id=\"cf-host-status\" class=\"cf-error-source relative w-1/3 md:w-full py-15 md:p-0 md:py-8 md:text-left md:border-solid md:border-0 md:border-b md:border-gray-400 overflow-hidden float-left md:float-none text-center\">\n  <div class=\"relative mb-10 md:m-0\">\n    <span class=\"cf-icon-server block md:hidden h-20 bg-center bg-no-repeat\"></span>\n    <span class=\"cf-icon-error w-12 h-12 absolute left-1/2 md:left-auto md:right-0 md:top-0 -ml-6 -bottom-4\"></span>\n  </div>\n  <span class=\"md:block w-full truncate\">api-demo.fxcm.com</span>\n  <h3 class=\"md:inline-block mt-3 md:mt-0 text-2xl text-gray-600 font-light leading-1.3\">Host</h3>\n  <span class=\"leading-1.3 text-2xl text-red-error\">Error</span>\n</div>\n\n                </div>\n              \n            </div>\n        </div>\n\n        <div class=\"w-240 lg:w-full mx-auto mb-8 lg:px-8\">\n            <div class=\"clearfix\">\n                <div class=\"w-1/2 md:w-full float-left pr-6 md:pb-10 md:pr-0 leading-relaxed\">\n                    <h2 class=\"text-3xl font-normal leading-1.3 mb-4\">What happened?</h2>\n                    <p>There is an unknown connection issue between Cloudflare and the origin web server. As a result, the web page can not be displayed.</p>\n                </div>\n              \n                <div class=\"w-1/2 md:w-full float-left leading-relaxed\">\n                    <h2 class=\"text-3xl font-normal leading-1.3 mb-4\">What can I do?</h2>\n                          <h3 class=\"text-15 font-semibold mb-2\">If you are a visitor of this website:</h3>\n      <p class=\"mb-6\">Please try again in a few minutes.</p>\n\n      <h3 class=\"text-15 font-semibold mb-2\">If you are the owner of this website:</h3>\n      <p><span>There is an issue between Cloudflare's cache and your origin web server. Cloudflare monitors for these errors and automatically investigates the cause. To help support the investigation, you can pull the corresponding error log from your web server and submit it our support team.  Please include the Ray ID (which is at the bottom of this error page).</span> <a rel=\"noopener noreferrer\" href=\"https://support.cloudflare.com/hc/en-us/articles/200171936-Error-520\">Additional troubleshooting resources</a>.</p>\n                </div>\n            </div>\n              \n        </div>\n\n        <div class=\"cf-error-footer cf-wrapper w-240 lg:w-full py-10 sm:py-4 sm:px-8 mx-auto text-center sm:text-left border-solid border-0 border-t border-gray-300\">\n  <p class=\"text-13\">\n    <span class=\"cf-footer-item sm:block sm:mb-1\">Cloudflare Ray ID: <strong class=\"font-semibold\">6aa5f82d8c645363</strong></span>\n    <span class=\"cf-footer-separator sm:hidden\">&bull;</span>\n    <span class=\"cf-footer-item sm:block sm:mb-1\"><span>Your IP</span>: 2a02:810d:9340:5304:60a7:1df2:3f9e:5c54</span>\n    <span class=\"cf-footer-separator sm:hidden\">&bull;</span>\n    <span class=\"cf-footer-item sm:block sm:mb-1\"><span>Performance &amp; security by</span> <a rel=\"noopener noreferrer\" href=\"https://www.cloudflare.com/5xx-error-landing\" id=\"brand_link\" target=\"_blank\">Cloudflare</a></span>\n    \n  </p>\n</div><!-- /.error-footer -->\n\n\n    </div>\n</div>\n</body>\n</html>\n\n\""
     ]
    }
   ],
   "source": [
    "for key, value in crypto_dic.items(): \n",
    "    get5min_df(key, value)\n",
    "\n"
   ]
  },
  {
   "cell_type": "code",
   "execution_count": 98,
   "metadata": {},
   "outputs": [
    {
     "data": {
      "text/plain": [
       "14379"
      ]
     },
     "execution_count": 98,
     "metadata": {},
     "output_type": "execute_result"
    }
   ],
   "source": [
    "len(df_mai_1)"
   ]
  },
  {
   "cell_type": "code",
   "execution_count": null,
   "metadata": {},
   "outputs": [],
   "source": []
  },
  {
   "cell_type": "code",
   "execution_count": 125,
   "metadata": {},
   "outputs": [],
   "source": [
    "d = {'col1': [1, 2], 'col2': [3, 4]}\n",
    "df = pd.DataFrame(data=d)\n",
    "symbol = \"BTC\"\n",
    "path = \"./hist_data/\" + symbol + \"/5min/\"+symbol+\"_5min.csv\"\n",
    "\n",
    "df.to_csv(path)"
   ]
  },
  {
   "cell_type": "code",
   "execution_count": 99,
   "metadata": {},
   "outputs": [
    {
     "data": {
      "text/plain": [
       "14519"
      ]
     },
     "execution_count": 99,
     "metadata": {},
     "output_type": "execute_result"
    }
   ],
   "source": [
    "len(df_mai_2)"
   ]
  },
  {
   "cell_type": "code",
   "execution_count": 79,
   "metadata": {},
   "outputs": [],
   "source": [
    "start_t = datetime(2021, 7, 1, 0, 0, 0)\n",
    "end_t = datetime(2021, 7, 31, 23, 59, 0)\n",
    "df_3 = api.get_candles(\"ETH/USD\", start = start_t, end = end_t, \n",
    "                period = \"m1\", columns = [\"asks\"])"
   ]
  },
  {
   "cell_type": "code",
   "execution_count": 80,
   "metadata": {},
   "outputs": [],
   "source": [
    "start_t = datetime(2021, 8, 1, 0, 0, 0)\n",
    "end_t = datetime(2021, 8, 31, 23, 59, 0)\n",
    "df_4 = api.get_candles(\"ETH/USD\", start = start_t, end = end_t, \n",
    "                period = \"m1\", columns = [\"asks\"])"
   ]
  },
  {
   "cell_type": "code",
   "execution_count": 81,
   "metadata": {},
   "outputs": [],
   "source": [
    "start_t = datetime(2021, 9, 1, 0, 0, 0)\n",
    "end_t = datetime(2021, 9, 30, 23, 59, 0)\n",
    "df_5= api.get_candles(\"ETH/USD\", start = start_t, end = end_t, \n",
    "                period = \"m1\", columns = [\"asks\"])"
   ]
  },
  {
   "cell_type": "code",
   "execution_count": 82,
   "metadata": {},
   "outputs": [],
   "source": [
    "start_t = datetime(2021, 10, 1, 0, 0, 0)\n",
    "end_t = datetime(2021, 10, 30, 22, 59, 0)\n",
    "df_6= api.get_candles(\"ETH/USD\", start = start_t, end = end_t, \n",
    "                period = \"m1\", columns = [\"asks\"])"
   ]
  },
  {
   "cell_type": "code",
   "execution_count": 83,
   "metadata": {},
   "outputs": [],
   "source": [
    "df_2 = df_2.append(df_1)"
   ]
  },
  {
   "cell_type": "code",
   "execution_count": 84,
   "metadata": {},
   "outputs": [],
   "source": [
    "df_3 = df_3.append(df_2)"
   ]
  },
  {
   "cell_type": "code",
   "execution_count": 85,
   "metadata": {},
   "outputs": [],
   "source": [
    "df_4 = df_4.append(df_3)"
   ]
  },
  {
   "cell_type": "code",
   "execution_count": 86,
   "metadata": {},
   "outputs": [],
   "source": [
    "df_5 = df_5.append(df_4)"
   ]
  },
  {
   "cell_type": "code",
   "execution_count": 87,
   "metadata": {},
   "outputs": [],
   "source": [
    "big_df = df_6.append(df_5)"
   ]
  },
  {
   "cell_type": "code",
   "execution_count": 75,
   "metadata": {},
   "outputs": [],
   "source": [
    "#big_df = big_df.append(df_6)"
   ]
  },
  {
   "cell_type": "code",
   "execution_count": 88,
   "metadata": {},
   "outputs": [],
   "source": [
    "big_df.to_csv(\"./hist_data/ETH/1min/eth_6month.csv\")"
   ]
  },
  {
   "cell_type": "code",
   "execution_count": 133,
   "metadata": {},
   "outputs": [],
   "source": [
    "api.close()"
   ]
  },
  {
   "cell_type": "code",
   "execution_count": null,
   "metadata": {},
   "outputs": [],
   "source": [
    "import engineio\n",
    "print(engineio.__version__)"
   ]
  },
  {
   "cell_type": "markdown",
   "metadata": {},
   "source": [
    "## Streaming high-frequency real-time Data"
   ]
  },
  {
   "cell_type": "code",
   "execution_count": 1,
   "metadata": {},
   "outputs": [],
   "source": [
    "import pandas as pd\n",
    "import fxcmpy"
   ]
  },
  {
   "cell_type": "code",
   "execution_count": 2,
   "metadata": {},
   "outputs": [],
   "source": [
    "api = fxcmpy.fxcmpy(config_file= \"fxcm.cfg\")"
   ]
  },
  {
   "cell_type": "code",
   "execution_count": 26,
   "metadata": {},
   "outputs": [],
   "source": [
    "api.subscribe_market_data(\"ETH/USD\")"
   ]
  },
  {
   "cell_type": "code",
   "execution_count": 27,
   "metadata": {},
   "outputs": [
    {
     "data": {
      "text/plain": [
       "['ETH/USD']"
      ]
     },
     "execution_count": 27,
     "metadata": {},
     "output_type": "execute_result"
    }
   ],
   "source": [
    "api.get_subscribed_symbols()"
   ]
  },
  {
   "cell_type": "code",
   "execution_count": 34,
   "metadata": {
    "scrolled": true
   },
   "outputs": [
    {
     "data": {
      "text/plain": [
       "4346.75"
      ]
     },
     "execution_count": 34,
     "metadata": {},
     "output_type": "execute_result"
    }
   ],
   "source": [
    "api.get_last_price(\"ETH/USD\").Bid"
   ]
  },
  {
   "cell_type": "code",
   "execution_count": 39,
   "metadata": {},
   "outputs": [],
   "source": [
    "def store_position_data(price):\n",
    "    take_profit_pct = 0.1\n",
    "    stop_loss_pct = 0.05\n",
    "    stop_loss = round(price - (price * stop_loss_pct), 2)\n",
    "    take_profit = round(price + (price * take_profit_pct), 2)    \n",
    "    print(f\"current price: {price}, stop_loss: {stop_loss}, take_profit: {take_profit}\")"
   ]
  },
  {
   "cell_type": "code",
   "execution_count": 40,
   "metadata": {},
   "outputs": [
    {
     "name": "stdout",
     "output_type": "stream",
     "text": [
      "current price: 4342.25, stop_loss: 4125.14, take_profit: 4776.48\n"
     ]
    }
   ],
   "source": [
    "price = api.get_last_price(\"ETH/USD\").Bid\n",
    "store_position_data(price)"
   ]
  },
  {
   "cell_type": "code",
   "execution_count": 30,
   "metadata": {
    "scrolled": false
   },
   "outputs": [
    {
     "data": {
      "text/html": [
       "<div>\n",
       "<style scoped>\n",
       "    .dataframe tbody tr th:only-of-type {\n",
       "        vertical-align: middle;\n",
       "    }\n",
       "\n",
       "    .dataframe tbody tr th {\n",
       "        vertical-align: top;\n",
       "    }\n",
       "\n",
       "    .dataframe thead th {\n",
       "        text-align: right;\n",
       "    }\n",
       "</style>\n",
       "<table border=\"1\" class=\"dataframe\">\n",
       "  <thead>\n",
       "    <tr style=\"text-align: right;\">\n",
       "      <th></th>\n",
       "      <th>Bid</th>\n",
       "      <th>Ask</th>\n",
       "      <th>High</th>\n",
       "      <th>Low</th>\n",
       "    </tr>\n",
       "  </thead>\n",
       "  <tbody>\n",
       "    <tr>\n",
       "      <th>2021-12-07 16:59:34.272</th>\n",
       "      <td>4355.95</td>\n",
       "      <td>4361.85</td>\n",
       "      <td>4433.75</td>\n",
       "      <td>4305.45</td>\n",
       "    </tr>\n",
       "    <tr>\n",
       "      <th>2021-12-07 16:59:38.137</th>\n",
       "      <td>4356.35</td>\n",
       "      <td>4361.85</td>\n",
       "      <td>4433.75</td>\n",
       "      <td>4305.45</td>\n",
       "    </tr>\n",
       "    <tr>\n",
       "      <th>2021-12-07 16:59:38.283</th>\n",
       "      <td>4356.35</td>\n",
       "      <td>4362.75</td>\n",
       "      <td>4433.75</td>\n",
       "      <td>4305.45</td>\n",
       "    </tr>\n",
       "    <tr>\n",
       "      <th>2021-12-07 16:59:38.828</th>\n",
       "      <td>4356.35</td>\n",
       "      <td>4362.85</td>\n",
       "      <td>4433.75</td>\n",
       "      <td>4305.45</td>\n",
       "    </tr>\n",
       "    <tr>\n",
       "      <th>2021-12-07 16:59:39.948</th>\n",
       "      <td>4356.35</td>\n",
       "      <td>4362.75</td>\n",
       "      <td>4433.75</td>\n",
       "      <td>4305.45</td>\n",
       "    </tr>\n",
       "    <tr>\n",
       "      <th>2021-12-07 16:59:40.543</th>\n",
       "      <td>4356.35</td>\n",
       "      <td>4362.85</td>\n",
       "      <td>4433.75</td>\n",
       "      <td>4305.45</td>\n",
       "    </tr>\n",
       "    <tr>\n",
       "      <th>2021-12-07 16:59:41.593</th>\n",
       "      <td>4357.05</td>\n",
       "      <td>4362.95</td>\n",
       "      <td>4433.75</td>\n",
       "      <td>4305.45</td>\n",
       "    </tr>\n",
       "    <tr>\n",
       "      <th>2021-12-07 16:59:43.324</th>\n",
       "      <td>4357.05</td>\n",
       "      <td>4363.05</td>\n",
       "      <td>4433.75</td>\n",
       "      <td>4305.45</td>\n",
       "    </tr>\n",
       "    <tr>\n",
       "      <th>2021-12-07 16:59:48.647</th>\n",
       "      <td>4356.05</td>\n",
       "      <td>4362.45</td>\n",
       "      <td>4433.75</td>\n",
       "      <td>4305.45</td>\n",
       "    </tr>\n",
       "    <tr>\n",
       "      <th>2021-12-07 16:59:48.944</th>\n",
       "      <td>4356.05</td>\n",
       "      <td>4362.35</td>\n",
       "      <td>4433.75</td>\n",
       "      <td>4305.45</td>\n",
       "    </tr>\n",
       "    <tr>\n",
       "      <th>2021-12-07 16:59:49.395</th>\n",
       "      <td>4356.05</td>\n",
       "      <td>4362.25</td>\n",
       "      <td>4433.75</td>\n",
       "      <td>4305.45</td>\n",
       "    </tr>\n",
       "  </tbody>\n",
       "</table>\n",
       "</div>"
      ],
      "text/plain": [
       "                             Bid      Ask     High      Low\n",
       "2021-12-07 16:59:34.272  4355.95  4361.85  4433.75  4305.45\n",
       "2021-12-07 16:59:38.137  4356.35  4361.85  4433.75  4305.45\n",
       "2021-12-07 16:59:38.283  4356.35  4362.75  4433.75  4305.45\n",
       "2021-12-07 16:59:38.828  4356.35  4362.85  4433.75  4305.45\n",
       "2021-12-07 16:59:39.948  4356.35  4362.75  4433.75  4305.45\n",
       "2021-12-07 16:59:40.543  4356.35  4362.85  4433.75  4305.45\n",
       "2021-12-07 16:59:41.593  4357.05  4362.95  4433.75  4305.45\n",
       "2021-12-07 16:59:43.324  4357.05  4363.05  4433.75  4305.45\n",
       "2021-12-07 16:59:48.647  4356.05  4362.45  4433.75  4305.45\n",
       "2021-12-07 16:59:48.944  4356.05  4362.35  4433.75  4305.45\n",
       "2021-12-07 16:59:49.395  4356.05  4362.25  4433.75  4305.45"
      ]
     },
     "execution_count": 30,
     "metadata": {},
     "output_type": "execute_result"
    }
   ],
   "source": [
    "api.get_prices(\"ETH/USD\")"
   ]
  },
  {
   "cell_type": "code",
   "execution_count": 41,
   "metadata": {},
   "outputs": [],
   "source": [
    "api.close()"
   ]
  },
  {
   "cell_type": "code",
   "execution_count": null,
   "metadata": {},
   "outputs": [],
   "source": [
    "import time"
   ]
  },
  {
   "cell_type": "code",
   "execution_count": null,
   "metadata": {
    "scrolled": false
   },
   "outputs": [],
   "source": [
    "while True:\n",
    "    time.sleep(1)\n",
    "    print(api.get_last_price(\"ETH/USD\").name, api.get_last_price(\"ETH/USD\").Bid,\n",
    "          api.get_last_price(\"ETH/USD\").Ask, sep = \"|\")"
   ]
  },
  {
   "cell_type": "code",
   "execution_count": null,
   "metadata": {},
   "outputs": [],
   "source": [
    "api.unsubscribe_market_data(\"ETH/USD\")"
   ]
  },
  {
   "cell_type": "code",
   "execution_count": 131,
   "metadata": {},
   "outputs": [],
   "source": [
    "def print_data(data, dataframe):\n",
    "    print('%3d | %s | %s, %s, %s'\n",
    "          % (len(dataframe), data['Symbol'],\n",
    "             pd.to_datetime(int(data['Updated']), unit='ms'),\n",
    "             data['Rates'][0], data['Rates'][1]))"
   ]
  },
  {
   "cell_type": "code",
   "execution_count": 132,
   "metadata": {},
   "outputs": [],
   "source": [
    "api.subscribe_market_data(\"ETH/USD\", (print_data,))"
   ]
  },
  {
   "cell_type": "code",
   "execution_count": null,
   "metadata": {},
   "outputs": [],
   "source": [
    "api.unsubscribe_market_data(\"ETH/USD\")"
   ]
  },
  {
   "cell_type": "code",
   "execution_count": null,
   "metadata": {},
   "outputs": [],
   "source": [
    "api.close()"
   ]
  },
  {
   "cell_type": "code",
   "execution_count": null,
   "metadata": {},
   "outputs": [],
   "source": []
  },
  {
   "cell_type": "markdown",
   "metadata": {},
   "source": [
    "## Creating Orders and Executing Trades"
   ]
  },
  {
   "cell_type": "code",
   "execution_count": null,
   "metadata": {},
   "outputs": [],
   "source": [
    "import pandas as pd\n",
    "import fxcmpy"
   ]
  },
  {
   "cell_type": "code",
   "execution_count": null,
   "metadata": {},
   "outputs": [],
   "source": [
    "api = fxcmpy.fxcmpy(config_file= \"fxcm.cfg\")"
   ]
  },
  {
   "cell_type": "code",
   "execution_count": 10,
   "metadata": {},
   "outputs": [
    {
     "data": {
      "text/html": [
       "<div>\n",
       "<style scoped>\n",
       "    .dataframe tbody tr th:only-of-type {\n",
       "        vertical-align: middle;\n",
       "    }\n",
       "\n",
       "    .dataframe tbody tr th {\n",
       "        vertical-align: top;\n",
       "    }\n",
       "\n",
       "    .dataframe thead th {\n",
       "        text-align: right;\n",
       "    }\n",
       "</style>\n",
       "<table border=\"1\" class=\"dataframe\">\n",
       "  <thead>\n",
       "    <tr style=\"text-align: right;\">\n",
       "      <th></th>\n",
       "      <th>t</th>\n",
       "      <th>ratePrecision</th>\n",
       "      <th>tradeId</th>\n",
       "      <th>accountName</th>\n",
       "      <th>accountId</th>\n",
       "      <th>roll</th>\n",
       "      <th>com</th>\n",
       "      <th>open</th>\n",
       "      <th>valueDate</th>\n",
       "      <th>grossPL</th>\n",
       "      <th>...</th>\n",
       "      <th>usedMargin</th>\n",
       "      <th>orderId</th>\n",
       "      <th>OpenOrderRequestTXT</th>\n",
       "      <th>OpenOrderReqID</th>\n",
       "      <th>TradeIDOrigin</th>\n",
       "      <th>child_trailingStop</th>\n",
       "      <th>child_trailing</th>\n",
       "      <th>stop</th>\n",
       "      <th>stopMove</th>\n",
       "      <th>limit</th>\n",
       "    </tr>\n",
       "  </thead>\n",
       "  <tbody>\n",
       "    <tr>\n",
       "      <th>0</th>\n",
       "      <td>1</td>\n",
       "      <td>5</td>\n",
       "      <td>177592931</td>\n",
       "      <td>01307575</td>\n",
       "      <td>1307575</td>\n",
       "      <td>0</td>\n",
       "      <td>0</td>\n",
       "      <td>1.1569</td>\n",
       "      <td></td>\n",
       "      <td>-0.16426</td>\n",
       "      <td>...</td>\n",
       "      <td>16.65</td>\n",
       "      <td>384334474</td>\n",
       "      <td>None</td>\n",
       "      <td>Request-110028</td>\n",
       "      <td>None</td>\n",
       "      <td>none</td>\n",
       "      <td>-1</td>\n",
       "      <td>0</td>\n",
       "      <td>0</td>\n",
       "      <td>0</td>\n",
       "    </tr>\n",
       "    <tr>\n",
       "      <th>1</th>\n",
       "      <td>1</td>\n",
       "      <td>5</td>\n",
       "      <td>177592932</td>\n",
       "      <td>01307575</td>\n",
       "      <td>1307575</td>\n",
       "      <td>0</td>\n",
       "      <td>0</td>\n",
       "      <td>1.1569</td>\n",
       "      <td></td>\n",
       "      <td>-0.16426</td>\n",
       "      <td>...</td>\n",
       "      <td>16.65</td>\n",
       "      <td>384334475</td>\n",
       "      <td>None</td>\n",
       "      <td>Request-110157</td>\n",
       "      <td>None</td>\n",
       "      <td>none</td>\n",
       "      <td>-1</td>\n",
       "      <td>0</td>\n",
       "      <td>0</td>\n",
       "      <td>0</td>\n",
       "    </tr>\n",
       "  </tbody>\n",
       "</table>\n",
       "<p>2 rows × 28 columns</p>\n",
       "</div>"
      ],
      "text/plain": [
       "   t  ratePrecision    tradeId accountName accountId  roll  com    open  \\\n",
       "0  1              5  177592931    01307575   1307575     0    0  1.1569   \n",
       "1  1              5  177592932    01307575   1307575     0    0  1.1569   \n",
       "\n",
       "  valueDate  grossPL  ...  usedMargin    orderId  OpenOrderRequestTXT  \\\n",
       "0           -0.16426  ...       16.65  384334474                 None   \n",
       "1           -0.16426  ...       16.65  384334475                 None   \n",
       "\n",
       "   OpenOrderReqID  TradeIDOrigin  child_trailingStop  child_trailing stop  \\\n",
       "0  Request-110028           None                none              -1    0   \n",
       "1  Request-110157           None                none              -1    0   \n",
       "\n",
       "   stopMove limit  \n",
       "0         0     0  \n",
       "1         0     0  \n",
       "\n",
       "[2 rows x 28 columns]"
      ]
     },
     "execution_count": 10,
     "metadata": {},
     "output_type": "execute_result"
    }
   ],
   "source": [
    "api.get_open_positions()"
   ]
  },
  {
   "cell_type": "code",
   "execution_count": 12,
   "metadata": {},
   "outputs": [
    {
     "data": {
      "text/plain": [
       "<fxcmpy.fxcmpy_order.fxcmpy_order at 0x1148711f0>"
      ]
     },
     "execution_count": 12,
     "metadata": {},
     "output_type": "execute_result"
    },
    {
     "name": "stderr",
     "output_type": "stream",
     "text": [
      "|WARNING|2021-11-06 13:21:28,258|Got a insert event for open positions: {'t': 1, 'ratePrecision': 5, 'tradeId': '177592938', 'accountName': '01307575', 'accountId': '1307575', 'roll': 0, 'com': 0, 'open': 1.1569, 'valueDate': '', 'grossPL': -0.32852, 'close': 1.15671, 'visiblePL': -1.9, 'isDisabled': False, 'currency': 'EUR/USD', 'isBuy': True, 'amountK': 2, 'currencyPoint': 0.17289, 'time': '11062021122128', 'usedMargin': 33.3, 'orderId': '384334482', 'OpenOrderRequestTXT': None, 'OpenOrderReqID': 'Request-110374', 'TradeIDOrigin': None, 'child_trailingStop': 'none', 'child_trailing': -1, 'stop': 0, 'stopMove': 0, 'limit': 0, 'action': 'I'}.\n",
      "Exception in thread Thread-33:\n",
      "Traceback (most recent call last):\n",
      "  File \"/usr/local/Cellar/python@3.8/3.8.11/Frameworks/Python.framework/Versions/3.8/lib/python3.8/threading.py\", line 932, in _bootstrap_inner\n",
      "    self.run()\n",
      "  File \"/usr/local/Cellar/python@3.8/3.8.11/Frameworks/Python.framework/Versions/3.8/lib/python3.8/threading.py\", line 870, in run\n",
      "|WARNING|2021-11-06 13:21:28,266|Got a delete event for orders: {'t': 3, 'orderId': '384334482', 'action': 'D'}.\n",
      "    self._target(*self._args, **self._kwargs)\n",
      "  File \"/usr/local/lib/python3.8/site-packages/socketio/client.py\", line 616, in _handle_eio_message\n",
      "    self._handle_event(pkt.namespace, pkt.id, pkt.data)\n",
      "  File \"/usr/local/lib/python3.8/site-packages/socketio/client.py\", line 500, in _handle_event\n",
      "    r = self._trigger_event(data[0], namespace, *data[1:])\n",
      "  File \"/usr/local/lib/python3.8/site-packages/socketio/client.py\", line 550, in _trigger_event\n",
      "    return self.handlers[namespace][event](*args)\n",
      "  File \"/usr/local/lib/python3.8/site-packages/fxcmpy/fxcmpy.py\", line 2695, in __on_open_pos_update__\n",
      "    pos = self.open_pos[trade_id]\n",
      "KeyError: 177592938\n"
     ]
    }
   ],
   "source": [
    "api.create_market_buy_order(\"EUR/USD\",2)"
   ]
  },
  {
   "cell_type": "code",
   "execution_count": 13,
   "metadata": {},
   "outputs": [
    {
     "data": {
      "text/html": [
       "<div>\n",
       "<style scoped>\n",
       "    .dataframe tbody tr th:only-of-type {\n",
       "        vertical-align: middle;\n",
       "    }\n",
       "\n",
       "    .dataframe tbody tr th {\n",
       "        vertical-align: top;\n",
       "    }\n",
       "\n",
       "    .dataframe thead th {\n",
       "        text-align: right;\n",
       "    }\n",
       "</style>\n",
       "<table border=\"1\" class=\"dataframe\">\n",
       "  <thead>\n",
       "    <tr style=\"text-align: right;\">\n",
       "      <th></th>\n",
       "      <th>t</th>\n",
       "      <th>ratePrecision</th>\n",
       "      <th>tradeId</th>\n",
       "      <th>accountName</th>\n",
       "      <th>accountId</th>\n",
       "      <th>roll</th>\n",
       "      <th>com</th>\n",
       "      <th>open</th>\n",
       "      <th>valueDate</th>\n",
       "      <th>grossPL</th>\n",
       "      <th>...</th>\n",
       "      <th>usedMargin</th>\n",
       "      <th>orderId</th>\n",
       "      <th>OpenOrderRequestTXT</th>\n",
       "      <th>OpenOrderReqID</th>\n",
       "      <th>TradeIDOrigin</th>\n",
       "      <th>child_trailingStop</th>\n",
       "      <th>child_trailing</th>\n",
       "      <th>stop</th>\n",
       "      <th>stopMove</th>\n",
       "      <th>limit</th>\n",
       "    </tr>\n",
       "  </thead>\n",
       "  <tbody>\n",
       "    <tr>\n",
       "      <th>0</th>\n",
       "      <td>1</td>\n",
       "      <td>5</td>\n",
       "      <td>177592931</td>\n",
       "      <td>01307575</td>\n",
       "      <td>1307575</td>\n",
       "      <td>0</td>\n",
       "      <td>0</td>\n",
       "      <td>1.1569</td>\n",
       "      <td></td>\n",
       "      <td>-0.16426</td>\n",
       "      <td>...</td>\n",
       "      <td>16.65</td>\n",
       "      <td>384334474</td>\n",
       "      <td>None</td>\n",
       "      <td>Request-110028</td>\n",
       "      <td>None</td>\n",
       "      <td>none</td>\n",
       "      <td>-1</td>\n",
       "      <td>0</td>\n",
       "      <td>0</td>\n",
       "      <td>0</td>\n",
       "    </tr>\n",
       "    <tr>\n",
       "      <th>1</th>\n",
       "      <td>1</td>\n",
       "      <td>5</td>\n",
       "      <td>177592932</td>\n",
       "      <td>01307575</td>\n",
       "      <td>1307575</td>\n",
       "      <td>0</td>\n",
       "      <td>0</td>\n",
       "      <td>1.1569</td>\n",
       "      <td></td>\n",
       "      <td>-0.16426</td>\n",
       "      <td>...</td>\n",
       "      <td>16.65</td>\n",
       "      <td>384334475</td>\n",
       "      <td>None</td>\n",
       "      <td>Request-110157</td>\n",
       "      <td>None</td>\n",
       "      <td>none</td>\n",
       "      <td>-1</td>\n",
       "      <td>0</td>\n",
       "      <td>0</td>\n",
       "      <td>0</td>\n",
       "    </tr>\n",
       "    <tr>\n",
       "      <th>2</th>\n",
       "      <td>1</td>\n",
       "      <td>5</td>\n",
       "      <td>177592937</td>\n",
       "      <td>01307575</td>\n",
       "      <td>1307575</td>\n",
       "      <td>0</td>\n",
       "      <td>0</td>\n",
       "      <td>1.1569</td>\n",
       "      <td></td>\n",
       "      <td>-0.32852</td>\n",
       "      <td>...</td>\n",
       "      <td>33.30</td>\n",
       "      <td>384334481</td>\n",
       "      <td>None</td>\n",
       "      <td>Request-110370</td>\n",
       "      <td>None</td>\n",
       "      <td>none</td>\n",
       "      <td>-1</td>\n",
       "      <td>0</td>\n",
       "      <td>0</td>\n",
       "      <td>0</td>\n",
       "    </tr>\n",
       "    <tr>\n",
       "      <th>3</th>\n",
       "      <td>1</td>\n",
       "      <td>5</td>\n",
       "      <td>177592938</td>\n",
       "      <td>01307575</td>\n",
       "      <td>1307575</td>\n",
       "      <td>0</td>\n",
       "      <td>0</td>\n",
       "      <td>1.1569</td>\n",
       "      <td></td>\n",
       "      <td>-0.32852</td>\n",
       "      <td>...</td>\n",
       "      <td>33.30</td>\n",
       "      <td>384334482</td>\n",
       "      <td>None</td>\n",
       "      <td>Request-110374</td>\n",
       "      <td>None</td>\n",
       "      <td>none</td>\n",
       "      <td>-1</td>\n",
       "      <td>0</td>\n",
       "      <td>0</td>\n",
       "      <td>0</td>\n",
       "    </tr>\n",
       "  </tbody>\n",
       "</table>\n",
       "<p>4 rows × 28 columns</p>\n",
       "</div>"
      ],
      "text/plain": [
       "   t  ratePrecision    tradeId accountName accountId  roll  com    open  \\\n",
       "0  1              5  177592931    01307575   1307575     0    0  1.1569   \n",
       "1  1              5  177592932    01307575   1307575     0    0  1.1569   \n",
       "2  1              5  177592937    01307575   1307575     0    0  1.1569   \n",
       "3  1              5  177592938    01307575   1307575     0    0  1.1569   \n",
       "\n",
       "  valueDate  grossPL  ...  usedMargin    orderId  OpenOrderRequestTXT  \\\n",
       "0           -0.16426  ...       16.65  384334474                 None   \n",
       "1           -0.16426  ...       16.65  384334475                 None   \n",
       "2           -0.32852  ...       33.30  384334481                 None   \n",
       "3           -0.32852  ...       33.30  384334482                 None   \n",
       "\n",
       "   OpenOrderReqID  TradeIDOrigin  child_trailingStop  child_trailing stop  \\\n",
       "0  Request-110028           None                none              -1    0   \n",
       "1  Request-110157           None                none              -1    0   \n",
       "2  Request-110370           None                none              -1    0   \n",
       "3  Request-110374           None                none              -1    0   \n",
       "\n",
       "   stopMove limit  \n",
       "0         0     0  \n",
       "1         0     0  \n",
       "2         0     0  \n",
       "3         0     0  \n",
       "\n",
       "[4 rows x 28 columns]"
      ]
     },
     "execution_count": 13,
     "metadata": {},
     "output_type": "execute_result"
    }
   ],
   "source": [
    "api.get_open_positions()"
   ]
  },
  {
   "cell_type": "code",
   "execution_count": 16,
   "metadata": {},
   "outputs": [
    {
     "name": "stderr",
     "output_type": "stream",
     "text": [
      "Exception in thread Thread-47736:\n",
      "Traceback (most recent call last):\n",
      "  File \"/usr/local/Cellar/python@3.8/3.8.11/Frameworks/Python.framework/Versions/3.8/lib/python3.8/threading.py\", line 932, in _bootstrap_inner\n",
      "    self.run()\n",
      "  File \"/usr/local/Cellar/python@3.8/3.8.11/Frameworks/Python.framework/Versions/3.8/lib/python3.8/threading.py\", line 870, in run\n",
      "    self._target(*self._args, **self._kwargs)\n",
      "  File \"/usr/local/lib/python3.8/site-packages/socketio/client.py\", line 616, in _handle_eio_message\n",
      "    self._handle_event(pkt.namespace, pkt.id, pkt.data)\n",
      "  File \"/usr/local/lib/python3.8/site-packages/socketio/client.py\", line 500, in _handle_event\n",
      "    r = self._trigger_event(data[0], namespace, *data[1:])\n",
      "  File \"/usr/local/lib/python3.8/site-packages/socketio/client.py\", line 550, in _trigger_event\n",
      "    return self.handlers[namespace][event](*args)\n",
      "  File \"/usr/local/lib/python3.8/site-packages/fxcmpy/fxcmpy.py\", line 2695, in __on_open_pos_update__\n",
      "    pos = self.open_pos[trade_id]\n",
      "KeyError: 177755168\n"
     ]
    },
    {
     "data": {
      "text/plain": [
       "<fxcmpy.fxcmpy_order.fxcmpy_order at 0x11dc7b850>"
      ]
     },
     "execution_count": 16,
     "metadata": {},
     "output_type": "execute_result"
    }
   ],
   "source": [
    "#col = [\"tradeId\", \"amountK\", \"currency\", \"grossPL\", \"isBuy\"]\n",
    "con.open_trade(symbol='LTC/USD', is_buy=True, amount=5, time_in_force='GTC', order_type='AtMarket')"
   ]
  },
  {
   "cell_type": "code",
   "execution_count": 20,
   "metadata": {},
   "outputs": [],
   "source": [
    "open_df = api.get_open_positions()"
   ]
  },
  {
   "cell_type": "code",
   "execution_count": 23,
   "metadata": {},
   "outputs": [
    {
     "data": {
      "text/plain": [
       "Index(['t', 'ratePrecision', 'tradeId', 'accountName', 'accountId', 'roll',\n",
       "       'com', 'open', 'valueDate', 'grossPL', 'close', 'visiblePL',\n",
       "       'isDisabled', 'currency', 'isBuy', 'amountK', 'currencyPoint', 'time',\n",
       "       'usedMargin', 'orderId', 'OpenOrderRequestTXT', 'OpenOrderReqID',\n",
       "       'TradeIDOrigin', 'child_trailingStop', 'child_trailing', 'stop',\n",
       "       'stopMove', 'limit'],\n",
       "      dtype='object')"
      ]
     },
     "execution_count": 23,
     "metadata": {},
     "output_type": "execute_result"
    }
   ],
   "source": [
    "open_df.columns"
   ]
  },
  {
   "cell_type": "code",
   "execution_count": 39,
   "metadata": {},
   "outputs": [
    {
     "data": {
      "text/plain": [
       "-4.09847"
      ]
     },
     "execution_count": 39,
     "metadata": {},
     "output_type": "execute_result"
    }
   ],
   "source": [
    "api.get_accounts_summary()['dayPL'][0]"
   ]
  },
  {
   "cell_type": "code",
   "execution_count": 29,
   "metadata": {},
   "outputs": [],
   "source": [
    "open_pos = api.get_open_positions()"
   ]
  },
  {
   "cell_type": "code",
   "execution_count": 32,
   "metadata": {},
   "outputs": [],
   "source": [
    "open_pos_cur = open_pos[open_pos[\"currency\"]==\"ETH/USD\"]"
   ]
  },
  {
   "cell_type": "code",
   "execution_count": 33,
   "metadata": {},
   "outputs": [
    {
     "data": {
      "text/html": [
       "<div>\n",
       "<style scoped>\n",
       "    .dataframe tbody tr th:only-of-type {\n",
       "        vertical-align: middle;\n",
       "    }\n",
       "\n",
       "    .dataframe tbody tr th {\n",
       "        vertical-align: top;\n",
       "    }\n",
       "\n",
       "    .dataframe thead th {\n",
       "        text-align: right;\n",
       "    }\n",
       "</style>\n",
       "<table border=\"1\" class=\"dataframe\">\n",
       "  <thead>\n",
       "    <tr style=\"text-align: right;\">\n",
       "      <th></th>\n",
       "      <th>t</th>\n",
       "      <th>ratePrecision</th>\n",
       "      <th>tradeId</th>\n",
       "      <th>accountName</th>\n",
       "      <th>accountId</th>\n",
       "      <th>roll</th>\n",
       "      <th>com</th>\n",
       "      <th>open</th>\n",
       "      <th>valueDate</th>\n",
       "      <th>grossPL</th>\n",
       "      <th>...</th>\n",
       "      <th>usedMargin</th>\n",
       "      <th>orderId</th>\n",
       "      <th>OpenOrderRequestTXT</th>\n",
       "      <th>OpenOrderReqID</th>\n",
       "      <th>TradeIDOrigin</th>\n",
       "      <th>child_trailingStop</th>\n",
       "      <th>child_trailing</th>\n",
       "      <th>stop</th>\n",
       "      <th>stopMove</th>\n",
       "      <th>limit</th>\n",
       "    </tr>\n",
       "  </thead>\n",
       "  <tbody>\n",
       "    <tr>\n",
       "      <th>0</th>\n",
       "      <td>1</td>\n",
       "      <td>2</td>\n",
       "      <td>177755118</td>\n",
       "      <td>01307575</td>\n",
       "      <td>1307575</td>\n",
       "      <td>0</td>\n",
       "      <td>0</td>\n",
       "      <td>4413.45</td>\n",
       "      <td></td>\n",
       "      <td>0.86873</td>\n",
       "      <td>...</td>\n",
       "      <td>192.06564</td>\n",
       "      <td>384846883</td>\n",
       "      <td>None</td>\n",
       "      <td>Request-1741513</td>\n",
       "      <td>None</td>\n",
       "      <td>none</td>\n",
       "      <td>-1</td>\n",
       "      <td>0</td>\n",
       "      <td>0</td>\n",
       "      <td>0</td>\n",
       "    </tr>\n",
       "    <tr>\n",
       "      <th>1</th>\n",
       "      <td>1</td>\n",
       "      <td>2</td>\n",
       "      <td>177755121</td>\n",
       "      <td>01307575</td>\n",
       "      <td>1307575</td>\n",
       "      <td>0</td>\n",
       "      <td>0</td>\n",
       "      <td>4413.05</td>\n",
       "      <td></td>\n",
       "      <td>0.93965</td>\n",
       "      <td>...</td>\n",
       "      <td>192.06564</td>\n",
       "      <td>384846886</td>\n",
       "      <td>None</td>\n",
       "      <td>Request-1741674</td>\n",
       "      <td>None</td>\n",
       "      <td>none</td>\n",
       "      <td>-1</td>\n",
       "      <td>0</td>\n",
       "      <td>0</td>\n",
       "      <td>0</td>\n",
       "    </tr>\n",
       "  </tbody>\n",
       "</table>\n",
       "<p>2 rows × 28 columns</p>\n",
       "</div>"
      ],
      "text/plain": [
       "   t  ratePrecision    tradeId accountName accountId  roll  com     open  \\\n",
       "0  1              2  177755118    01307575   1307575     0    0  4413.45   \n",
       "1  1              2  177755121    01307575   1307575     0    0  4413.05   \n",
       "\n",
       "  valueDate  grossPL  ...  usedMargin    orderId  OpenOrderRequestTXT  \\\n",
       "0            0.86873  ...   192.06564  384846883                 None   \n",
       "1            0.93965  ...   192.06564  384846886                 None   \n",
       "\n",
       "    OpenOrderReqID  TradeIDOrigin  child_trailingStop  child_trailing stop  \\\n",
       "0  Request-1741513           None                none              -1    0   \n",
       "1  Request-1741674           None                none              -1    0   \n",
       "\n",
       "   stopMove limit  \n",
       "0         0     0  \n",
       "1         0     0  \n",
       "\n",
       "[2 rows x 28 columns]"
      ]
     },
     "execution_count": 33,
     "metadata": {},
     "output_type": "execute_result"
    }
   ],
   "source": [
    "open_pos_cur"
   ]
  },
  {
   "cell_type": "code",
   "execution_count": 45,
   "metadata": {},
   "outputs": [],
   "source": [
    "api.close_all()"
   ]
  },
  {
   "cell_type": "code",
   "execution_count": 41,
   "metadata": {},
   "outputs": [
    {
     "name": "stderr",
     "output_type": "stream",
     "text": [
      "Exception in thread Thread-123233:\n",
      "Traceback (most recent call last):\n",
      "  File \"/usr/local/Cellar/python@3.8/3.8.11/Frameworks/Python.framework/Versions/3.8/lib/python3.8/threading.py\", line 932, in _bootstrap_inner\n",
      "    self.run()\n",
      "  File \"/usr/local/Cellar/python@3.8/3.8.11/Frameworks/Python.framework/Versions/3.8/lib/python3.8/threading.py\", line 870, in run\n",
      "    self._target(*self._args, **self._kwargs)\n",
      "  File \"/usr/local/lib/python3.8/site-packages/socketio/client.py\", line 616, in _handle_eio_message\n",
      "    self._handle_event(pkt.namespace, pkt.id, pkt.data)\n",
      "  File \"/usr/local/lib/python3.8/site-packages/socketio/client.py\", line 500, in _handle_event\n",
      "    r = self._trigger_event(data[0], namespace, *data[1:])\n",
      "  File \"/usr/local/lib/python3.8/site-packages/socketio/client.py\", line 550, in _trigger_event\n",
      "    return self.handlers[namespace][event](*args)\n",
      "  File \"/usr/local/lib/python3.8/site-packages/fxcmpy/fxcmpy.py\", line 2695, in __on_open_pos_update__\n",
      "    pos = self.open_pos[trade_id]\n",
      "KeyError: 177755235\n"
     ]
    },
    {
     "data": {
      "text/plain": [
       "<fxcmpy.fxcmpy_order.fxcmpy_order at 0x11e242640>"
      ]
     },
     "execution_count": 41,
     "metadata": {},
     "output_type": "execute_result"
    }
   ],
   "source": [
    "api.create_market_sell_order(\"EUR/USD\", 100)"
   ]
  },
  {
   "cell_type": "code",
   "execution_count": 48,
   "metadata": {},
   "outputs": [
    {
     "data": {
      "text/html": [
       "<div>\n",
       "<style scoped>\n",
       "    .dataframe tbody tr th:only-of-type {\n",
       "        vertical-align: middle;\n",
       "    }\n",
       "\n",
       "    .dataframe tbody tr th {\n",
       "        vertical-align: top;\n",
       "    }\n",
       "\n",
       "    .dataframe thead th {\n",
       "        text-align: right;\n",
       "    }\n",
       "</style>\n",
       "<table border=\"1\" class=\"dataframe\">\n",
       "  <thead>\n",
       "    <tr style=\"text-align: right;\">\n",
       "      <th></th>\n",
       "    </tr>\n",
       "  </thead>\n",
       "  <tbody>\n",
       "  </tbody>\n",
       "</table>\n",
       "</div>"
      ],
      "text/plain": [
       "Empty DataFrame\n",
       "Columns: []\n",
       "Index: []"
      ]
     },
     "execution_count": 48,
     "metadata": {},
     "output_type": "execute_result"
    }
   ],
   "source": [
    "api.get_open_positions()"
   ]
  },
  {
   "cell_type": "code",
   "execution_count": 49,
   "metadata": {},
   "outputs": [],
   "source": [
    "api.close()"
   ]
  },
  {
   "cell_type": "code",
   "execution_count": null,
   "metadata": {},
   "outputs": [],
   "source": [
    "api.close_all_for_symbol(\"EUR/USD\")"
   ]
  },
  {
   "cell_type": "code",
   "execution_count": null,
   "metadata": {},
   "outputs": [],
   "source": [
    "api.get_closed_positions()[col]"
   ]
  },
  {
   "cell_type": "code",
   "execution_count": null,
   "metadata": {},
   "outputs": [],
   "source": [
    "api.get_closed_positions_summary()[col]"
   ]
  },
  {
   "cell_type": "code",
   "execution_count": null,
   "metadata": {},
   "outputs": [],
   "source": [
    "api.get_accounts().T"
   ]
  },
  {
   "cell_type": "code",
   "execution_count": null,
   "metadata": {},
   "outputs": [],
   "source": [
    "api.close()"
   ]
  },
  {
   "cell_type": "code",
   "execution_count": 2,
   "metadata": {},
   "outputs": [
    {
     "data": {
      "text/plain": [
       "'/Users/usam/eclipse-workspace/eclipse_project'"
      ]
     },
     "execution_count": 2,
     "metadata": {},
     "output_type": "execute_result"
    }
   ],
   "source": [
    "import os\n",
    "os.getcwd()"
   ]
  },
  {
   "cell_type": "code",
   "execution_count": 3,
   "metadata": {},
   "outputs": [],
   "source": [
    "import numpy as np\n",
    "import pandas as pd\n",
    "df = pd.DataFrame(np.random.randint(0,100,size=(100, 4)), columns=list('ABCD'))"
   ]
  },
  {
   "cell_type": "code",
   "execution_count": 4,
   "metadata": {},
   "outputs": [
    {
     "data": {
      "text/html": [
       "<div>\n",
       "<style scoped>\n",
       "    .dataframe tbody tr th:only-of-type {\n",
       "        vertical-align: middle;\n",
       "    }\n",
       "\n",
       "    .dataframe tbody tr th {\n",
       "        vertical-align: top;\n",
       "    }\n",
       "\n",
       "    .dataframe thead th {\n",
       "        text-align: right;\n",
       "    }\n",
       "</style>\n",
       "<table border=\"1\" class=\"dataframe\">\n",
       "  <thead>\n",
       "    <tr style=\"text-align: right;\">\n",
       "      <th></th>\n",
       "      <th>A</th>\n",
       "      <th>B</th>\n",
       "      <th>C</th>\n",
       "      <th>D</th>\n",
       "    </tr>\n",
       "  </thead>\n",
       "  <tbody>\n",
       "    <tr>\n",
       "      <th>0</th>\n",
       "      <td>54</td>\n",
       "      <td>36</td>\n",
       "      <td>80</td>\n",
       "      <td>47</td>\n",
       "    </tr>\n",
       "    <tr>\n",
       "      <th>1</th>\n",
       "      <td>79</td>\n",
       "      <td>19</td>\n",
       "      <td>49</td>\n",
       "      <td>9</td>\n",
       "    </tr>\n",
       "    <tr>\n",
       "      <th>2</th>\n",
       "      <td>8</td>\n",
       "      <td>50</td>\n",
       "      <td>16</td>\n",
       "      <td>20</td>\n",
       "    </tr>\n",
       "    <tr>\n",
       "      <th>3</th>\n",
       "      <td>95</td>\n",
       "      <td>92</td>\n",
       "      <td>88</td>\n",
       "      <td>95</td>\n",
       "    </tr>\n",
       "    <tr>\n",
       "      <th>4</th>\n",
       "      <td>18</td>\n",
       "      <td>68</td>\n",
       "      <td>17</td>\n",
       "      <td>33</td>\n",
       "    </tr>\n",
       "    <tr>\n",
       "      <th>...</th>\n",
       "      <td>...</td>\n",
       "      <td>...</td>\n",
       "      <td>...</td>\n",
       "      <td>...</td>\n",
       "    </tr>\n",
       "    <tr>\n",
       "      <th>95</th>\n",
       "      <td>61</td>\n",
       "      <td>7</td>\n",
       "      <td>71</td>\n",
       "      <td>23</td>\n",
       "    </tr>\n",
       "    <tr>\n",
       "      <th>96</th>\n",
       "      <td>34</td>\n",
       "      <td>37</td>\n",
       "      <td>80</td>\n",
       "      <td>19</td>\n",
       "    </tr>\n",
       "    <tr>\n",
       "      <th>97</th>\n",
       "      <td>71</td>\n",
       "      <td>26</td>\n",
       "      <td>47</td>\n",
       "      <td>5</td>\n",
       "    </tr>\n",
       "    <tr>\n",
       "      <th>98</th>\n",
       "      <td>54</td>\n",
       "      <td>39</td>\n",
       "      <td>80</td>\n",
       "      <td>12</td>\n",
       "    </tr>\n",
       "    <tr>\n",
       "      <th>99</th>\n",
       "      <td>51</td>\n",
       "      <td>61</td>\n",
       "      <td>43</td>\n",
       "      <td>1</td>\n",
       "    </tr>\n",
       "  </tbody>\n",
       "</table>\n",
       "<p>100 rows × 4 columns</p>\n",
       "</div>"
      ],
      "text/plain": [
       "     A   B   C   D\n",
       "0   54  36  80  47\n",
       "1   79  19  49   9\n",
       "2    8  50  16  20\n",
       "3   95  92  88  95\n",
       "4   18  68  17  33\n",
       "..  ..  ..  ..  ..\n",
       "95  61   7  71  23\n",
       "96  34  37  80  19\n",
       "97  71  26  47   5\n",
       "98  54  39  80  12\n",
       "99  51  61  43   1\n",
       "\n",
       "[100 rows x 4 columns]"
      ]
     },
     "execution_count": 4,
     "metadata": {},
     "output_type": "execute_result"
    }
   ],
   "source": [
    "df"
   ]
  },
  {
   "cell_type": "code",
   "execution_count": 5,
   "metadata": {},
   "outputs": [],
   "source": [
    "df.to_csv(\"./hist_data/LTC/m1/LTC_m1.csv\")"
   ]
  },
  {
   "cell_type": "code",
   "execution_count": null,
   "metadata": {},
   "outputs": [],
   "source": []
  }
 ],
 "metadata": {
  "kernelspec": {
   "display_name": "Python 3",
   "language": "python",
   "name": "python3"
  },
  "language_info": {
   "codemirror_mode": {
    "name": "ipython",
    "version": 3
   },
   "file_extension": ".py",
   "mimetype": "text/x-python",
   "name": "python",
   "nbconvert_exporter": "python",
   "pygments_lexer": "ipython3",
   "version": "3.8.11"
  }
 },
 "nbformat": 4,
 "nbformat_minor": 2
}
